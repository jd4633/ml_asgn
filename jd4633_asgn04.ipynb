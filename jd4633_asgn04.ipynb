{
 "cells": [
  {
   "cell_type": "markdown",
   "id": "0864fdfc",
   "metadata": {},
   "source": [
    "## Task 1: Load the KDD99Cup data and prepare to train DOS vs non-DOS\n",
    "We have downloaded the the KDD99Cup data and have it in the local directory as \"kddcup.data\". We have also created a file called \"kddcup.headers\" in the local directory, which is a space delimited list of the header names for the features. We load the data into a DataFrame. We create a target array which is 1 for DOS attacks and 0 for all other records.\n",
    "\n",
    "Since SVM is very computationally expensive, we reduce our data set to 100,000 DOS records and 100,000 non-DOS records. We then use OneHotEncoder to encode the categorical columns, and finally scale our columns using MinMaxScaler."
   ]
  },
  {
   "cell_type": "code",
   "execution_count": 1,
   "id": "ce747a0a",
   "metadata": {},
   "outputs": [],
   "source": [
    "# Load kddcup data. This was downloaded and placed in the same directory as the notebook.\n",
    "# For header names, use file we created in the local directory called \"kddcup.headers\".\n",
    "import pandas as pd\n",
    "import numpy as np\n",
    "import timeit\n",
    "\n",
    "df = pd.read_csv('kddcup.data')\n",
    "headers = np.genfromtxt('kddcup.headers', dtype=str, delimiter=\" \")"
   ]
  },
  {
   "cell_type": "code",
   "execution_count": 2,
   "id": "0369f5e6",
   "metadata": {},
   "outputs": [
    {
     "name": "stdout",
     "output_type": "stream",
     "text": [
      "shape of data set: (4898430, 42)\n",
      "shape of X: (4898430, 41)\n",
      "shape of y_raw: (4898430,)\n",
      "\n",
      "Count of records of each type:\n",
      "normal.: 972780\n",
      "buffer_overflow.: 30\n",
      "loadmodule.: 9\n",
      "perl.: 3\n",
      "neptune.: 1072017\n",
      "smurf.: 2807886\n",
      "guess_passwd.: 53\n",
      "pod.: 264\n",
      "teardrop.: 979\n",
      "portsweep.: 10413\n",
      "ipsweep.: 12481\n",
      "land.: 21\n",
      "ftp_write.: 8\n",
      "back.: 2203\n",
      "imap.: 12\n",
      "satan.: 15892\n",
      "phf.: 4\n",
      "nmap.: 2316\n",
      "multihop.: 7\n",
      "warezmaster.: 20\n",
      "warezclient.: 1020\n",
      "spy.: 2\n",
      "rootkit.: 10\n"
     ]
    }
   ],
   "source": [
    "# Print the shape of the original data set, for reference\n",
    "print(f\"shape of data set: {df.shape}\")\n",
    "\n",
    "# Set the feature set (X) to columns 0-40 of the data set. Set the headers of the feature set using the\n",
    "# file we imported above.\n",
    "X = df.iloc[:, 0:41]\n",
    "X.columns = headers\n",
    "print(f\"shape of X: {X.shape}\")\n",
    "\n",
    "# Create an ndarray \"y_raw\" with the target labels from column 41 of the data set. Call it \"y_raw\" as we\n",
    "# will encode it to create our target array y.\n",
    "y_raw = df.iloc[:, 41].values\n",
    "print(f\"shape of y_raw: {y_raw.shape}\")\n",
    "print()\n",
    "\n",
    "#Print the number of records of each class\n",
    "from collections import Counter\n",
    "class_counts = Counter(y_raw)\n",
    "print(\"Count of records of each type:\")\n",
    "for c in class_counts:\n",
    "    print(f\"{c}: {class_counts[c]}\")"
   ]
  },
  {
   "cell_type": "code",
   "execution_count": 3,
   "id": "eeb452d2",
   "metadata": {},
   "outputs": [
    {
     "name": "stdout",
     "output_type": "stream",
     "text": [
      "Counter({'icmp': 2833545, 'tcp': 1870597, 'udp': 194288})\n",
      "Counter({'ecr_i': 2811660, 'private': 1100831, 'http': 623090, 'smtp': 96554, 'other': 72653, 'domain_u': 57782, 'ftp_data': 40697, 'eco_i': 16338, 'finger': 6891, 'urp_i': 5378, 'ftp': 5214, 'telnet': 4277, 'ntp_u': 3833, 'auth': 3382, 'pop_3': 1981, 'time': 1579, 'domain': 1113, 'Z39_50': 1078, 'gopher': 1077, 'mtp': 1076, 'ssh': 1075, 'whois': 1073, 'remote_job': 1073, 'rje': 1070, 'link': 1069, 'imap4': 1069, 'ctf': 1068, 'name': 1067, 'supdup': 1060, 'echo': 1059, 'discard': 1059, 'nntp': 1059, 'uucp_path': 1057, 'netstat': 1056, 'daytime': 1056, 'systat': 1056, 'sunrpc': 1056, 'netbios_ssn': 1055, 'pop_2': 1055, 'netbios_ns': 1054, 'vmnet': 1053, 'netbios_dgm': 1052, 'sql_net': 1052, 'iso_tsap': 1052, 'shell': 1051, 'csnet_ns': 1051, 'klogin': 1050, 'hostnames': 1050, 'bgp': 1047, 'login': 1045, 'exec': 1045, 'printer': 1045, 'http_443': 1044, 'efs': 1042, 'uucp': 1041, 'ldap': 1041, 'kshell': 1040, 'nnsp': 1038, 'courier': 1021, 'IRC': 521, 'urh_i': 148, 'X11': 135, 'tim_i': 12, 'red_i': 9, 'pm_dump': 5, 'tftp_u': 3, 'harvest': 2, 'aol': 2, 'http_8001': 2, 'http_2784': 1})\n",
      "Counter({'SF': 3744327, 'S0': 869829, 'REJ': 268874, 'RSTR': 8094, 'RSTO': 5344, 'SH': 1040, 'S1': 532, 'S2': 161, 'RSTOS0': 122, 'OTH': 57, 'S3': 50})\n"
     ]
    }
   ],
   "source": [
    "# Look at the occurence of the different categories in the categorical features\n",
    "print(Counter(X['protocol_type']))\n",
    "print(Counter(X['service']))\n",
    "print(Counter(X['flag']))"
   ]
  },
  {
   "cell_type": "code",
   "execution_count": 4,
   "id": "e7c5a09a",
   "metadata": {},
   "outputs": [],
   "source": [
    "# Define a function for converting target labels to 1 (DOS) or 0 (non-DOS). We will use this function\n",
    "# to encode the target array.\n",
    "dosAttackTypes = [\"back.\", \"land.\", \"neptune.\", \"pod.\", \"smurf.\", \"teardrop.\"]\n",
    "\n",
    "def DOSEncode(x):\n",
    "    if (x in dosAttackTypes):\n",
    "        return 1\n",
    "    else:\n",
    "        return 0"
   ]
  },
  {
   "cell_type": "code",
   "execution_count": 5,
   "id": "8deda9d6",
   "metadata": {},
   "outputs": [
    {
     "name": "stdout",
     "output_type": "stream",
     "text": [
      "Counter({1: 3883370, 0: 1015060})\n"
     ]
    }
   ],
   "source": [
    "# Use the Dataframe function \"applymap\" to apply our encoding function \"DOSEncode\" to convert the target\n",
    "# labels into 1's and 0's.\n",
    "labels=pd.DataFrame(data=y_raw)\n",
    "labels2 = labels.applymap(DOSEncode)\n",
    "y = labels2[0].values\n",
    "\n",
    "# Print out the counts of the encoded values.\n",
    "print(Counter(y))"
   ]
  },
  {
   "cell_type": "code",
   "execution_count": 6,
   "id": "5655d1fe",
   "metadata": {},
   "outputs": [
    {
     "name": "stdout",
     "output_type": "stream",
     "text": [
      "(4898430, 43)\n"
     ]
    }
   ],
   "source": [
    "# Use OneHotEncoder on protocol_type\n",
    "from sklearn.preprocessing import OneHotEncoder\n",
    "\n",
    "# Create a dataframe of encoded data from \"protocol_type\"\n",
    "enc = OneHotEncoder(sparse=False)\n",
    "X2 = pd.DataFrame(enc.fit_transform(X[['protocol_type']]))\n",
    "X2.columns = enc.get_feature_names_out(['protocol_type'])\n",
    "\n",
    "# Drop the original \"protocol_type\" column, and merge in the new encoded columns\n",
    "X3 = X.copy()\n",
    "X3.drop(['protocol_type'], axis=1, inplace=True)\n",
    "X4 = pd.concat([X3, X2], axis=1)\n",
    "\n",
    "# Print the resultant shape\n",
    "print(X4.shape)"
   ]
  },
  {
   "cell_type": "code",
   "execution_count": 7,
   "id": "b888aef8",
   "metadata": {},
   "outputs": [
    {
     "name": "stdout",
     "output_type": "stream",
     "text": [
      "(4898430, 112)\n"
     ]
    }
   ],
   "source": [
    "# Use OneHotEncoder on service\n",
    "\n",
    "# Create a dataframe of encoded data from \"service\"\n",
    "X5 = pd.DataFrame(enc.fit_transform(X4[['service']]))\n",
    "X5.columns = enc.get_feature_names_out(['service'])\n",
    "\n",
    "# Drop the original \"service\" column, and merge in the new encoded columns\n",
    "X6 = X4.copy()\n",
    "X6.drop(['service'], axis=1, inplace=True)\n",
    "X7 = pd.concat([X6, X5 ], axis=1)\n",
    "\n",
    "# Print the resultant shape\n",
    "print(X7.shape)"
   ]
  },
  {
   "cell_type": "code",
   "execution_count": 8,
   "id": "3fe317ad",
   "metadata": {},
   "outputs": [
    {
     "name": "stdout",
     "output_type": "stream",
     "text": [
      "(4898430, 122)\n"
     ]
    }
   ],
   "source": [
    "# Use OneHotEncoder on flag\n",
    "\n",
    "# Create a dataframe of encoded data from \"flag\"\n",
    "X8 = pd.DataFrame(enc.fit_transform(X7[['flag']]))\n",
    "X8.columns = enc.get_feature_names_out(['flag'])\n",
    "\n",
    "# Drop the original \"flag\" column, and merge in the new encoded columns\n",
    "X9 = X7.copy()\n",
    "X9.drop(['flag'], axis=1, inplace=True)\n",
    "X10 = pd.concat([X9, X8], axis=1)\n",
    "\n",
    "# Print the resultant shape\n",
    "print(X10.shape)"
   ]
  },
  {
   "cell_type": "code",
   "execution_count": 9,
   "id": "0f7371ed",
   "metadata": {},
   "outputs": [
    {
     "name": "stdout",
     "output_type": "stream",
     "text": [
      "Original dataset shape Counter({1: 3883370, 0: 1015060})\n",
      "Resampled dataset shape: (400000, 122)\n",
      "Count of label values: Counter({0: 200000, 1: 200000})\n"
     ]
    }
   ],
   "source": [
    "# The dataset is unbalanced, we have many more failure cases than success cases. Use RandomUnderSampler to \n",
    "# balance the number of records of each type.\n",
    "from collections import Counter\n",
    "from imblearn.under_sampling import RandomUnderSampler \n",
    "\n",
    "# Print the shape of the original data set\n",
    "print('Original dataset shape %s' % Counter(y))\n",
    "\n",
    "# Use RandomUnderSampler, to take 100,000 DOS records and 100,000 non-DOS records\n",
    "# Had to limit to only that number of samples, or else SVM was not converging in a reasonable amount of time\n",
    "rus = RandomUnderSampler(random_state=0, sampling_strategy={1:200000, 0:200000})\n",
    "X11, y1 = rus.fit_resample(X10, y)\n",
    "\n",
    "# Print shape of resampled data set, and count of label values in the target array\n",
    "print(f'Resampled dataset shape: {X11.shape}')\n",
    "print(f'Count of label values: {Counter(y1)}')"
   ]
  },
  {
   "cell_type": "code",
   "execution_count": 10,
   "id": "3452c278",
   "metadata": {},
   "outputs": [
    {
     "data": {
      "text/html": [
       "<div>\n",
       "<style scoped>\n",
       "    .dataframe tbody tr th:only-of-type {\n",
       "        vertical-align: middle;\n",
       "    }\n",
       "\n",
       "    .dataframe tbody tr th {\n",
       "        vertical-align: top;\n",
       "    }\n",
       "\n",
       "    .dataframe thead th {\n",
       "        text-align: right;\n",
       "    }\n",
       "</style>\n",
       "<table border=\"1\" class=\"dataframe\">\n",
       "  <thead>\n",
       "    <tr style=\"text-align: right;\">\n",
       "      <th></th>\n",
       "      <th>duration</th>\n",
       "      <th>src_bytes</th>\n",
       "      <th>dst_bytes</th>\n",
       "      <th>land</th>\n",
       "      <th>wrong_fragment</th>\n",
       "      <th>urgent</th>\n",
       "      <th>hot</th>\n",
       "      <th>num_failed_logins</th>\n",
       "      <th>logged_in</th>\n",
       "      <th>num_compromised</th>\n",
       "      <th>...</th>\n",
       "      <th>flag_REJ</th>\n",
       "      <th>flag_RSTO</th>\n",
       "      <th>flag_RSTOS0</th>\n",
       "      <th>flag_RSTR</th>\n",
       "      <th>flag_S0</th>\n",
       "      <th>flag_S1</th>\n",
       "      <th>flag_S2</th>\n",
       "      <th>flag_S3</th>\n",
       "      <th>flag_SF</th>\n",
       "      <th>flag_SH</th>\n",
       "    </tr>\n",
       "  </thead>\n",
       "  <tbody>\n",
       "    <tr>\n",
       "      <th>0</th>\n",
       "      <td>0</td>\n",
       "      <td>253</td>\n",
       "      <td>2174</td>\n",
       "      <td>0</td>\n",
       "      <td>0</td>\n",
       "      <td>0</td>\n",
       "      <td>0</td>\n",
       "      <td>0</td>\n",
       "      <td>1</td>\n",
       "      <td>0</td>\n",
       "      <td>...</td>\n",
       "      <td>0.0</td>\n",
       "      <td>0.0</td>\n",
       "      <td>0.0</td>\n",
       "      <td>0.0</td>\n",
       "      <td>0.0</td>\n",
       "      <td>0.0</td>\n",
       "      <td>0.0</td>\n",
       "      <td>0.0</td>\n",
       "      <td>1.0</td>\n",
       "      <td>0.0</td>\n",
       "    </tr>\n",
       "    <tr>\n",
       "      <th>1</th>\n",
       "      <td>1</td>\n",
       "      <td>1564</td>\n",
       "      <td>673</td>\n",
       "      <td>0</td>\n",
       "      <td>0</td>\n",
       "      <td>0</td>\n",
       "      <td>0</td>\n",
       "      <td>0</td>\n",
       "      <td>1</td>\n",
       "      <td>0</td>\n",
       "      <td>...</td>\n",
       "      <td>0.0</td>\n",
       "      <td>0.0</td>\n",
       "      <td>0.0</td>\n",
       "      <td>0.0</td>\n",
       "      <td>0.0</td>\n",
       "      <td>0.0</td>\n",
       "      <td>0.0</td>\n",
       "      <td>0.0</td>\n",
       "      <td>1.0</td>\n",
       "      <td>0.0</td>\n",
       "    </tr>\n",
       "    <tr>\n",
       "      <th>2</th>\n",
       "      <td>0</td>\n",
       "      <td>349</td>\n",
       "      <td>22780</td>\n",
       "      <td>0</td>\n",
       "      <td>0</td>\n",
       "      <td>0</td>\n",
       "      <td>0</td>\n",
       "      <td>0</td>\n",
       "      <td>1</td>\n",
       "      <td>0</td>\n",
       "      <td>...</td>\n",
       "      <td>0.0</td>\n",
       "      <td>0.0</td>\n",
       "      <td>0.0</td>\n",
       "      <td>0.0</td>\n",
       "      <td>0.0</td>\n",
       "      <td>0.0</td>\n",
       "      <td>0.0</td>\n",
       "      <td>0.0</td>\n",
       "      <td>1.0</td>\n",
       "      <td>0.0</td>\n",
       "    </tr>\n",
       "    <tr>\n",
       "      <th>3</th>\n",
       "      <td>0</td>\n",
       "      <td>311</td>\n",
       "      <td>1310</td>\n",
       "      <td>0</td>\n",
       "      <td>0</td>\n",
       "      <td>0</td>\n",
       "      <td>0</td>\n",
       "      <td>0</td>\n",
       "      <td>1</td>\n",
       "      <td>0</td>\n",
       "      <td>...</td>\n",
       "      <td>0.0</td>\n",
       "      <td>0.0</td>\n",
       "      <td>0.0</td>\n",
       "      <td>0.0</td>\n",
       "      <td>0.0</td>\n",
       "      <td>0.0</td>\n",
       "      <td>0.0</td>\n",
       "      <td>0.0</td>\n",
       "      <td>1.0</td>\n",
       "      <td>0.0</td>\n",
       "    </tr>\n",
       "    <tr>\n",
       "      <th>4</th>\n",
       "      <td>0</td>\n",
       "      <td>215</td>\n",
       "      <td>955</td>\n",
       "      <td>0</td>\n",
       "      <td>0</td>\n",
       "      <td>0</td>\n",
       "      <td>0</td>\n",
       "      <td>0</td>\n",
       "      <td>1</td>\n",
       "      <td>0</td>\n",
       "      <td>...</td>\n",
       "      <td>0.0</td>\n",
       "      <td>0.0</td>\n",
       "      <td>0.0</td>\n",
       "      <td>0.0</td>\n",
       "      <td>0.0</td>\n",
       "      <td>0.0</td>\n",
       "      <td>0.0</td>\n",
       "      <td>0.0</td>\n",
       "      <td>1.0</td>\n",
       "      <td>0.0</td>\n",
       "    </tr>\n",
       "    <tr>\n",
       "      <th>...</th>\n",
       "      <td>...</td>\n",
       "      <td>...</td>\n",
       "      <td>...</td>\n",
       "      <td>...</td>\n",
       "      <td>...</td>\n",
       "      <td>...</td>\n",
       "      <td>...</td>\n",
       "      <td>...</td>\n",
       "      <td>...</td>\n",
       "      <td>...</td>\n",
       "      <td>...</td>\n",
       "      <td>...</td>\n",
       "      <td>...</td>\n",
       "      <td>...</td>\n",
       "      <td>...</td>\n",
       "      <td>...</td>\n",
       "      <td>...</td>\n",
       "      <td>...</td>\n",
       "      <td>...</td>\n",
       "      <td>...</td>\n",
       "      <td>...</td>\n",
       "    </tr>\n",
       "    <tr>\n",
       "      <th>399995</th>\n",
       "      <td>0</td>\n",
       "      <td>1032</td>\n",
       "      <td>0</td>\n",
       "      <td>0</td>\n",
       "      <td>0</td>\n",
       "      <td>0</td>\n",
       "      <td>0</td>\n",
       "      <td>0</td>\n",
       "      <td>0</td>\n",
       "      <td>0</td>\n",
       "      <td>...</td>\n",
       "      <td>0.0</td>\n",
       "      <td>0.0</td>\n",
       "      <td>0.0</td>\n",
       "      <td>0.0</td>\n",
       "      <td>0.0</td>\n",
       "      <td>0.0</td>\n",
       "      <td>0.0</td>\n",
       "      <td>0.0</td>\n",
       "      <td>1.0</td>\n",
       "      <td>0.0</td>\n",
       "    </tr>\n",
       "    <tr>\n",
       "      <th>399996</th>\n",
       "      <td>0</td>\n",
       "      <td>1032</td>\n",
       "      <td>0</td>\n",
       "      <td>0</td>\n",
       "      <td>0</td>\n",
       "      <td>0</td>\n",
       "      <td>0</td>\n",
       "      <td>0</td>\n",
       "      <td>0</td>\n",
       "      <td>0</td>\n",
       "      <td>...</td>\n",
       "      <td>0.0</td>\n",
       "      <td>0.0</td>\n",
       "      <td>0.0</td>\n",
       "      <td>0.0</td>\n",
       "      <td>0.0</td>\n",
       "      <td>0.0</td>\n",
       "      <td>0.0</td>\n",
       "      <td>0.0</td>\n",
       "      <td>1.0</td>\n",
       "      <td>0.0</td>\n",
       "    </tr>\n",
       "    <tr>\n",
       "      <th>399997</th>\n",
       "      <td>0</td>\n",
       "      <td>1032</td>\n",
       "      <td>0</td>\n",
       "      <td>0</td>\n",
       "      <td>0</td>\n",
       "      <td>0</td>\n",
       "      <td>0</td>\n",
       "      <td>0</td>\n",
       "      <td>0</td>\n",
       "      <td>0</td>\n",
       "      <td>...</td>\n",
       "      <td>0.0</td>\n",
       "      <td>0.0</td>\n",
       "      <td>0.0</td>\n",
       "      <td>0.0</td>\n",
       "      <td>0.0</td>\n",
       "      <td>0.0</td>\n",
       "      <td>0.0</td>\n",
       "      <td>0.0</td>\n",
       "      <td>1.0</td>\n",
       "      <td>0.0</td>\n",
       "    </tr>\n",
       "    <tr>\n",
       "      <th>399998</th>\n",
       "      <td>0</td>\n",
       "      <td>1032</td>\n",
       "      <td>0</td>\n",
       "      <td>0</td>\n",
       "      <td>0</td>\n",
       "      <td>0</td>\n",
       "      <td>0</td>\n",
       "      <td>0</td>\n",
       "      <td>0</td>\n",
       "      <td>0</td>\n",
       "      <td>...</td>\n",
       "      <td>0.0</td>\n",
       "      <td>0.0</td>\n",
       "      <td>0.0</td>\n",
       "      <td>0.0</td>\n",
       "      <td>0.0</td>\n",
       "      <td>0.0</td>\n",
       "      <td>0.0</td>\n",
       "      <td>0.0</td>\n",
       "      <td>1.0</td>\n",
       "      <td>0.0</td>\n",
       "    </tr>\n",
       "    <tr>\n",
       "      <th>399999</th>\n",
       "      <td>0</td>\n",
       "      <td>0</td>\n",
       "      <td>0</td>\n",
       "      <td>0</td>\n",
       "      <td>0</td>\n",
       "      <td>0</td>\n",
       "      <td>0</td>\n",
       "      <td>0</td>\n",
       "      <td>0</td>\n",
       "      <td>0</td>\n",
       "      <td>...</td>\n",
       "      <td>0.0</td>\n",
       "      <td>0.0</td>\n",
       "      <td>0.0</td>\n",
       "      <td>0.0</td>\n",
       "      <td>1.0</td>\n",
       "      <td>0.0</td>\n",
       "      <td>0.0</td>\n",
       "      <td>0.0</td>\n",
       "      <td>0.0</td>\n",
       "      <td>0.0</td>\n",
       "    </tr>\n",
       "  </tbody>\n",
       "</table>\n",
       "<p>400000 rows × 122 columns</p>\n",
       "</div>"
      ],
      "text/plain": [
       "        duration  src_bytes  dst_bytes  land  wrong_fragment  urgent  hot  \\\n",
       "0              0        253       2174     0               0       0    0   \n",
       "1              1       1564        673     0               0       0    0   \n",
       "2              0        349      22780     0               0       0    0   \n",
       "3              0        311       1310     0               0       0    0   \n",
       "4              0        215        955     0               0       0    0   \n",
       "...          ...        ...        ...   ...             ...     ...  ...   \n",
       "399995         0       1032          0     0               0       0    0   \n",
       "399996         0       1032          0     0               0       0    0   \n",
       "399997         0       1032          0     0               0       0    0   \n",
       "399998         0       1032          0     0               0       0    0   \n",
       "399999         0          0          0     0               0       0    0   \n",
       "\n",
       "        num_failed_logins  logged_in  num_compromised  ...  flag_REJ  \\\n",
       "0                       0          1                0  ...       0.0   \n",
       "1                       0          1                0  ...       0.0   \n",
       "2                       0          1                0  ...       0.0   \n",
       "3                       0          1                0  ...       0.0   \n",
       "4                       0          1                0  ...       0.0   \n",
       "...                   ...        ...              ...  ...       ...   \n",
       "399995                  0          0                0  ...       0.0   \n",
       "399996                  0          0                0  ...       0.0   \n",
       "399997                  0          0                0  ...       0.0   \n",
       "399998                  0          0                0  ...       0.0   \n",
       "399999                  0          0                0  ...       0.0   \n",
       "\n",
       "        flag_RSTO  flag_RSTOS0  flag_RSTR  flag_S0  flag_S1  flag_S2  flag_S3  \\\n",
       "0             0.0          0.0        0.0      0.0      0.0      0.0      0.0   \n",
       "1             0.0          0.0        0.0      0.0      0.0      0.0      0.0   \n",
       "2             0.0          0.0        0.0      0.0      0.0      0.0      0.0   \n",
       "3             0.0          0.0        0.0      0.0      0.0      0.0      0.0   \n",
       "4             0.0          0.0        0.0      0.0      0.0      0.0      0.0   \n",
       "...           ...          ...        ...      ...      ...      ...      ...   \n",
       "399995        0.0          0.0        0.0      0.0      0.0      0.0      0.0   \n",
       "399996        0.0          0.0        0.0      0.0      0.0      0.0      0.0   \n",
       "399997        0.0          0.0        0.0      0.0      0.0      0.0      0.0   \n",
       "399998        0.0          0.0        0.0      0.0      0.0      0.0      0.0   \n",
       "399999        0.0          0.0        0.0      1.0      0.0      0.0      0.0   \n",
       "\n",
       "        flag_SF  flag_SH  \n",
       "0           1.0      0.0  \n",
       "1           1.0      0.0  \n",
       "2           1.0      0.0  \n",
       "3           1.0      0.0  \n",
       "4           1.0      0.0  \n",
       "...         ...      ...  \n",
       "399995      1.0      0.0  \n",
       "399996      1.0      0.0  \n",
       "399997      1.0      0.0  \n",
       "399998      1.0      0.0  \n",
       "399999      0.0      0.0  \n",
       "\n",
       "[400000 rows x 122 columns]"
      ]
     },
     "execution_count": 10,
     "metadata": {},
     "output_type": "execute_result"
    }
   ],
   "source": [
    "# Store final feature set into X_encoded\n",
    "X_encoded = X11\n",
    "\n",
    "# View dataframe\n",
    "X_encoded"
   ]
  },
  {
   "cell_type": "code",
   "execution_count": 11,
   "id": "7bdc23b4",
   "metadata": {},
   "outputs": [
    {
     "data": {
      "text/html": [
       "<div>\n",
       "<style scoped>\n",
       "    .dataframe tbody tr th:only-of-type {\n",
       "        vertical-align: middle;\n",
       "    }\n",
       "\n",
       "    .dataframe tbody tr th {\n",
       "        vertical-align: top;\n",
       "    }\n",
       "\n",
       "    .dataframe thead th {\n",
       "        text-align: right;\n",
       "    }\n",
       "</style>\n",
       "<table border=\"1\" class=\"dataframe\">\n",
       "  <thead>\n",
       "    <tr style=\"text-align: right;\">\n",
       "      <th></th>\n",
       "      <th>duration</th>\n",
       "      <th>src_bytes</th>\n",
       "      <th>dst_bytes</th>\n",
       "      <th>land</th>\n",
       "      <th>wrong_fragment</th>\n",
       "      <th>urgent</th>\n",
       "      <th>hot</th>\n",
       "      <th>num_failed_logins</th>\n",
       "      <th>logged_in</th>\n",
       "      <th>num_compromised</th>\n",
       "      <th>...</th>\n",
       "      <th>flag_REJ</th>\n",
       "      <th>flag_RSTO</th>\n",
       "      <th>flag_RSTOS0</th>\n",
       "      <th>flag_RSTR</th>\n",
       "      <th>flag_S0</th>\n",
       "      <th>flag_S1</th>\n",
       "      <th>flag_S2</th>\n",
       "      <th>flag_S3</th>\n",
       "      <th>flag_SF</th>\n",
       "      <th>flag_SH</th>\n",
       "    </tr>\n",
       "  </thead>\n",
       "  <tbody>\n",
       "    <tr>\n",
       "      <th>count</th>\n",
       "      <td>400000.000000</td>\n",
       "      <td>4.000000e+05</td>\n",
       "      <td>400000.000000</td>\n",
       "      <td>400000.000000</td>\n",
       "      <td>400000.000000</td>\n",
       "      <td>400000.000000</td>\n",
       "      <td>400000.000000</td>\n",
       "      <td>400000.000000</td>\n",
       "      <td>400000.000000</td>\n",
       "      <td>400000.000000</td>\n",
       "      <td>...</td>\n",
       "      <td>400000.000000</td>\n",
       "      <td>400000.000000</td>\n",
       "      <td>400000.000000</td>\n",
       "      <td>400000.000000</td>\n",
       "      <td>400000.000000</td>\n",
       "      <td>400000.000000</td>\n",
       "      <td>400000.000000</td>\n",
       "      <td>400000.000000</td>\n",
       "      <td>400000.000000</td>\n",
       "      <td>400000.000000</td>\n",
       "    </tr>\n",
       "    <tr>\n",
       "      <th>mean</th>\n",
       "      <td>0.002748</td>\n",
       "      <td>7.650367e-06</td>\n",
       "      <td>0.000141</td>\n",
       "      <td>0.000008</td>\n",
       "      <td>0.000118</td>\n",
       "      <td>0.000006</td>\n",
       "      <td>0.000946</td>\n",
       "      <td>0.000012</td>\n",
       "      <td>0.346065</td>\n",
       "      <td>0.000004</td>\n",
       "      <td>...</td>\n",
       "      <td>0.059772</td>\n",
       "      <td>0.000900</td>\n",
       "      <td>0.000063</td>\n",
       "      <td>0.004047</td>\n",
       "      <td>0.112482</td>\n",
       "      <td>0.000250</td>\n",
       "      <td>0.000082</td>\n",
       "      <td>0.000020</td>\n",
       "      <td>0.821795</td>\n",
       "      <td>0.000555</td>\n",
       "    </tr>\n",
       "    <tr>\n",
       "      <th>std</th>\n",
       "      <td>0.026535</td>\n",
       "      <td>1.594802e-03</td>\n",
       "      <td>0.003057</td>\n",
       "      <td>0.002739</td>\n",
       "      <td>0.010619</td>\n",
       "      <td>0.002041</td>\n",
       "      <td>0.023973</td>\n",
       "      <td>0.002302</td>\n",
       "      <td>0.475715</td>\n",
       "      <td>0.001616</td>\n",
       "      <td>...</td>\n",
       "      <td>0.237065</td>\n",
       "      <td>0.029987</td>\n",
       "      <td>0.007905</td>\n",
       "      <td>0.063491</td>\n",
       "      <td>0.315960</td>\n",
       "      <td>0.015809</td>\n",
       "      <td>0.009083</td>\n",
       "      <td>0.004472</td>\n",
       "      <td>0.382686</td>\n",
       "      <td>0.023552</td>\n",
       "    </tr>\n",
       "    <tr>\n",
       "      <th>min</th>\n",
       "      <td>0.000000</td>\n",
       "      <td>0.000000e+00</td>\n",
       "      <td>0.000000</td>\n",
       "      <td>0.000000</td>\n",
       "      <td>0.000000</td>\n",
       "      <td>0.000000</td>\n",
       "      <td>0.000000</td>\n",
       "      <td>0.000000</td>\n",
       "      <td>0.000000</td>\n",
       "      <td>0.000000</td>\n",
       "      <td>...</td>\n",
       "      <td>0.000000</td>\n",
       "      <td>0.000000</td>\n",
       "      <td>0.000000</td>\n",
       "      <td>0.000000</td>\n",
       "      <td>0.000000</td>\n",
       "      <td>0.000000</td>\n",
       "      <td>0.000000</td>\n",
       "      <td>0.000000</td>\n",
       "      <td>0.000000</td>\n",
       "      <td>0.000000</td>\n",
       "    </tr>\n",
       "    <tr>\n",
       "      <th>25%</th>\n",
       "      <td>0.000000</td>\n",
       "      <td>4.832533e-07</td>\n",
       "      <td>0.000000</td>\n",
       "      <td>0.000000</td>\n",
       "      <td>0.000000</td>\n",
       "      <td>0.000000</td>\n",
       "      <td>0.000000</td>\n",
       "      <td>0.000000</td>\n",
       "      <td>0.000000</td>\n",
       "      <td>0.000000</td>\n",
       "      <td>...</td>\n",
       "      <td>0.000000</td>\n",
       "      <td>0.000000</td>\n",
       "      <td>0.000000</td>\n",
       "      <td>0.000000</td>\n",
       "      <td>0.000000</td>\n",
       "      <td>0.000000</td>\n",
       "      <td>0.000000</td>\n",
       "      <td>0.000000</td>\n",
       "      <td>1.000000</td>\n",
       "      <td>0.000000</td>\n",
       "    </tr>\n",
       "    <tr>\n",
       "      <th>50%</th>\n",
       "      <td>0.000000</td>\n",
       "      <td>1.399133e-06</td>\n",
       "      <td>0.000000</td>\n",
       "      <td>0.000000</td>\n",
       "      <td>0.000000</td>\n",
       "      <td>0.000000</td>\n",
       "      <td>0.000000</td>\n",
       "      <td>0.000000</td>\n",
       "      <td>0.000000</td>\n",
       "      <td>0.000000</td>\n",
       "      <td>...</td>\n",
       "      <td>0.000000</td>\n",
       "      <td>0.000000</td>\n",
       "      <td>0.000000</td>\n",
       "      <td>0.000000</td>\n",
       "      <td>0.000000</td>\n",
       "      <td>0.000000</td>\n",
       "      <td>0.000000</td>\n",
       "      <td>0.000000</td>\n",
       "      <td>1.000000</td>\n",
       "      <td>0.000000</td>\n",
       "    </tr>\n",
       "    <tr>\n",
       "      <th>75%</th>\n",
       "      <td>0.000000</td>\n",
       "      <td>4.749690e-06</td>\n",
       "      <td>0.000033</td>\n",
       "      <td>0.000000</td>\n",
       "      <td>0.000000</td>\n",
       "      <td>0.000000</td>\n",
       "      <td>0.000000</td>\n",
       "      <td>0.000000</td>\n",
       "      <td>1.000000</td>\n",
       "      <td>0.000000</td>\n",
       "      <td>...</td>\n",
       "      <td>0.000000</td>\n",
       "      <td>0.000000</td>\n",
       "      <td>0.000000</td>\n",
       "      <td>0.000000</td>\n",
       "      <td>0.000000</td>\n",
       "      <td>0.000000</td>\n",
       "      <td>0.000000</td>\n",
       "      <td>0.000000</td>\n",
       "      <td>1.000000</td>\n",
       "      <td>0.000000</td>\n",
       "    </tr>\n",
       "    <tr>\n",
       "      <th>max</th>\n",
       "      <td>1.000000</td>\n",
       "      <td>1.000000e+00</td>\n",
       "      <td>1.000000</td>\n",
       "      <td>1.000000</td>\n",
       "      <td>1.000000</td>\n",
       "      <td>1.000000</td>\n",
       "      <td>1.000000</td>\n",
       "      <td>1.000000</td>\n",
       "      <td>1.000000</td>\n",
       "      <td>1.000000</td>\n",
       "      <td>...</td>\n",
       "      <td>1.000000</td>\n",
       "      <td>1.000000</td>\n",
       "      <td>1.000000</td>\n",
       "      <td>1.000000</td>\n",
       "      <td>1.000000</td>\n",
       "      <td>1.000000</td>\n",
       "      <td>1.000000</td>\n",
       "      <td>1.000000</td>\n",
       "      <td>1.000000</td>\n",
       "      <td>1.000000</td>\n",
       "    </tr>\n",
       "  </tbody>\n",
       "</table>\n",
       "<p>8 rows × 122 columns</p>\n",
       "</div>"
      ],
      "text/plain": [
       "            duration     src_bytes      dst_bytes           land  \\\n",
       "count  400000.000000  4.000000e+05  400000.000000  400000.000000   \n",
       "mean        0.002748  7.650367e-06       0.000141       0.000008   \n",
       "std         0.026535  1.594802e-03       0.003057       0.002739   \n",
       "min         0.000000  0.000000e+00       0.000000       0.000000   \n",
       "25%         0.000000  4.832533e-07       0.000000       0.000000   \n",
       "50%         0.000000  1.399133e-06       0.000000       0.000000   \n",
       "75%         0.000000  4.749690e-06       0.000033       0.000000   \n",
       "max         1.000000  1.000000e+00       1.000000       1.000000   \n",
       "\n",
       "       wrong_fragment         urgent            hot  num_failed_logins  \\\n",
       "count   400000.000000  400000.000000  400000.000000      400000.000000   \n",
       "mean         0.000118       0.000006       0.000946           0.000012   \n",
       "std          0.010619       0.002041       0.023973           0.002302   \n",
       "min          0.000000       0.000000       0.000000           0.000000   \n",
       "25%          0.000000       0.000000       0.000000           0.000000   \n",
       "50%          0.000000       0.000000       0.000000           0.000000   \n",
       "75%          0.000000       0.000000       0.000000           0.000000   \n",
       "max          1.000000       1.000000       1.000000           1.000000   \n",
       "\n",
       "           logged_in  num_compromised  ...       flag_REJ      flag_RSTO  \\\n",
       "count  400000.000000    400000.000000  ...  400000.000000  400000.000000   \n",
       "mean        0.346065         0.000004  ...       0.059772       0.000900   \n",
       "std         0.475715         0.001616  ...       0.237065       0.029987   \n",
       "min         0.000000         0.000000  ...       0.000000       0.000000   \n",
       "25%         0.000000         0.000000  ...       0.000000       0.000000   \n",
       "50%         0.000000         0.000000  ...       0.000000       0.000000   \n",
       "75%         1.000000         0.000000  ...       0.000000       0.000000   \n",
       "max         1.000000         1.000000  ...       1.000000       1.000000   \n",
       "\n",
       "         flag_RSTOS0      flag_RSTR        flag_S0        flag_S1  \\\n",
       "count  400000.000000  400000.000000  400000.000000  400000.000000   \n",
       "mean        0.000063       0.004047       0.112482       0.000250   \n",
       "std         0.007905       0.063491       0.315960       0.015809   \n",
       "min         0.000000       0.000000       0.000000       0.000000   \n",
       "25%         0.000000       0.000000       0.000000       0.000000   \n",
       "50%         0.000000       0.000000       0.000000       0.000000   \n",
       "75%         0.000000       0.000000       0.000000       0.000000   \n",
       "max         1.000000       1.000000       1.000000       1.000000   \n",
       "\n",
       "             flag_S2        flag_S3        flag_SF        flag_SH  \n",
       "count  400000.000000  400000.000000  400000.000000  400000.000000  \n",
       "mean        0.000082       0.000020       0.821795       0.000555  \n",
       "std         0.009083       0.004472       0.382686       0.023552  \n",
       "min         0.000000       0.000000       0.000000       0.000000  \n",
       "25%         0.000000       0.000000       1.000000       0.000000  \n",
       "50%         0.000000       0.000000       1.000000       0.000000  \n",
       "75%         0.000000       0.000000       1.000000       0.000000  \n",
       "max         1.000000       1.000000       1.000000       1.000000  \n",
       "\n",
       "[8 rows x 122 columns]"
      ]
     },
     "execution_count": 11,
     "metadata": {},
     "output_type": "execute_result"
    }
   ],
   "source": [
    "# Standardize the feature set data to help with training.\n",
    "from sklearn import preprocessing\n",
    "\n",
    "# Use MinMaxScaler to scale the data set\n",
    "scaler = preprocessing.MinMaxScaler().fit(X_encoded)\n",
    "scaledArray = scaler.transform(X_encoded)\n",
    "X_scaled = pd.DataFrame(data=scaledArray, columns=X_encoded.columns)\n",
    "\n",
    "# View dataframe\n",
    "X_scaled.describe()"
   ]
  },
  {
   "cell_type": "markdown",
   "id": "fa8c0411",
   "metadata": {},
   "source": [
    "### Split data into Test and Train data sets"
   ]
  },
  {
   "cell_type": "code",
   "execution_count": 12,
   "id": "2ac14e18",
   "metadata": {},
   "outputs": [
    {
     "name": "stdout",
     "output_type": "stream",
     "text": [
      "training set shape: (320000, 122)\n",
      "testing set shape: (80000, 122)\n"
     ]
    }
   ],
   "source": [
    "# Split the data into a training set (80%) and testing set (20%).\n",
    "from sklearn.model_selection import train_test_split\n",
    "\n",
    "X_train, X_test, y_train, y_test = train_test_split(X_scaled, y1, test_size=0.2, random_state=0)\n",
    "print(f\"training set shape: {X_train.shape}\")\n",
    "print(f\"testing set shape: {X_test.shape}\")"
   ]
  },
  {
   "cell_type": "markdown",
   "id": "c398392c",
   "metadata": {},
   "source": [
    "## Task 2: Run the SVM Model with 4 Different Kernels, and compare the results"
   ]
  },
  {
   "cell_type": "markdown",
   "id": "040fe6e6",
   "metadata": {},
   "source": [
    "### Train and test with \"rbf\" kernel"
   ]
  },
  {
   "cell_type": "code",
   "execution_count": 13,
   "id": "7613f827",
   "metadata": {},
   "outputs": [
    {
     "name": "stdout",
     "output_type": "stream",
     "text": [
      "{'C': 1.0, 'break_ties': False, 'cache_size': 200, 'class_weight': None, 'coef0': 0.0, 'decision_function_shape': 'ovr', 'degree': 3, 'gamma': 'scale', 'kernel': 'rbf', 'max_iter': -1, 'probability': False, 'random_state': 0, 'shrinking': True, 'tol': 0.001, 'verbose': False}\n",
      "secs to fit: 18.15\n",
      "iterations required: [826]\n"
     ]
    }
   ],
   "source": [
    "# Create RBF classifier and train with the training set.\n",
    "from sklearn.svm import SVC\n",
    "import time\n",
    "\n",
    "svm1 = SVC(kernel='rbf', random_state=0)\n",
    "print(svm1.get_params())\n",
    "\n",
    "# Time how long it takes to train.\n",
    "start = time.time()\n",
    "svm1.fit(X_train, y_train)\n",
    "end = time.time()\n",
    "svm1_train_time = end - start\n",
    "\n",
    "print(f\"secs to fit: {svm1_train_time:.2f}\")\n",
    "print(f\"iterations required: {svm1.n_iter_}\")"
   ]
  },
  {
   "cell_type": "code",
   "execution_count": 14,
   "id": "24522dea",
   "metadata": {},
   "outputs": [
    {
     "name": "stdout",
     "output_type": "stream",
     "text": [
      "secs to predict (training set): 19.79\n"
     ]
    }
   ],
   "source": [
    "# Predict the training set. Time how long it takes to predict.\n",
    "start = time.time()\n",
    "svm1_train_predict = svm1.predict(X_train)\n",
    "end = time.time()\n",
    "svm1_pred_time = end - start\n",
    "\n",
    "print(f\"secs to predict (training set): {svm1_pred_time:.2f}\")"
   ]
  },
  {
   "cell_type": "code",
   "execution_count": 15,
   "id": "78ff836a",
   "metadata": {},
   "outputs": [
    {
     "name": "stdout",
     "output_type": "stream",
     "text": [
      "              precision    recall  f1-score   support\n",
      "\n",
      "      nondos     0.9994    0.9999    0.9997    159826\n",
      "         dos     0.9999    0.9994    0.9997    160174\n",
      "\n",
      "    accuracy                         0.9997    320000\n",
      "   macro avg     0.9997    0.9997    0.9997    320000\n",
      "weighted avg     0.9997    0.9997    0.9997    320000\n",
      "\n"
     ]
    },
    {
     "data": {
      "image/png": "[encoded data removed]",
      "text/plain": [
       "<Figure size 640x480 with 2 Axes>"
      ]
     },
     "metadata": {},
     "output_type": "display_data"
    }
   ],
   "source": [
    "# Print classification report and ConfusionMatrix for training data set\n",
    "from sklearn.metrics import classification_report\n",
    "from sklearn.metrics import confusion_matrix, ConfusionMatrixDisplay\n",
    "import matplotlib.pyplot as plt\n",
    "\n",
    "target_labels = [0, 1]\n",
    "target_names = ['nondos', 'dos']\n",
    "print(classification_report(y_train, svm1_train_predict, labels=target_labels, target_names=target_names, digits=4))\n",
    "\n",
    "ConfusionMatrixDisplay.from_predictions(y_train, svm1_train_predict, values_format=\",\", display_labels = target_names)\n",
    "plt.show()"
   ]
  },
  {
   "cell_type": "code",
   "execution_count": 16,
   "id": "b4fb287e",
   "metadata": {},
   "outputs": [
    {
     "name": "stdout",
     "output_type": "stream",
     "text": [
      "secs to predict (test set): 4.93\n"
     ]
    }
   ],
   "source": [
    "# Predict the test set. Time how long it takes to predict.\n",
    "start = time.time()\n",
    "svm1_test_predict = svm1.predict(X_test)\n",
    "end = time.time()\n",
    "svm1_test_time = end - start\n",
    "\n",
    "print(f\"secs to predict (test set): {svm1_test_time:.2f}\")"
   ]
  },
  {
   "cell_type": "code",
   "execution_count": 17,
   "id": "461fd3af",
   "metadata": {},
   "outputs": [
    {
     "name": "stdout",
     "output_type": "stream",
     "text": [
      "              precision    recall  f1-score   support\n",
      "\n",
      "      nondos     0.9995    0.9999    0.9997     40174\n",
      "         dos     0.9999    0.9994    0.9997     39826\n",
      "\n",
      "    accuracy                         0.9997     80000\n",
      "   macro avg     0.9997    0.9997    0.9997     80000\n",
      "weighted avg     0.9997    0.9997    0.9997     80000\n",
      "\n"
     ]
    },
    {
     "data": {
      "image/png": "[encoded data removed]",
      "text/plain": [
       "<Figure size 640x480 with 2 Axes>"
      ]
     },
     "metadata": {},
     "output_type": "display_data"
    }
   ],
   "source": [
    "# Print classification report and ConfusionMatrix for test data set\n",
    "from sklearn.metrics import classification_report\n",
    "\n",
    "target_labels = [0, 1]\n",
    "target_names = ['nondos', 'dos']\n",
    "print(classification_report(y_test, svm1_test_predict, labels=target_labels, target_names=target_names, digits=4))\n",
    "\n",
    "ConfusionMatrixDisplay.from_predictions(y_test, svm1_test_predict, values_format=\",\", display_labels = target_names)\n",
    "plt.show()"
   ]
  },
  {
   "cell_type": "markdown",
   "id": "082651f4",
   "metadata": {},
   "source": [
    "### Train and test with \"linear\" kernel"
   ]
  },
  {
   "cell_type": "code",
   "execution_count": 18,
   "id": "a4c4e845",
   "metadata": {},
   "outputs": [
    {
     "name": "stdout",
     "output_type": "stream",
     "text": [
      "{'C': 1.0, 'break_ties': False, 'cache_size': 200, 'class_weight': None, 'coef0': 0.0, 'decision_function_shape': 'ovr', 'degree': 3, 'gamma': 'scale', 'kernel': 'linear', 'max_iter': -1, 'probability': False, 'random_state': 0, 'shrinking': True, 'tol': 0.001, 'verbose': False}\n",
      "secs to fit: 19.83\n",
      "iterations required: [9633]\n"
     ]
    }
   ],
   "source": [
    "# Create Linear classifier and train with the training set.\n",
    "from sklearn.svm import SVC\n",
    "import time\n",
    "\n",
    "svm2 = SVC(kernel='linear', random_state=0)\n",
    "print(svm2.get_params())\n",
    "\n",
    "# Time how long it takes to train.\n",
    "start = time.time()\n",
    "svm2.fit(X_train, y_train)\n",
    "end = time.time()\n",
    "svm2_train_time = end - start\n",
    "\n",
    "print(f\"secs to fit: {svm2_train_time:.2f}\")\n",
    "print(f\"iterations required: {svm2.n_iter_}\")"
   ]
  },
  {
   "cell_type": "code",
   "execution_count": 19,
   "id": "3a267c67",
   "metadata": {},
   "outputs": [
    {
     "name": "stdout",
     "output_type": "stream",
     "text": [
      "secs to predict (training set): 9.11\n"
     ]
    }
   ],
   "source": [
    "# Predict the training set. Time how long it takes to predict.\n",
    "start = time.time()\n",
    "svm2_train_predict = svm2.predict(X_train)\n",
    "end = time.time()\n",
    "svm2_pred_time = end - start\n",
    "\n",
    "print(f\"secs to predict (training set): {svm2_pred_time:.2f}\")"
   ]
  },
  {
   "cell_type": "code",
   "execution_count": 20,
   "id": "de242913",
   "metadata": {},
   "outputs": [
    {
     "name": "stdout",
     "output_type": "stream",
     "text": [
      "              precision    recall  f1-score   support\n",
      "\n",
      "      nondos     0.9993    0.9999    0.9996    159826\n",
      "         dos     0.9999    0.9993    0.9996    160174\n",
      "\n",
      "    accuracy                         0.9996    320000\n",
      "   macro avg     0.9996    0.9996    0.9996    320000\n",
      "weighted avg     0.9996    0.9996    0.9996    320000\n",
      "\n"
     ]
    },
    {
     "data": {
      "image/png": "[encoded data removed]",
      "text/plain": [
       "<Figure size 640x480 with 2 Axes>"
      ]
     },
     "metadata": {},
     "output_type": "display_data"
    }
   ],
   "source": [
    "# Print classification report and ConfusionMatrix for training data set\n",
    "from sklearn.metrics import classification_report\n",
    "from sklearn.metrics import confusion_matrix, ConfusionMatrixDisplay\n",
    "import matplotlib.pyplot as plt\n",
    "\n",
    "target_labels = [0, 1]\n",
    "target_names = ['nondos', 'dos']\n",
    "print(classification_report(y_train, svm2_train_predict, labels=target_labels, target_names=target_names, digits=4))\n",
    "\n",
    "ConfusionMatrixDisplay.from_predictions(y_train, svm2_train_predict, values_format=\",\", display_labels = target_names)\n",
    "plt.show()"
   ]
  },
  {
   "cell_type": "code",
   "execution_count": 21,
   "id": "73336f60",
   "metadata": {},
   "outputs": [
    {
     "name": "stdout",
     "output_type": "stream",
     "text": [
      "secs to predict (test set): 2.14\n"
     ]
    }
   ],
   "source": [
    "# Predict the test set. Time how long it takes to predict.\n",
    "start = time.time()\n",
    "svm2_test_predict = svm2.predict(X_test)\n",
    "end = time.time()\n",
    "svm2_test_time = end - start\n",
    "\n",
    "print(f\"secs to predict (test set): {svm2_test_time:.2f}\")"
   ]
  },
  {
   "cell_type": "code",
   "execution_count": 22,
   "id": "7319d6d4",
   "metadata": {},
   "outputs": [
    {
     "name": "stdout",
     "output_type": "stream",
     "text": [
      "              precision    recall  f1-score   support\n",
      "\n",
      "      nondos     0.9993    0.9999    0.9996     40174\n",
      "         dos     0.9999    0.9992    0.9996     39826\n",
      "\n",
      "    accuracy                         0.9996     80000\n",
      "   macro avg     0.9996    0.9996    0.9996     80000\n",
      "weighted avg     0.9996    0.9996    0.9996     80000\n",
      "\n"
     ]
    },
    {
     "data": {
      "image/png": "[encoded data removed]",
      "text/plain": [
       "<Figure size 640x480 with 2 Axes>"
      ]
     },
     "metadata": {},
     "output_type": "display_data"
    }
   ],
   "source": [
    "# Print classification report and ConfusionMatrix for test data set\n",
    "from sklearn.metrics import classification_report\n",
    "\n",
    "target_labels = [0, 1]\n",
    "target_names = ['nondos', 'dos']\n",
    "print(classification_report(y_test, svm2_test_predict, labels=target_labels, target_names=target_names, digits=4))\n",
    "\n",
    "ConfusionMatrixDisplay.from_predictions(y_test, svm2_test_predict, values_format=\",\", display_labels = target_names)\n",
    "plt.show()"
   ]
  },
  {
   "cell_type": "markdown",
   "id": "f11fc55a",
   "metadata": {},
   "source": [
    "### Train and test with \"poly\" kernel"
   ]
  },
  {
   "cell_type": "code",
   "execution_count": 23,
   "id": "dd2052f4",
   "metadata": {},
   "outputs": [
    {
     "name": "stdout",
     "output_type": "stream",
     "text": [
      "{'C': 1.0, 'break_ties': False, 'cache_size': 200, 'class_weight': None, 'coef0': 0.0, 'decision_function_shape': 'ovr', 'degree': 3, 'gamma': 'scale', 'kernel': 'poly', 'max_iter': -1, 'probability': False, 'random_state': 0, 'shrinking': True, 'tol': 0.001, 'verbose': False}\n",
      "secs to fit: 15.20\n",
      "iterations required: [947]\n"
     ]
    }
   ],
   "source": [
    "# Create Poly classifier and train with the training set.\n",
    "from sklearn.svm import SVC\n",
    "import time\n",
    "\n",
    "svm3 = SVC(kernel='poly', random_state=0)\n",
    "print(svm3.get_params())\n",
    "\n",
    "# Time how long it takes to train.\n",
    "start = time.time()\n",
    "svm3.fit(X_train, y_train)\n",
    "end = time.time()\n",
    "svm3_train_time = end - start\n",
    "\n",
    "print(f\"secs to fit: {svm3_train_time:.2f}\")\n",
    "print(f\"iterations required: {svm3.n_iter_}\")"
   ]
  },
  {
   "cell_type": "code",
   "execution_count": 24,
   "id": "9fb27549",
   "metadata": {},
   "outputs": [
    {
     "name": "stdout",
     "output_type": "stream",
     "text": [
      "secs to predict (training set): 6.47\n"
     ]
    }
   ],
   "source": [
    "# Predict the training set. Time how long it takes to predict.\n",
    "start = time.time()\n",
    "svm3_train_predict = svm3.predict(X_train)\n",
    "end = time.time()\n",
    "svm3_pred_time = end - start\n",
    "\n",
    "print(f\"secs to predict (training set): {svm3_pred_time:.2f}\")"
   ]
  },
  {
   "cell_type": "code",
   "execution_count": 25,
   "id": "8df429e2",
   "metadata": {},
   "outputs": [
    {
     "name": "stdout",
     "output_type": "stream",
     "text": [
      "              precision    recall  f1-score   support\n",
      "\n",
      "      nondos     0.9994    0.9999    0.9997    159826\n",
      "         dos     0.9999    0.9994    0.9997    160174\n",
      "\n",
      "    accuracy                         0.9997    320000\n",
      "   macro avg     0.9997    0.9997    0.9997    320000\n",
      "weighted avg     0.9997    0.9997    0.9997    320000\n",
      "\n"
     ]
    },
    {
     "data": {
      "image/png": "[encoded data removed]",
      "text/plain": [
       "<Figure size 640x480 with 2 Axes>"
      ]
     },
     "metadata": {},
     "output_type": "display_data"
    }
   ],
   "source": [
    "# Print classification report and ConfusionMatrix for training data set\n",
    "from sklearn.metrics import classification_report\n",
    "from sklearn.metrics import confusion_matrix, ConfusionMatrixDisplay\n",
    "import matplotlib.pyplot as plt\n",
    "\n",
    "target_labels = [0, 1]\n",
    "target_names = ['nondos', 'dos']\n",
    "print(classification_report(y_train, svm3_train_predict, labels=target_labels, target_names=target_names, digits=4))\n",
    "\n",
    "ConfusionMatrixDisplay.from_predictions(y_train, svm3_train_predict, values_format=\",\", display_labels = target_names)\n",
    "plt.show()"
   ]
  },
  {
   "cell_type": "code",
   "execution_count": 26,
   "id": "5fbfa962",
   "metadata": {},
   "outputs": [
    {
     "name": "stdout",
     "output_type": "stream",
     "text": [
      "secs to predict (test set): 2.00\n"
     ]
    }
   ],
   "source": [
    "# Predict the test set. Time how long it takes to predict.\n",
    "start = time.time()\n",
    "svm3_test_predict = svm3.predict(X_test)\n",
    "end = time.time()\n",
    "svm3_test_time = end - start\n",
    "\n",
    "print(f\"secs to predict (test set): {svm3_test_time:.2f}\")"
   ]
  },
  {
   "cell_type": "code",
   "execution_count": 27,
   "id": "0d8d4afd",
   "metadata": {},
   "outputs": [
    {
     "name": "stdout",
     "output_type": "stream",
     "text": [
      "              precision    recall  f1-score   support\n",
      "\n",
      "      nondos     0.9995    0.9999    0.9997     40174\n",
      "         dos     0.9999    0.9994    0.9997     39826\n",
      "\n",
      "    accuracy                         0.9997     80000\n",
      "   macro avg     0.9997    0.9997    0.9997     80000\n",
      "weighted avg     0.9997    0.9997    0.9997     80000\n",
      "\n"
     ]
    },
    {
     "data": {
      "image/png": "[encoded data removed]",
      "text/plain": [
       "<Figure size 640x480 with 2 Axes>"
      ]
     },
     "metadata": {},
     "output_type": "display_data"
    }
   ],
   "source": [
    "# Print classification report and ConfusionMatrix for test data set\n",
    "from sklearn.metrics import classification_report\n",
    "\n",
    "target_labels = [0, 1]\n",
    "target_names = ['nondos', 'dos']\n",
    "print(classification_report(y_test, svm3_test_predict, labels=target_labels, target_names=target_names, digits=4))\n",
    "\n",
    "ConfusionMatrixDisplay.from_predictions(y_test, svm3_test_predict, values_format=\",\", display_labels = target_names)\n",
    "plt.show()"
   ]
  },
  {
   "cell_type": "markdown",
   "id": "ee0463e8",
   "metadata": {},
   "source": [
    "### Train and test with \"sigmoid\" kernel"
   ]
  },
  {
   "cell_type": "code",
   "execution_count": 28,
   "id": "2f562d03",
   "metadata": {},
   "outputs": [
    {
     "name": "stdout",
     "output_type": "stream",
     "text": [
      "{'C': 1.0, 'break_ties': False, 'cache_size': 200, 'class_weight': None, 'coef0': 0.0, 'decision_function_shape': 'ovr', 'degree': 3, 'gamma': 'scale', 'kernel': 'sigmoid', 'max_iter': -1, 'probability': False, 'random_state': 0, 'shrinking': True, 'tol': 0.001, 'verbose': False}\n",
      "secs to fit: 522.40\n",
      "iterations required: [4383]\n"
     ]
    }
   ],
   "source": [
    "# Create Sigmoid classifier and train with the training set.\n",
    "from sklearn.svm import SVC\n",
    "import time\n",
    "\n",
    "svm4 = SVC(kernel='sigmoid', random_state=0)\n",
    "print(svm4.get_params())\n",
    "\n",
    "# Time how long it takes to train.\n",
    "start = time.time()\n",
    "svm4.fit(X_train, y_train)\n",
    "end = time.time()\n",
    "svm4_train_time = end - start\n",
    "\n",
    "print(f\"secs to fit: {svm4_train_time:.2f}\")\n",
    "print(f\"iterations required: {svm4.n_iter_}\")"
   ]
  },
  {
   "cell_type": "code",
   "execution_count": 29,
   "id": "1c74b982",
   "metadata": {},
   "outputs": [
    {
     "name": "stdout",
     "output_type": "stream",
     "text": [
      "secs to predict (training set): 88.59\n"
     ]
    }
   ],
   "source": [
    "# Predict the training set. Time how long it takes to predict.\n",
    "start = time.time()\n",
    "svm4_train_predict = svm4.predict(X_train)\n",
    "end = time.time()\n",
    "svm4_pred_time = end - start\n",
    "\n",
    "print(f\"secs to predict (training set): {svm4_pred_time:.2f}\")"
   ]
  },
  {
   "cell_type": "code",
   "execution_count": 30,
   "id": "872a6e2b",
   "metadata": {},
   "outputs": [
    {
     "name": "stdout",
     "output_type": "stream",
     "text": [
      "              precision    recall  f1-score   support\n",
      "\n",
      "      nondos     0.9891    0.9835    0.9863    159826\n",
      "         dos     0.9836    0.9892    0.9864    160174\n",
      "\n",
      "    accuracy                         0.9863    320000\n",
      "   macro avg     0.9864    0.9863    0.9863    320000\n",
      "weighted avg     0.9864    0.9863    0.9863    320000\n",
      "\n"
     ]
    },
    {
     "data": {
      "image/png": "[encoded data removed]",
      "text/plain": [
       "<Figure size 640x480 with 2 Axes>"
      ]
     },
     "metadata": {},
     "output_type": "display_data"
    }
   ],
   "source": [
    "# Print classification report and ConfusionMatrix for training data set\n",
    "from sklearn.metrics import classification_report\n",
    "from sklearn.metrics import confusion_matrix, ConfusionMatrixDisplay\n",
    "import matplotlib.pyplot as plt\n",
    "\n",
    "target_labels = [0, 1]\n",
    "target_names = ['nondos', 'dos']\n",
    "print(classification_report(y_train, svm4_train_predict, labels=target_labels, target_names=target_names, digits=4))\n",
    "\n",
    "ConfusionMatrixDisplay.from_predictions(y_train, svm4_train_predict, values_format=\",\", display_labels = target_names)\n",
    "plt.show()"
   ]
  },
  {
   "cell_type": "code",
   "execution_count": 31,
   "id": "59a1d0ea",
   "metadata": {},
   "outputs": [
    {
     "name": "stdout",
     "output_type": "stream",
     "text": [
      "secs to predict (test set): 29.48\n"
     ]
    }
   ],
   "source": [
    "# Predict the test set. Time how long it takes to predict.\n",
    "start = time.time()\n",
    "svm4_test_predict = svm4.predict(X_test)\n",
    "end = time.time()\n",
    "svm4_test_time = end - start\n",
    "\n",
    "print(f\"secs to predict (test set): {svm4_test_time:.2f}\")"
   ]
  },
  {
   "cell_type": "code",
   "execution_count": 32,
   "id": "77664405",
   "metadata": {},
   "outputs": [
    {
     "name": "stdout",
     "output_type": "stream",
     "text": [
      "              precision    recall  f1-score   support\n",
      "\n",
      "      nondos     0.9893    0.9832    0.9863     40174\n",
      "         dos     0.9832    0.9893    0.9862     39826\n",
      "\n",
      "    accuracy                         0.9862     80000\n",
      "   macro avg     0.9863    0.9863    0.9862     80000\n",
      "weighted avg     0.9863    0.9862    0.9863     80000\n",
      "\n"
     ]
    },
    {
     "data": {
      "image/png": "[encoded data removed]",
      "text/plain": [
       "<Figure size 640x480 with 2 Axes>"
      ]
     },
     "metadata": {},
     "output_type": "display_data"
    }
   ],
   "source": [
    "# Print classification report and ConfusionMatrix for test data set\n",
    "from sklearn.metrics import classification_report\n",
    "\n",
    "target_labels = [0, 1]\n",
    "target_names = ['nondos', 'dos']\n",
    "print(classification_report(y_test, svm4_test_predict, labels=target_labels, target_names=target_names, digits=4))\n",
    "\n",
    "ConfusionMatrixDisplay.from_predictions(y_test, svm4_test_predict, values_format=\",\", display_labels = target_names)\n",
    "plt.show()"
   ]
  },
  {
   "cell_type": "markdown",
   "id": "06e850e2",
   "metadata": {},
   "source": [
    "### Compare Kernels\n",
    "\n",
    "Below we compare the results of the different kernels. We see that Poly and RBF had the best accuracy scores, with linear slightly lower and sigmoid much lower. Sigmoid took much more time to train than the other two, with the other three much faster but Poly having the fastest time. Linear required a lot of iterations to train, but the time needed was close to that required by Sigmoid and Poly. Poly had the fastest testing time, with linear close behind, RBF behind that, and Sigmoid again much slower than the rest.\n",
    "\n",
    "On this data set, Poly performed the best; it was the fastest for training and testing, and tied with RBF for the best testing accuracy. Linear and RBF were both close behind, with linear a little less accurate, and RBF a little slower. Sigmoid was by far the slowest and also the least accurate."
   ]
  },
  {
   "cell_type": "code",
   "execution_count": 55,
   "id": "51d981bd",
   "metadata": {},
   "outputs": [
    {
     "data": {
      "text/plain": [
       "[0.999675, 0.9995625, 0.999675, 0.98625]"
      ]
     },
     "execution_count": 55,
     "metadata": {},
     "output_type": "execute_result"
    }
   ],
   "source": [
    "# Generate scores array for all the different SVM kernels\n",
    "scores = []\n",
    "scores.append(svm1.score(X_test, y_test))\n",
    "scores.append(svm2.score(X_test, y_test))\n",
    "scores.append(svm3.score(X_test, y_test))\n",
    "scores.append(svm4.score(X_test, y_test))\n",
    "scores"
   ]
  },
  {
   "cell_type": "code",
   "execution_count": 34,
   "id": "45f6606a",
   "metadata": {},
   "outputs": [
    {
     "data": {
      "image/png": "[encoded data removed]",
      "text/plain": [
       "<Figure size 640x480 with 1 Axes>"
      ]
     },
     "metadata": {},
     "output_type": "display_data"
    }
   ],
   "source": [
    "# Plot the scores (mean accuracy) for each SVM kernel type\n",
    "import matplotlib.pyplot as plt\n",
    "fig = plt.figure()\n",
    "ax = fig.add_axes([0,0,1,1])\n",
    "kernels = ['rbf', 'linear', 'poly', 'sigmoid']\n",
    "ax.barh(kernels,scores)\n",
    "\n",
    "max_xlim = max(scores) + np.std(scores)\n",
    "min_xlim = min(scores) - np.std(scores)\n",
    "plt.xlim(min_xlim, max_xlim)\n",
    "plt.xlabel('Mean Accuracy')\n",
    "plt.ylabel('SVM Kernel')\n",
    "plt.show()"
   ]
  },
  {
   "cell_type": "code",
   "execution_count": 56,
   "id": "215a2c19",
   "metadata": {},
   "outputs": [
    {
     "data": {
      "text/plain": [
       "[18.149382829666138, 19.83376717567444, 15.19580078125, 522.4049818515778]"
      ]
     },
     "execution_count": 56,
     "metadata": {},
     "output_type": "execute_result"
    }
   ],
   "source": [
    "# Generate train_times array\n",
    "train_times = []\n",
    "train_times.append(svm1_train_time)\n",
    "train_times.append(svm2_train_time)\n",
    "train_times.append(svm3_train_time)\n",
    "train_times.append(svm4_train_time)\n",
    "train_times"
   ]
  },
  {
   "cell_type": "code",
   "execution_count": 36,
   "id": "1c5022b4",
   "metadata": {},
   "outputs": [
    {
     "data": {
      "image/png": "[encoded data removed]",
      "text/plain": [
       "<Figure size 640x480 with 1 Axes>"
      ]
     },
     "metadata": {},
     "output_type": "display_data"
    }
   ],
   "source": [
    "import matplotlib.pyplot as plt\n",
    "fig = plt.figure()\n",
    "ax = fig.add_axes([0,0,1,1])\n",
    "kernels = ['rbf', 'linear', 'poly', 'sigmoid']\n",
    "ax.barh(kernels,train_times)\n",
    "\n",
    "max_xlim = max(train_times) + np.std(train_times)\n",
    "min_xlim = 0\n",
    "plt.xlim(min_xlim, max_xlim)\n",
    "plt.xlabel('Time to Train (secs)')\n",
    "plt.ylabel('SVM Kernel')\n",
    "plt.show()"
   ]
  },
  {
   "cell_type": "code",
   "execution_count": 37,
   "id": "de003781",
   "metadata": {},
   "outputs": [],
   "source": [
    "# Generate number of iterations array\n",
    "num_iter = []\n",
    "num_iter.append(svm1.n_iter_[0])\n",
    "num_iter.append(svm2.n_iter_[0])\n",
    "num_iter.append(svm3.n_iter_[0])\n",
    "num_iter.append(svm4.n_iter_[0])"
   ]
  },
  {
   "cell_type": "code",
   "execution_count": 38,
   "id": "a3d80bad",
   "metadata": {},
   "outputs": [
    {
     "data": {
      "image/png": "[encoded data removed]",
      "text/plain": [
       "<Figure size 640x480 with 1 Axes>"
      ]
     },
     "metadata": {},
     "output_type": "display_data"
    }
   ],
   "source": [
    "import matplotlib.pyplot as plt\n",
    "fig = plt.figure()\n",
    "ax = fig.add_axes([0,0,1,1])\n",
    "kernels = ['rbf', 'linear', 'poly', 'sigmoid']\n",
    "ax.barh(kernels,num_iter)\n",
    "\n",
    "max_xlim = max(num_iter) + np.std(num_iter)\n",
    "min_xlim = 0\n",
    "plt.xlim(min_xlim, max_xlim)\n",
    "plt.xlabel('Number of Iterations Needed to Train')\n",
    "plt.ylabel('SVM Kernel')\n",
    "plt.show()"
   ]
  },
  {
   "cell_type": "code",
   "execution_count": 57,
   "id": "b0eecaad",
   "metadata": {},
   "outputs": [
    {
     "data": {
      "text/plain": [
       "[4.932121753692627, 2.1427078247070312, 1.9960789680480957, 29.47885513305664]"
      ]
     },
     "execution_count": 57,
     "metadata": {},
     "output_type": "execute_result"
    }
   ],
   "source": [
    "# Generate test_times array\n",
    "test_times = []\n",
    "test_times.append(svm1_test_time)\n",
    "test_times.append(svm2_test_time)\n",
    "test_times.append(svm3_test_time)\n",
    "test_times.append(svm4_test_time)\n",
    "test_times"
   ]
  },
  {
   "cell_type": "code",
   "execution_count": 40,
   "id": "a79f64ad",
   "metadata": {},
   "outputs": [
    {
     "data": {
      "image/png": "[encoded data removed]",
      "text/plain": [
       "<Figure size 640x480 with 1 Axes>"
      ]
     },
     "metadata": {},
     "output_type": "display_data"
    }
   ],
   "source": [
    "import matplotlib.pyplot as plt\n",
    "fig = plt.figure()\n",
    "ax = fig.add_axes([0,0,1,1])\n",
    "kernels = ['rbf', 'linear', 'poly', 'sigmoid']\n",
    "ax.barh(kernels,test_times)\n",
    "\n",
    "max_xlim = max(test_times) + np.std(test_times)\n",
    "min_xlim = 0\n",
    "plt.xlim(min_xlim, max_xlim)\n",
    "plt.xlabel('Time to Test (secs)')\n",
    "plt.ylabel('SVM Kernel')\n",
    "plt.show()"
   ]
  },
  {
   "cell_type": "markdown",
   "id": "22eac8e9",
   "metadata": {},
   "source": [
    "## Task 3: Select 2 Features. Train and test the Linear and RBF kernels against the 2 feature set, and visualize the decision bounary "
   ]
  },
  {
   "cell_type": "markdown",
   "id": "9630229d",
   "metadata": {},
   "source": [
    "### Select Top 2 Features via Feature Selection"
   ]
  },
  {
   "cell_type": "code",
   "execution_count": 41,
   "id": "6605951b",
   "metadata": {},
   "outputs": [
    {
     "name": "stdout",
     "output_type": "stream",
     "text": [
      "selecting best via chi2:\n",
      "['count' 'service_ecr_i']\n"
     ]
    }
   ],
   "source": [
    "from sklearn.feature_selection import SelectKBest\n",
    "from sklearn.feature_selection import chi2, f_classif, mutual_info_classif\n",
    "\n",
    "print(\"selecting best via chi2:\")\n",
    "selector = SelectKBest(chi2, k=2).fit(X_scaled, y1)\n",
    "print(selector.get_feature_names_out())"
   ]
  },
  {
   "cell_type": "markdown",
   "id": "88f14fde",
   "metadata": {},
   "source": [
    "### Find important features using LogisticRegression"
   ]
  },
  {
   "cell_type": "code",
   "execution_count": 42,
   "id": "2dbb36ac",
   "metadata": {},
   "outputs": [
    {
     "name": "stdout",
     "output_type": "stream",
     "text": [
      "{'C': 1.0, 'class_weight': None, 'dual': False, 'fit_intercept': True, 'intercept_scaling': 1, 'l1_ratio': None, 'max_iter': 5000, 'multi_class': 'auto', 'n_jobs': None, 'penalty': 'l2', 'random_state': 0, 'solver': 'lbfgs', 'tol': 0.0001, 'verbose': 0, 'warm_start': False}\n",
      "iterations required: [122]\n"
     ]
    }
   ],
   "source": [
    "# Train the LogisticRegression model with the training data.\n",
    "# After trial and error, 300 is roughly the minimum number of iterations at which the training will converge.\n",
    "from sklearn.linear_model import LogisticRegression\n",
    "lr = LogisticRegression(random_state=0, max_iter=5000)\n",
    "print(lr.get_params())\n",
    "lr.fit(X_train, y_train)\n",
    "print(f\"iterations required: {lr.n_iter_}\")"
   ]
  },
  {
   "cell_type": "code",
   "execution_count": 63,
   "id": "e30e6711",
   "metadata": {},
   "outputs": [
    {
     "name": "stdout",
     "output_type": "stream",
     "text": [
      "Most positively correlated features:\n",
      "wrong_fragment (4):   8.89\n",
      "srv_count (20):   7.21\n",
      "dst_host_serror_rate (34):   5.84\n",
      "service_ecr_i (56):   5.84\n",
      "hot (6):   4.39\n",
      "dst_host_count (28):   4.33\n",
      "count (19):   3.92\n",
      "dst_host_rerror_rate (36):   3.91\n",
      "protocol_type_icmp (38):   3.24\n",
      "flag_S0 (116):   2.65\n",
      "\n",
      "Most negatively correlated features:\n",
      "diff_srv_rate (26):  -7.34\n",
      "dst_host_diff_srv_rate (31):  -5.88\n",
      "dst_host_same_src_port_rate (32):  -3.59\n",
      "same_srv_rate (25):  -3.48\n",
      "protocol_type_udp (40):  -2.96\n",
      "service_smtp (95):  -2.32\n",
      "service_urp_i (106):  -2.31\n",
      "rerror_rate (23):  -1.73\n",
      "service_other (85):  -1.71\n",
      "service_domain_u (53):  -1.64\n"
     ]
    }
   ],
   "source": [
    "# Print number of each feature with its coeffiecient, in sorted order\n",
    "numFeatures = lr.coef_[0].size\n",
    "sorted_coef = np.empty(shape = (numFeatures,2), dtype=object)\n",
    "for i in range(numFeatures):\n",
    "    sorted_coef[i, 0] = i\n",
    "    sorted_coef[i, 1] = lr.coef_[0][i]\n",
    "\n",
    "sorted_coef = sorted_coef[sorted_coef[:,1].argsort()] \n",
    "\n",
    "print(\"Most positively correlated features:\")    \n",
    "for rank in range (121,111,-1): \n",
    "    colnum, coef = sorted_coef[rank]\n",
    "    print(f\"{X_scaled.columns[colnum]} ({colnum}): {coef:6.2f}\")  \n",
    "    \n",
    "print()\n",
    "\n",
    "print(\"Most negatively correlated features:\")    \n",
    "for rank in range (0,10): \n",
    "    colnum, coef = sorted_coef[rank]\n",
    "    print(f\"{X_scaled.columns[colnum]} ({colnum}): {coef:6.2f}\")   "
   ]
  },
  {
   "cell_type": "markdown",
   "id": "e7c6c5ed",
   "metadata": {},
   "source": [
    "## Train using 2 features\n",
    "\n",
    "We decide to use \"count\" and \"srv_count\" for our features. \"srv_count\" has the second largest absolute value coefficient from our LogisticRegression model, and \"count\" is picked as one of the two most important features by the SelectKBest class. More importantly, those columns have a more even data spread than most columns, and so they give us a more interesting data visualization than the alternatives."
   ]
  },
  {
   "cell_type": "code",
   "execution_count": 45,
   "id": "e91eebbe",
   "metadata": {},
   "outputs": [
    {
     "name": "stdout",
     "output_type": "stream",
     "text": [
      "shape of data set: (4898430, 42)\n",
      "shape of X: (400000, 2)\n",
      "           count  srv_count\n",
      "0       0.001957   0.001957\n",
      "1       0.003914   0.003914\n",
      "2       0.023483   0.054795\n",
      "3       0.007828   0.007828\n",
      "4       0.031311   0.031311\n",
      "...          ...        ...\n",
      "399995  1.000000   1.000000\n",
      "399996  1.000000   1.000000\n",
      "399997  1.000000   1.000000\n",
      "399998  1.000000   1.000000\n",
      "399999  0.270059   0.029354\n",
      "\n",
      "[400000 rows x 2 columns]\n"
     ]
    }
   ],
   "source": [
    "# Pull out the feature set and result set from the data\n",
    "print(f\"shape of data set: {df.shape}\")\n",
    "#for i in range(X_scaled.columns.size):\n",
    "#    print(f\"{i}: {X_scaled.columns[i]}\")\n",
    "\n",
    "# Include only count and srv_count in the new data set (X20)\n",
    "#X20 = X.iloc[:, [23, 35]]\n",
    "#X20 = X.iloc[:, [4, 5]]\n",
    "#X20 = X_encoded.iloc[:, [1, 2]] # src_bytes, dst_bytes\n",
    "X20 = X_scaled.iloc[:, [19, 20]] # count, srv_count\n",
    "\n",
    "print(f\"shape of X: {X20.shape}\")\n",
    "print(X20)"
   ]
  },
  {
   "cell_type": "code",
   "execution_count": 46,
   "id": "115944b9",
   "metadata": {},
   "outputs": [
    {
     "name": "stdout",
     "output_type": "stream",
     "text": [
      "Original dataset shape Counter({0: 200000, 1: 200000})\n",
      "Resampled dataset shape Counter({0: 50, 1: 50})\n",
      "(100, 2)\n"
     ]
    },
    {
     "data": {
      "text/html": [
       "<div>\n",
       "<style scoped>\n",
       "    .dataframe tbody tr th:only-of-type {\n",
       "        vertical-align: middle;\n",
       "    }\n",
       "\n",
       "    .dataframe tbody tr th {\n",
       "        vertical-align: top;\n",
       "    }\n",
       "\n",
       "    .dataframe thead th {\n",
       "        text-align: right;\n",
       "    }\n",
       "</style>\n",
       "<table border=\"1\" class=\"dataframe\">\n",
       "  <thead>\n",
       "    <tr style=\"text-align: right;\">\n",
       "      <th></th>\n",
       "      <th>count</th>\n",
       "      <th>srv_count</th>\n",
       "    </tr>\n",
       "  </thead>\n",
       "  <tbody>\n",
       "    <tr>\n",
       "      <th>count</th>\n",
       "      <td>100.000000</td>\n",
       "      <td>100.000000</td>\n",
       "    </tr>\n",
       "    <tr>\n",
       "      <th>mean</th>\n",
       "      <td>0.425890</td>\n",
       "      <td>0.391213</td>\n",
       "    </tr>\n",
       "    <tr>\n",
       "      <th>std</th>\n",
       "      <td>0.457937</td>\n",
       "      <td>0.472982</td>\n",
       "    </tr>\n",
       "    <tr>\n",
       "      <th>min</th>\n",
       "      <td>0.001957</td>\n",
       "      <td>0.001957</td>\n",
       "    </tr>\n",
       "    <tr>\n",
       "      <th>25%</th>\n",
       "      <td>0.005382</td>\n",
       "      <td>0.005871</td>\n",
       "    </tr>\n",
       "    <tr>\n",
       "      <th>50%</th>\n",
       "      <td>0.172211</td>\n",
       "      <td>0.036204</td>\n",
       "    </tr>\n",
       "    <tr>\n",
       "      <th>75%</th>\n",
       "      <td>1.000000</td>\n",
       "      <td>1.000000</td>\n",
       "    </tr>\n",
       "    <tr>\n",
       "      <th>max</th>\n",
       "      <td>1.000000</td>\n",
       "      <td>1.000000</td>\n",
       "    </tr>\n",
       "  </tbody>\n",
       "</table>\n",
       "</div>"
      ],
      "text/plain": [
       "            count   srv_count\n",
       "count  100.000000  100.000000\n",
       "mean     0.425890    0.391213\n",
       "std      0.457937    0.472982\n",
       "min      0.001957    0.001957\n",
       "25%      0.005382    0.005871\n",
       "50%      0.172211    0.036204\n",
       "75%      1.000000    1.000000\n",
       "max      1.000000    1.000000"
      ]
     },
     "execution_count": 46,
     "metadata": {},
     "output_type": "execute_result"
    }
   ],
   "source": [
    "# Reduce to only 50 positive and 50 negative records, to make visualization reasonable.\n",
    "# Our new data set we call X21.\n",
    "from collections import Counter\n",
    "from imblearn.under_sampling import RandomUnderSampler \n",
    "\n",
    "print('Original dataset shape %s' % Counter(y1))\n",
    "rus = RandomUnderSampler(random_state=0, sampling_strategy={1:50, 0:50})\n",
    "X21, y21 = rus.fit_resample(X20, y1)\n",
    "print('Resampled dataset shape %s' % Counter(y21))\n",
    "print(X21.shape)\n",
    "X21.describe()"
   ]
  },
  {
   "cell_type": "code",
   "execution_count": 47,
   "id": "eba64501",
   "metadata": {},
   "outputs": [
    {
     "name": "stdout",
     "output_type": "stream",
     "text": [
      "(100, 2)\n",
      "(100,)\n"
     ]
    }
   ],
   "source": [
    "# Our plotting mechanisms want ndarray, so convert from Dataframe to ndarray.\n",
    "X22 = X21.values\n",
    "y22 = y21\n",
    "\n",
    "print(X22.shape)\n",
    "print(y22.shape)"
   ]
  },
  {
   "cell_type": "code",
   "execution_count": 48,
   "id": "02ea074e",
   "metadata": {},
   "outputs": [],
   "source": [
    "# Create arrays for plotting the data set\n",
    "pos_feat1 = []\n",
    "pos_feat2 = []\n",
    "neg_feat1 = []\n",
    "neg_feat2 = []\n",
    "\n",
    "for i in range(y22.size):\n",
    "    if y22[i] == 1:\n",
    "        pos_feat1.append(X22[i][0])\n",
    "        pos_feat2.append(X22[i][1])\n",
    "    else:\n",
    "        neg_feat1.append(X22[i][0])\n",
    "        neg_feat2.append(X22[i][1])"
   ]
  },
  {
   "cell_type": "code",
   "execution_count": 49,
   "id": "a78419a7",
   "metadata": {},
   "outputs": [
    {
     "data": {
      "image/png": "[encoded data removed]",
      "text/plain": [
       "<Figure size 640x480 with 1 Axes>"
      ]
     },
     "metadata": {},
     "output_type": "display_data"
    }
   ],
   "source": [
    "# Plot the data set, using Red X's for non-DOS and Blue Circles for DOS\n",
    "%matplotlib inline\n",
    "import matplotlib.pyplot as plt\n",
    "\n",
    "# plot data\n",
    "plt.scatter(neg_feat1, neg_feat2,\n",
    "            color='red', marker='x', label='nondos')\n",
    "plt.scatter(pos_feat1, pos_feat2,\n",
    "            color='blue', marker='o', label='dos')\n",
    "\n",
    "plt.xlabel(X21.columns[0])\n",
    "plt.ylabel(X21.columns[1])\n",
    "plt.legend(loc='upper left')\n",
    "\n",
    "plt.show()"
   ]
  },
  {
   "cell_type": "markdown",
   "id": "86c81c97",
   "metadata": {},
   "source": [
    "## Train against linear kernel"
   ]
  },
  {
   "cell_type": "code",
   "execution_count": 50,
   "id": "b856bce9",
   "metadata": {},
   "outputs": [
    {
     "name": "stdout",
     "output_type": "stream",
     "text": [
      "{'C': 1.0, 'break_ties': False, 'cache_size': 200, 'class_weight': None, 'coef0': 0.0, 'decision_function_shape': 'ovr', 'degree': 3, 'gamma': 'scale', 'kernel': 'linear', 'max_iter': -1, 'probability': False, 'random_state': 0, 'shrinking': True, 'tol': 0.001, 'verbose': False}\n",
      "iterations required: [13]\n"
     ]
    }
   ],
   "source": [
    "from sklearn.svm import SVC\n",
    "\n",
    "svm5 = SVC(kernel='linear', random_state=0)\n",
    "print(svm5.get_params())\n",
    "svm5.fit(X22, y22)\n",
    "\n",
    "print(f\"iterations required: {svm5.n_iter_}\")"
   ]
  },
  {
   "cell_type": "code",
   "execution_count": 51,
   "id": "86e6c524",
   "metadata": {},
   "outputs": [],
   "source": [
    "# Define the plot_decision_regions function, which is copied from Week 2 lab\n",
    "from matplotlib.colors import ListedColormap\n",
    "\n",
    "def plot_decision_regions(X, y, classifier, resolution=0.02):\n",
    "\n",
    "    # setup marker generator and color map\n",
    "    markers = ('o', 's', 'x', '^', 'v')\n",
    "    colors = ('red', 'blue', 'lightgreen', 'gray', 'cyan')\n",
    "    cmap = ListedColormap(colors[:len(np.unique(y))])\n",
    "\n",
    "    # plot the decision surface\n",
    "    x1_min, x1_max = X[:, 0].min() - 1, X[:, 0].max() + 1\n",
    "    x2_min, x2_max = X[:, 1].min() - 1, X[:, 1].max() + 1\n",
    "    xx1, xx2 = np.meshgrid(np.arange(x1_min, x1_max, resolution),\n",
    "                           np.arange(x2_min, x2_max, resolution))\n",
    "    Z = classifier.predict(np.array([xx1.ravel(), xx2.ravel()]).T)\n",
    "    Z = Z.reshape(xx1.shape)\n",
    "    plt.contourf(xx1, xx2, Z, alpha=0.3, cmap=cmap)\n",
    "    plt.xlim(xx1.min(), xx1.max())\n",
    "    plt.ylim(xx2.min(), xx2.max())\n",
    "\n",
    "    # plot class samples\n",
    "    for idx, cl in enumerate(np.unique(y)):\n",
    "        plt.scatter(x=X[y == cl, 0], \n",
    "                    y=X[y == cl, 1],\n",
    "                    alpha=0.8, \n",
    "                    c=colors[idx],\n",
    "                    marker=markers[idx], \n",
    "                    label=cl, \n",
    "                    edgecolor='black')"
   ]
  },
  {
   "cell_type": "code",
   "execution_count": 52,
   "id": "2a2aa39c",
   "metadata": {},
   "outputs": [
    {
     "data": {
      "image/png": "[encoded data removed]",
      "text/plain": [
       "<Figure size 640x480 with 1 Axes>"
      ]
     },
     "metadata": {},
     "output_type": "display_data"
    }
   ],
   "source": [
    "# Plot the decision region generated by the Linear SVM kernel\n",
    "plot_decision_regions(X22, y22, classifier=svm5)\n",
    "plt.title('Linear Kernel')\n",
    "plt.xlabel(X21.columns[0])\n",
    "plt.ylabel(X21.columns[1])\n",
    "plt.legend(loc='upper left')\n",
    "plt.tight_layout()\n",
    "plt.show()"
   ]
  },
  {
   "cell_type": "markdown",
   "id": "4c31ebd4",
   "metadata": {},
   "source": [
    "## Train against RBF kernel"
   ]
  },
  {
   "cell_type": "code",
   "execution_count": 53,
   "id": "559034e8",
   "metadata": {},
   "outputs": [
    {
     "name": "stdout",
     "output_type": "stream",
     "text": [
      "{'C': 1.0, 'break_ties': False, 'cache_size': 200, 'class_weight': None, 'coef0': 0.0, 'decision_function_shape': 'ovr', 'degree': 3, 'gamma': 'scale', 'kernel': 'rbf', 'max_iter': -1, 'probability': False, 'random_state': 0, 'shrinking': True, 'tol': 0.001, 'verbose': False}\n",
      "iterations required: [14]\n"
     ]
    }
   ],
   "source": [
    "from sklearn.svm import SVC\n",
    "\n",
    "svm6 = SVC(kernel='rbf', random_state=0)\n",
    "print(svm6.get_params())\n",
    "svm6.fit(X22, y22)\n",
    "\n",
    "print(f\"iterations required: {svm6.n_iter_}\")"
   ]
  },
  {
   "cell_type": "code",
   "execution_count": 54,
   "id": "762c80be",
   "metadata": {},
   "outputs": [
    {
     "data": {
      "image/png": "[encoded data removed]",
      "text/plain": [
       "<Figure size 640x480 with 1 Axes>"
      ]
     },
     "metadata": {},
     "output_type": "display_data"
    }
   ],
   "source": [
    "# Plot the decision region generated by the RBF SVM Kernel\n",
    "plot_decision_regions(X22, y22, classifier=svm6)\n",
    "plt.title('RBF Kernel')\n",
    "plt.xlabel('srv_count')\n",
    "plt.ylabel('dst_host_same_src_port_rate')\n",
    "plt.legend(loc='upper left')\n",
    "plt.tight_layout()\n",
    "plt.show()"
   ]
  },
  {
   "cell_type": "markdown",
   "id": "ae94036a",
   "metadata": {},
   "source": [
    "### Discuss our observations\n",
    "\n",
    "As indicated by the name, the linear kernel created a straight-line boundary for the decision regions. The decision boundary does not work very well for this very small, 2 feature data set. The RBF kernel, on the other hand, drew a shape for the decision boundary that looks like a slightly distorted circle. The boundary is very interesting and captures the data sets much better than the linear kernel did."
   ]
  },
  {
   "cell_type": "code",
   "execution_count": null,
   "id": "42fd6efd",
   "metadata": {},
   "outputs": [],
   "source": []
  }
 ],
 "metadata": {
  "kernelspec": {
   "display_name": "Python 3 (ipykernel)",
   "language": "python",
   "name": "python3"
  },
  "language_info": {
   "codemirror_mode": {
    "name": "ipython",
    "version": 3
   },
   "file_extension": ".py",
   "mimetype": "text/x-python",
   "name": "python",
   "nbconvert_exporter": "python",
   "pygments_lexer": "ipython3",
   "version": "3.10.6"
  }
 },
 "nbformat": 4,
 "nbformat_minor": 5
}
