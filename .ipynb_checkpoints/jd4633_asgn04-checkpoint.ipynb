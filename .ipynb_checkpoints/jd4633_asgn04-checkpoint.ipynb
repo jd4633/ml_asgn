{
 "cells": [
  {
   "cell_type": "markdown",
   "id": "0864fdfc",
   "metadata": {},
   "source": [
    "## Task 1: Load the KDD99Cup data and prepare to train DOS vs non-DOS\n",
    "We have downloaded the the KDD99Cup data and have it in the local directory as \"kddcup.data\". We have also created a file called \"kddcup.headers\" in the local directory, which is a space delimited list of the header names for the features. We load the data into a DataFrame. Then, we split the data set into a feature set and target set, and add the headers to the feature set."
   ]
  },
  {
   "cell_type": "code",
   "execution_count": 1,
   "id": "ce747a0a",
   "metadata": {},
   "outputs": [],
   "source": [
    "# Load kddcup data. This was downloaded and placed in the same directory as the notebook.\n",
    "# For header names, use file we created in the local directory called \"kddcup.headers\".\n",
    "import pandas as pd\n",
    "import numpy as np\n",
    "\n",
    "df = pd.read_csv('kddcup.data')\n",
    "headers = np.genfromtxt('kddcup.headers', dtype=str, delimiter=\" \")"
   ]
  },
  {
   "cell_type": "code",
   "execution_count": 2,
   "id": "0369f5e6",
   "metadata": {},
   "outputs": [
    {
     "name": "stdout",
     "output_type": "stream",
     "text": [
      "shape of data set: (4898430, 42)\n",
      "shape of X: (4898430, 41)\n",
      "shape of y: (4898430,)\n",
      "\n",
      "Count of records of each type:\n",
      "normal.: 972780\n",
      "buffer_overflow.: 30\n",
      "loadmodule.: 9\n",
      "perl.: 3\n",
      "neptune.: 1072017\n",
      "smurf.: 2807886\n",
      "guess_passwd.: 53\n",
      "pod.: 264\n",
      "teardrop.: 979\n",
      "portsweep.: 10413\n",
      "ipsweep.: 12481\n",
      "land.: 21\n",
      "ftp_write.: 8\n",
      "back.: 2203\n",
      "imap.: 12\n",
      "satan.: 15892\n",
      "phf.: 4\n",
      "nmap.: 2316\n",
      "multihop.: 7\n",
      "warezmaster.: 20\n",
      "warezclient.: 1020\n",
      "spy.: 2\n",
      "rootkit.: 10\n"
     ]
    }
   ],
   "source": [
    "# Pull out the feature set and result set from the data\n",
    "print(f\"shape of data set: {df.shape}\")\n",
    "y = df.iloc[:, 41].values\n",
    "X = df.iloc[:, 0:41]\n",
    "X.columns = headers\n",
    "print(f\"shape of X: {X.shape}\")\n",
    "print(f\"shape of y: {y.shape}\")\n",
    "print()\n",
    "\n",
    "#Print the number of records of each class\n",
    "from collections import Counter\n",
    "class_counts = Counter(y)\n",
    "print(\"Count of records of each type:\")\n",
    "for c in class_counts:\n",
    "    print(f\"{c}: {class_counts[c]}\")"
   ]
  },
  {
   "cell_type": "code",
   "execution_count": 3,
   "id": "eeb452d2",
   "metadata": {},
   "outputs": [
    {
     "name": "stdout",
     "output_type": "stream",
     "text": [
      "Counter({'icmp': 2833545, 'tcp': 1870597, 'udp': 194288})\n",
      "Counter({'ecr_i': 2811660, 'private': 1100831, 'http': 623090, 'smtp': 96554, 'other': 72653, 'domain_u': 57782, 'ftp_data': 40697, 'eco_i': 16338, 'finger': 6891, 'urp_i': 5378, 'ftp': 5214, 'telnet': 4277, 'ntp_u': 3833, 'auth': 3382, 'pop_3': 1981, 'time': 1579, 'domain': 1113, 'Z39_50': 1078, 'gopher': 1077, 'mtp': 1076, 'ssh': 1075, 'whois': 1073, 'remote_job': 1073, 'rje': 1070, 'link': 1069, 'imap4': 1069, 'ctf': 1068, 'name': 1067, 'supdup': 1060, 'echo': 1059, 'discard': 1059, 'nntp': 1059, 'uucp_path': 1057, 'netstat': 1056, 'daytime': 1056, 'systat': 1056, 'sunrpc': 1056, 'netbios_ssn': 1055, 'pop_2': 1055, 'netbios_ns': 1054, 'vmnet': 1053, 'netbios_dgm': 1052, 'sql_net': 1052, 'iso_tsap': 1052, 'shell': 1051, 'csnet_ns': 1051, 'klogin': 1050, 'hostnames': 1050, 'bgp': 1047, 'login': 1045, 'exec': 1045, 'printer': 1045, 'http_443': 1044, 'efs': 1042, 'uucp': 1041, 'ldap': 1041, 'kshell': 1040, 'nnsp': 1038, 'courier': 1021, 'IRC': 521, 'urh_i': 148, 'X11': 135, 'tim_i': 12, 'red_i': 9, 'pm_dump': 5, 'tftp_u': 3, 'harvest': 2, 'aol': 2, 'http_8001': 2, 'http_2784': 1})\n",
      "Counter({'SF': 3744327, 'S0': 869829, 'REJ': 268874, 'RSTR': 8094, 'RSTO': 5344, 'SH': 1040, 'S1': 532, 'S2': 161, 'RSTOS0': 122, 'OTH': 57, 'S3': 50})\n"
     ]
    }
   ],
   "source": [
    "# Look at the occurence of the different categories in the categorical features\n",
    "print(Counter(X['protocol_type']))\n",
    "print(Counter(X['service']))\n",
    "print(Counter(X['flag']))"
   ]
  },
  {
   "cell_type": "code",
   "execution_count": 4,
   "id": "f1da249b",
   "metadata": {},
   "outputs": [
    {
     "name": "stdout",
     "output_type": "stream",
     "text": [
      "Counter({1: 3883370, -1: 1015060})\n"
     ]
    }
   ],
   "source": [
    "# Convert classes in y to success (1) or failure (-1).\n",
    "# ipsweep probe, portsweep probe, nmap probe, and sata probe should be considered successes (1).\n",
    "# Any other value, including normal, is considered a failure case (-1).\n",
    "import numpy as np\n",
    "y = np.where(y==\"back.\", 1, y)\n",
    "y = np.where(y==\"land.\", 1, y)\n",
    "y = np.where(y==\"neptune.\", 1, y)\n",
    "y = np.where(y==\"pod.\", 1, y)\n",
    "y = np.where(y==\"smurf.\", 1, y)\n",
    "y = np.where(y==\"teardrop.\", 1, y)\n",
    "\n",
    "y = np.where(y==1, y, -1)\n",
    "y = y.astype('int')\n",
    "print(Counter(y))"
   ]
  },
  {
   "cell_type": "code",
   "execution_count": 5,
   "id": "0f7371ed",
   "metadata": {},
   "outputs": [
    {
     "name": "stdout",
     "output_type": "stream",
     "text": [
      "Original dataset shape Counter({1: 3883370, -1: 1015060})\n",
      "Resampled dataset shape Counter({-1: 100000, 1: 100000})\n",
      "(200000, 41)\n"
     ]
    }
   ],
   "source": [
    "# Dataset is unbalanced, we have many more failure cases than success cases. Use RandomUnderSampler to \n",
    "# balance the number of records of each type.\n",
    "from collections import Counter\n",
    "from imblearn.under_sampling import RandomUnderSampler \n",
    "\n",
    "print('Original dataset shape %s' % Counter(y))\n",
    "rus = RandomUnderSampler(random_state=0, sampling_strategy={1:100000, -1:100000})\n",
    "X1, y1 = rus.fit_resample(X, y)\n",
    "print('Resampled dataset shape %s' % Counter(y1))\n",
    "print(X1.shape)"
   ]
  },
  {
   "cell_type": "code",
   "execution_count": 6,
   "id": "5655d1fe",
   "metadata": {},
   "outputs": [
    {
     "name": "stdout",
     "output_type": "stream",
     "text": [
      "(200000, 43)\n"
     ]
    }
   ],
   "source": [
    "# Use OneHotEncoder on protocol_type\n",
    "from sklearn.preprocessing import OneHotEncoder\n",
    "\n",
    "enc = OneHotEncoder(sparse=False)\n",
    "X2 = pd.DataFrame(enc.fit_transform(X1[['protocol_type']]))\n",
    "X2.columns = enc.get_feature_names_out(['protocol_type'])\n",
    "X3 = X1.copy()\n",
    "X3.drop(['protocol_type'], axis=1, inplace=True)\n",
    "X4 = pd.concat([X3, X2], axis=1)\n",
    "print(X4.shape)"
   ]
  },
  {
   "cell_type": "code",
   "execution_count": 7,
   "id": "b888aef8",
   "metadata": {},
   "outputs": [
    {
     "name": "stdout",
     "output_type": "stream",
     "text": [
      "(200000, 106)\n"
     ]
    }
   ],
   "source": [
    "# Use OneHotEncoder on service\n",
    "X5 = pd.DataFrame(enc.fit_transform(X4[['service']]))\n",
    "X5.columns = enc.get_feature_names_out(['service'])\n",
    "X6 = X4.copy()\n",
    "X6.drop(['service'], axis=1, inplace=True)\n",
    "X7 = pd.concat([X6, X5 ], axis=1)\n",
    "print(X7.shape)"
   ]
  },
  {
   "cell_type": "code",
   "execution_count": 8,
   "id": "3fe317ad",
   "metadata": {},
   "outputs": [
    {
     "name": "stdout",
     "output_type": "stream",
     "text": [
      "(200000, 116)\n"
     ]
    }
   ],
   "source": [
    "# Use OneHotEncoder on flag\n",
    "X8 = pd.DataFrame(enc.fit_transform(X7[['flag']]))\n",
    "X8.columns = enc.get_feature_names_out(['flag'])\n",
    "X9 = X7.copy()\n",
    "X9.drop(['flag'], axis=1, inplace=True)\n",
    "X10 = pd.concat([X9, X8], axis=1)\n",
    "print(X10.shape)"
   ]
  },
  {
   "cell_type": "code",
   "execution_count": 9,
   "id": "3452c278",
   "metadata": {},
   "outputs": [],
   "source": [
    "# Store final feature set into X_encoded\n",
    "X_encoded = X10"
   ]
  },
  {
   "cell_type": "code",
   "execution_count": 10,
   "id": "7bdc23b4",
   "metadata": {},
   "outputs": [],
   "source": [
    "# Standardize the feature set data to help with training.\n",
    "from sklearn import preprocessing\n",
    "\n",
    "scaler = preprocessing.StandardScaler().fit(X_encoded)\n",
    "X_scaled = scaler.transform(X_encoded)"
   ]
  },
  {
   "cell_type": "code",
   "execution_count": 11,
   "id": "2ac14e18",
   "metadata": {},
   "outputs": [
    {
     "name": "stdout",
     "output_type": "stream",
     "text": [
      "training set shape: (160000, 116)\n",
      "testing set shape: (40000, 116)\n"
     ]
    }
   ],
   "source": [
    "# Then split the data into a training set (80%) and testing set (20%).\n",
    "from sklearn.model_selection import train_test_split\n",
    "\n",
    "X_train, X_test, y_train, y_test = train_test_split(X_scaled, y1, test_size=0.2, random_state=0)\n",
    "print(f\"training set shape: {X_train.shape}\")\n",
    "print(f\"testing set shape: {X_test.shape}\")"
   ]
  },
  {
   "cell_type": "markdown",
   "id": "040fe6e6",
   "metadata": {},
   "source": [
    "### Train and test with \"rbf\" kernel"
   ]
  },
  {
   "cell_type": "code",
   "execution_count": 12,
   "id": "7613f827",
   "metadata": {},
   "outputs": [
    {
     "name": "stdout",
     "output_type": "stream",
     "text": [
      "{'C': 1.0, 'break_ties': False, 'cache_size': 200, 'class_weight': None, 'coef0': 0.0, 'decision_function_shape': 'ovr', 'degree': 3, 'gamma': 'scale', 'kernel': 'rbf', 'max_iter': -1, 'probability': False, 'random_state': 0, 'shrinking': True, 'tol': 0.001, 'verbose': False}\n",
      "iterations required: [1533]\n"
     ]
    }
   ],
   "source": [
    "from sklearn.svm import SVC\n",
    "\n",
    "svm1 = SVC(kernel='rbf', random_state=0)\n",
    "print(svm1.get_params())\n",
    "svm1.fit(X_train, y_train)\n",
    "\n",
    "print(f\"iterations required: {svm1.n_iter_}\")"
   ]
  },
  {
   "cell_type": "code",
   "execution_count": 13,
   "id": "78ff836a",
   "metadata": {},
   "outputs": [
    {
     "name": "stdout",
     "output_type": "stream",
     "text": [
      "              precision    recall  f1-score   support\n",
      "\n",
      "         dns     0.9998    0.9995    0.9996     79913\n",
      "      nondns     0.9995    0.9998    0.9996     80087\n",
      "\n",
      "    accuracy                         0.9996    160000\n",
      "   macro avg     0.9996    0.9996    0.9996    160000\n",
      "weighted avg     0.9996    0.9996    0.9996    160000\n",
      "\n"
     ]
    }
   ],
   "source": [
    "# Build classification report for training data set\n",
    "from sklearn.metrics import classification_report\n",
    "\n",
    "target_labels = [1, -1]\n",
    "target_names = ['dns', 'nondns']\n",
    "y_pred_train = svm1.predict(X_train)\n",
    "print(classification_report(y_train, y_pred_train, labels=target_labels, target_names=target_names, digits=4))"
   ]
  },
  {
   "cell_type": "code",
   "execution_count": 14,
   "id": "461fd3af",
   "metadata": {},
   "outputs": [
    {
     "name": "stdout",
     "output_type": "stream",
     "text": [
      "              precision    recall  f1-score   support\n",
      "\n",
      "         dns     0.9995    0.9997    0.9996     20087\n",
      "      nondns     0.9996    0.9994    0.9995     19913\n",
      "\n",
      "    accuracy                         0.9996     40000\n",
      "   macro avg     0.9996    0.9995    0.9995     40000\n",
      "weighted avg     0.9996    0.9996    0.9995     40000\n",
      "\n"
     ]
    }
   ],
   "source": [
    "# Build classification report for test data set\n",
    "from sklearn.metrics import classification_report\n",
    "\n",
    "target_labels = [1, -1]\n",
    "target_names = ['dns', 'nondns']\n",
    "y_pred_test = svm1.predict(X_test)\n",
    "print(classification_report(y_test, y_pred_test, labels=target_labels, target_names=target_names, digits=4))"
   ]
  },
  {
   "cell_type": "markdown",
   "id": "082651f4",
   "metadata": {},
   "source": [
    "### Train and test with \"linear\" kernel"
   ]
  },
  {
   "cell_type": "code",
   "execution_count": 15,
   "id": "f455b327",
   "metadata": {},
   "outputs": [
    {
     "name": "stdout",
     "output_type": "stream",
     "text": [
      "{'C': 1.0, 'break_ties': False, 'cache_size': 200, 'class_weight': None, 'coef0': 0.0, 'decision_function_shape': 'ovr', 'degree': 3, 'gamma': 'scale', 'kernel': 'linear', 'max_iter': -1, 'probability': False, 'random_state': 0, 'shrinking': True, 'tol': 0.001, 'verbose': False}\n",
      "iterations required: [15030]\n"
     ]
    }
   ],
   "source": [
    "from sklearn.svm import SVC\n",
    "\n",
    "svm2 = SVC(kernel='linear', random_state=0)\n",
    "print(svm2.get_params())\n",
    "svm2.fit(X_train, y_train)\n",
    "\n",
    "print(f\"iterations required: {svm2.n_iter_}\")"
   ]
  },
  {
   "cell_type": "code",
   "execution_count": 16,
   "id": "3a267c67",
   "metadata": {},
   "outputs": [
    {
     "name": "stdout",
     "output_type": "stream",
     "text": [
      "              precision    recall  f1-score   support\n",
      "\n",
      "         dns     0.9998    0.9998    0.9998     79913\n",
      "      nondns     0.9998    0.9998    0.9998     80087\n",
      "\n",
      "    accuracy                         0.9998    160000\n",
      "   macro avg     0.9998    0.9998    0.9998    160000\n",
      "weighted avg     0.9998    0.9998    0.9998    160000\n",
      "\n"
     ]
    }
   ],
   "source": [
    "# Build classification report for training data set\n",
    "from sklearn.metrics import classification_report\n",
    "\n",
    "target_labels = [1, -1]\n",
    "target_names = ['dns', 'nondns']\n",
    "y_pred_train = svm2.predict(X_train)\n",
    "print(classification_report(y_train, y_pred_train, labels=target_labels, target_names=target_names, digits=4))"
   ]
  },
  {
   "cell_type": "code",
   "execution_count": 17,
   "id": "73336f60",
   "metadata": {},
   "outputs": [
    {
     "name": "stdout",
     "output_type": "stream",
     "text": [
      "              precision    recall  f1-score   support\n",
      "\n",
      "         dns     0.9993    0.9997    0.9995     20087\n",
      "      nondns     0.9997    0.9992    0.9995     19913\n",
      "\n",
      "    accuracy                         0.9995     40000\n",
      "   macro avg     0.9995    0.9995    0.9995     40000\n",
      "weighted avg     0.9995    0.9995    0.9995     40000\n",
      "\n"
     ]
    }
   ],
   "source": [
    "# Build classification report for test data set\n",
    "from sklearn.metrics import classification_report\n",
    "\n",
    "target_labels = [1, -1]\n",
    "target_names = ['dns', 'nondns']\n",
    "y_pred_test = svm2.predict(X_test)\n",
    "print(classification_report(y_test, y_pred_test, labels=target_labels, target_names=target_names, digits=4))"
   ]
  },
  {
   "cell_type": "markdown",
   "id": "f11fc55a",
   "metadata": {},
   "source": [
    "### Train and test with \"poly\" kernel"
   ]
  },
  {
   "cell_type": "code",
   "execution_count": 18,
   "id": "0ebe23b1",
   "metadata": {},
   "outputs": [
    {
     "name": "stdout",
     "output_type": "stream",
     "text": [
      "{'C': 1.0, 'break_ties': False, 'cache_size': 200, 'class_weight': None, 'coef0': 0.0, 'decision_function_shape': 'ovr', 'degree': 3, 'gamma': 'scale', 'kernel': 'poly', 'max_iter': -1, 'probability': False, 'random_state': 0, 'shrinking': True, 'tol': 0.001, 'verbose': False}\n",
      "iterations required: [2689]\n"
     ]
    }
   ],
   "source": [
    "from sklearn.svm import SVC\n",
    "\n",
    "svm3 = SVC(kernel='poly', random_state=0)\n",
    "print(svm3.get_params())\n",
    "svm3.fit(X_train, y_train)\n",
    "\n",
    "print(f\"iterations required: {svm3.n_iter_}\")"
   ]
  },
  {
   "cell_type": "code",
   "execution_count": 19,
   "id": "dd2052f4",
   "metadata": {},
   "outputs": [
    {
     "name": "stdout",
     "output_type": "stream",
     "text": [
      "              precision    recall  f1-score   support\n",
      "\n",
      "         dns     1.0000    0.9993    0.9996     79913\n",
      "      nondns     0.9993    1.0000    0.9997     80087\n",
      "\n",
      "    accuracy                         0.9997    160000\n",
      "   macro avg     0.9997    0.9996    0.9996    160000\n",
      "weighted avg     0.9997    0.9997    0.9996    160000\n",
      "\n"
     ]
    }
   ],
   "source": [
    "# Build classification report for training data set\n",
    "from sklearn.metrics import classification_report\n",
    "\n",
    "target_labels = [1, -1]\n",
    "target_names = ['dns', 'nondns']\n",
    "y_pred_train = svm3.predict(X_train)\n",
    "print(classification_report(y_train, y_pred_train, labels=target_labels, target_names=target_names, digits=4))"
   ]
  },
  {
   "cell_type": "code",
   "execution_count": 20,
   "id": "f25d2fdb",
   "metadata": {},
   "outputs": [
    {
     "name": "stdout",
     "output_type": "stream",
     "text": [
      "              precision    recall  f1-score   support\n",
      "\n",
      "         dns     1.0000    0.9996    0.9998     20087\n",
      "      nondns     0.9996    0.9999    0.9998     19913\n",
      "\n",
      "    accuracy                         0.9998     40000\n",
      "   macro avg     0.9998    0.9998    0.9998     40000\n",
      "weighted avg     0.9998    0.9998    0.9998     40000\n",
      "\n"
     ]
    }
   ],
   "source": [
    "# Build classification report for test data set\n",
    "from sklearn.metrics import classification_report\n",
    "\n",
    "target_labels = [1, -1]\n",
    "target_names = ['dns', 'nondns']\n",
    "y_pred_test = svm3.predict(X_test)\n",
    "print(classification_report(y_test, y_pred_test, labels=target_labels, target_names=target_names, digits=4))"
   ]
  },
  {
   "cell_type": "markdown",
   "id": "ee0463e8",
   "metadata": {},
   "source": [
    "### Train and test with \"sigmoid\" kernel"
   ]
  },
  {
   "cell_type": "code",
   "execution_count": 21,
   "id": "2f562d03",
   "metadata": {},
   "outputs": [
    {
     "name": "stdout",
     "output_type": "stream",
     "text": [
      "{'C': 1.0, 'break_ties': False, 'cache_size': 200, 'class_weight': None, 'coef0': 0.0, 'decision_function_shape': 'ovr', 'degree': 3, 'gamma': 'scale', 'kernel': 'sigmoid', 'max_iter': -1, 'probability': False, 'random_state': 0, 'shrinking': True, 'tol': 0.001, 'verbose': False}\n",
      "iterations required: [1085]\n"
     ]
    }
   ],
   "source": [
    "from sklearn.svm import SVC\n",
    "\n",
    "svm4 = SVC(kernel='sigmoid', random_state=0)\n",
    "print(svm4.get_params())\n",
    "svm4.fit(X_train, y_train)\n",
    "\n",
    "print(f\"iterations required: {svm4.n_iter_}\")"
   ]
  },
  {
   "cell_type": "code",
   "execution_count": 22,
   "id": "fb8ce315",
   "metadata": {},
   "outputs": [
    {
     "name": "stdout",
     "output_type": "stream",
     "text": [
      "              precision    recall  f1-score   support\n",
      "\n",
      "         dns     0.9981    0.9983    0.9982     79913\n",
      "      nondns     0.9983    0.9981    0.9982     80087\n",
      "\n",
      "    accuracy                         0.9982    160000\n",
      "   macro avg     0.9982    0.9982    0.9982    160000\n",
      "weighted avg     0.9982    0.9982    0.9982    160000\n",
      "\n"
     ]
    }
   ],
   "source": [
    "# Build classification report for training data set\n",
    "from sklearn.metrics import classification_report\n",
    "\n",
    "target_labels = [1, -1]\n",
    "target_names = ['dns', 'nondns']\n",
    "y_pred_train = svm4.predict(X_train)\n",
    "print(classification_report(y_train, y_pred_train, labels=target_labels, target_names=target_names, digits=4))"
   ]
  },
  {
   "cell_type": "code",
   "execution_count": 23,
   "id": "e51a06aa",
   "metadata": {},
   "outputs": [
    {
     "name": "stdout",
     "output_type": "stream",
     "text": [
      "              precision    recall  f1-score   support\n",
      "\n",
      "         dns     0.9973    0.9988    0.9980     20087\n",
      "      nondns     0.9987    0.9973    0.9980     19913\n",
      "\n",
      "    accuracy                         0.9980     40000\n",
      "   macro avg     0.9980    0.9980    0.9980     40000\n",
      "weighted avg     0.9980    0.9980    0.9980     40000\n",
      "\n"
     ]
    }
   ],
   "source": [
    "# Build classification report for test data set\n",
    "from sklearn.metrics import classification_report\n",
    "\n",
    "target_labels = [1, -1]\n",
    "target_names = ['dns', 'nondns']\n",
    "y_pred_test = svm4.predict(X_test)\n",
    "print(classification_report(y_test, y_pred_test, labels=target_labels, target_names=target_names, digits=4))"
   ]
  },
  {
   "cell_type": "markdown",
   "id": "06e850e2",
   "metadata": {},
   "source": [
    "### Compare Kernels"
   ]
  },
  {
   "cell_type": "code",
   "execution_count": 29,
   "id": "51d981bd",
   "metadata": {},
   "outputs": [],
   "source": [
    "# Generate scores\n",
    "scores = []\n",
    "scores.append(svm1.score(X_test, y_test))\n",
    "scores.append(svm2.score(X_test, y_test))\n",
    "scores.append(svm3.score(X_test, y_test))\n",
    "scores.append(svm4.score(X_test, y_test))"
   ]
  },
  {
   "cell_type": "code",
   "execution_count": 30,
   "id": "984ce9f6",
   "metadata": {},
   "outputs": [
    {
     "name": "stdout",
     "output_type": "stream",
     "text": [
      "[0.99955, 0.999475, 0.999775, 0.998025]\n"
     ]
    }
   ],
   "source": [
    "print(scores)"
   ]
  },
  {
   "cell_type": "code",
   "execution_count": 33,
   "id": "45f6606a",
   "metadata": {},
   "outputs": [
    {
     "data": {
      "image/png": "[encoded data removed]",
      "text/plain": [
       "<Figure size 640x480 with 1 Axes>"
      ]
     },
     "metadata": {},
     "output_type": "display_data"
    }
   ],
   "source": [
    "import matplotlib.pyplot as plt\n",
    "fig = plt.figure()\n",
    "ax = fig.add_axes([0,0,1,1])\n",
    "kernels = ['rbf', 'linear', 'poly', 'sigmoid']\n",
    "ax.barh(kernels,scores)\n",
    "plt.autoscale()\n",
    "plt.show()"
   ]
  },
  {
   "cell_type": "markdown",
   "id": "88f14fde",
   "metadata": {},
   "source": [
    "## Find important features using LogisticRegression"
   ]
  },
  {
   "cell_type": "code",
   "execution_count": null,
   "id": "2dbb36ac",
   "metadata": {},
   "outputs": [],
   "source": [
    "# Train the LogisticRegression model with the training data.\n",
    "# After trial and error, 300 is roughly the minimum number of iterations at which the training will converge.\n",
    "from sklearn.linear_model import LogisticRegression\n",
    "lr = LogisticRegression(random_state=0, max_iter=5000)\n",
    "print(lr.get_params())\n",
    "lr.fit(X_train, y_train)\n",
    "print(f\"iterations required: {lr.n_iter_}\")"
   ]
  },
  {
   "cell_type": "code",
   "execution_count": null,
   "id": "dddf47d0",
   "metadata": {},
   "outputs": [],
   "source": [
    "# Build classification report for training data set\n",
    "from sklearn.metrics import classification_report\n",
    "\n",
    "target_labels = [1, -1]\n",
    "target_names = ['dns', 'nondns']\n",
    "y_pred_train = lr.predict(X_train)\n",
    "print(classification_report(y_train, y_pred_train, labels=target_labels, target_names=target_names, digits=4))"
   ]
  },
  {
   "cell_type": "code",
   "execution_count": null,
   "id": "4c9d1818",
   "metadata": {},
   "outputs": [],
   "source": [
    "# Build classification report for test data set\n",
    "from sklearn.metrics import classification_report\n",
    "\n",
    "target_labels = [1, -1]\n",
    "target_names = ['dns', 'nondns']\n",
    "y_pred_train = lr.predict(X_test)\n",
    "print(classification_report(y_test, y_pred_test, labels=target_labels, target_names=target_names, digits=4))"
   ]
  },
  {
   "cell_type": "code",
   "execution_count": null,
   "id": "e30e6711",
   "metadata": {},
   "outputs": [],
   "source": [
    "# Print number of each feature with its coeffiecient, in sorted order\n",
    "numFeatures = lr.coef_[0].size\n",
    "sorted_coef = np.empty(shape = (numFeatures,2), dtype=object)\n",
    "for i in range(numFeatures):\n",
    "    sorted_coef[i, 0] = i\n",
    "    sorted_coef[i, 1] = lr.coef_[0][i]\n",
    "\n",
    "sorted_coef = sorted_coef[sorted_coef[:,1].argsort()] \n",
    "\n",
    "print(\"Most positively correlated features:\")    \n",
    "for rank in range (numFeatures-1,numFeatures-6,-1): \n",
    "    colnum, coef = sorted_coef[rank]\n",
    "    print(f\"{X_encoded.columns[colnum]} ({colnum}): {coef:6.2f}\")    \n",
    "\n",
    "print()\n",
    "print(\"Most negatively correlated features:\")\n",
    "for coef_num, coef_val in sorted_coef[0:5]:    \n",
    "    print(f\"{X_encoded.columns[coef_num]} ({coef_num}): {coef_val:6.2f}\")"
   ]
  },
  {
   "cell_type": "markdown",
   "id": "e7c6c5ed",
   "metadata": {},
   "source": [
    "## Train using 2 features"
   ]
  },
  {
   "cell_type": "code",
   "execution_count": null,
   "id": "e91eebbe",
   "metadata": {},
   "outputs": [],
   "source": [
    "# Pull out the feature set and result set from the data\n",
    "print(f\"shape of data set: {df.shape}\")\n",
    "print(X.columns)\n",
    "\n",
    "# Include only srv_count and dst_host_same_src_port_rate\n",
    "X20 = X.iloc[:, [23, 35]]\n",
    "print(f\"shape of X: {X20.shape}\")\n",
    "print(X20)"
   ]
  },
  {
   "cell_type": "code",
   "execution_count": null,
   "id": "115944b9",
   "metadata": {},
   "outputs": [],
   "source": [
    "# Dataset is unbalanced, we have many more failure cases than success cases. Use RandomUnderSampler to \n",
    "# balance the number of records of each type.\n",
    "from collections import Counter\n",
    "from imblearn.under_sampling import RandomUnderSampler \n",
    "\n",
    "print('Original dataset shape %s' % Counter(y))\n",
    "rus = RandomUnderSampler(random_state=0, sampling_strategy={1:50, -1:50})\n",
    "X21, y21 = rus.fit_resample(X20, y)\n",
    "print('Resampled dataset shape %s' % Counter(y21))\n",
    "print(X21.shape)"
   ]
  },
  {
   "cell_type": "code",
   "execution_count": null,
   "id": "eba64501",
   "metadata": {},
   "outputs": [],
   "source": [
    "# Standardize the feature set data to help with training.\n",
    "from sklearn import preprocessing\n",
    "\n",
    "scaler = preprocessing.StandardScaler().fit(X21)\n",
    "X22 = scaler.transform(X21)\n",
    "y22 = y21"
   ]
  },
  {
   "cell_type": "code",
   "execution_count": null,
   "id": "02ea074e",
   "metadata": {},
   "outputs": [],
   "source": [
    "# Create arrays for plotting the data set\n",
    "pos_feat1 = []\n",
    "pos_feat2 = []\n",
    "neg_feat1 = []\n",
    "neg_feat2 = []\n",
    "\n",
    "for i in range(y21.size):\n",
    "    if y21[i] == 1:\n",
    "        pos_feat1.append(X22[i][0])\n",
    "        pos_feat2.append(X22[i][1])\n",
    "    else:\n",
    "        neg_feat1.append(X22[i][0])\n",
    "        neg_feat2.append(X22[i][1])"
   ]
  },
  {
   "cell_type": "code",
   "execution_count": null,
   "id": "a78419a7",
   "metadata": {},
   "outputs": [],
   "source": [
    "%matplotlib inline\n",
    "import matplotlib.pyplot as plt\n",
    "\n",
    "# plot data\n",
    "plt.scatter(neg_feat1, neg_feat2,\n",
    "            color='blue', marker='x', label='nondns')\n",
    "plt.scatter(pos_feat1, pos_feat2,\n",
    "            color='red', marker='o', label='dns')\n",
    "\n",
    "plt.xlabel('srv_count')\n",
    "plt.ylabel('dst_host_same_src_port_rate')\n",
    "plt.legend(loc='lower right')\n",
    "\n",
    "plt.show()"
   ]
  },
  {
   "cell_type": "markdown",
   "id": "86c81c97",
   "metadata": {},
   "source": [
    "## Train against linear kernel"
   ]
  },
  {
   "cell_type": "code",
   "execution_count": null,
   "id": "b856bce9",
   "metadata": {},
   "outputs": [],
   "source": [
    "from sklearn.svm import SVC\n",
    "\n",
    "svm5 = SVC(kernel='linear', random_state=0)\n",
    "print(svm5.get_params())\n",
    "svm5.fit(X22, y22)\n",
    "\n",
    "print(f\"iterations required: {svm5.n_iter_}\")"
   ]
  },
  {
   "cell_type": "code",
   "execution_count": null,
   "id": "86e6c524",
   "metadata": {},
   "outputs": [],
   "source": [
    "from matplotlib.colors import ListedColormap\n",
    "\n",
    "\n",
    "def plot_decision_regions(X, y, classifier, resolution=0.02):\n",
    "\n",
    "    # setup marker generator and color map\n",
    "    markers = ('o', 's', 'x', '^', 'v')\n",
    "    colors = ('red', 'blue', 'lightgreen', 'gray', 'cyan')\n",
    "    cmap = ListedColormap(colors[:len(np.unique(y))])\n",
    "\n",
    "    # plot the decision surface\n",
    "    x1_min, x1_max = X[:, 0].min() - 1, X[:, 0].max() + 1\n",
    "    x2_min, x2_max = X[:, 1].min() - 1, X[:, 1].max() + 1\n",
    "    xx1, xx2 = np.meshgrid(np.arange(x1_min, x1_max, resolution),\n",
    "                           np.arange(x2_min, x2_max, resolution))\n",
    "    Z = classifier.predict(np.array([xx1.ravel(), xx2.ravel()]).T)\n",
    "    Z = Z.reshape(xx1.shape)\n",
    "    plt.contourf(xx1, xx2, Z, alpha=0.3, cmap=cmap)\n",
    "    plt.xlim(xx1.min(), xx1.max())\n",
    "    plt.ylim(xx2.min(), xx2.max())\n",
    "\n",
    "    # plot class samples\n",
    "    for idx, cl in enumerate(np.unique(y)):\n",
    "        plt.scatter(x=X[y == cl, 0], \n",
    "                    y=X[y == cl, 1],\n",
    "                    alpha=0.8, \n",
    "                    c=colors[idx],\n",
    "                    marker=markers[idx], \n",
    "                    label=cl, \n",
    "                    edgecolor='black')"
   ]
  },
  {
   "cell_type": "code",
   "execution_count": null,
   "id": "2a2aa39c",
   "metadata": {},
   "outputs": [],
   "source": [
    "plot_decision_regions(X22, y22, classifier=svm5)\n",
    "plt.title('Linear Kernel')\n",
    "plt.xlabel('srv_count')\n",
    "plt.ylabel('dst_host_same_src_port_rate')\n",
    "plt.legend(loc='upper left')\n",
    "plt.tight_layout()\n",
    "plt.show()"
   ]
  },
  {
   "cell_type": "markdown",
   "id": "4c31ebd4",
   "metadata": {},
   "source": [
    "## Train against RBF kernel"
   ]
  },
  {
   "cell_type": "code",
   "execution_count": null,
   "id": "559034e8",
   "metadata": {},
   "outputs": [],
   "source": [
    "from sklearn.svm import SVC\n",
    "\n",
    "svm6 = SVC(kernel='rbf', random_state=0)\n",
    "print(svm6.get_params())\n",
    "svm6.fit(X22, y22)\n",
    "\n",
    "print(f\"iterations required: {svm6.n_iter_}\")"
   ]
  },
  {
   "cell_type": "code",
   "execution_count": null,
   "id": "762c80be",
   "metadata": {},
   "outputs": [],
   "source": [
    "plot_decision_regions(X22, y22, classifier=svm6)\n",
    "plt.title('RBF Kernel')\n",
    "plt.xlabel('srv_count')\n",
    "plt.ylabel('dst_host_same_src_port_rate')\n",
    "plt.legend(loc='upper left')\n",
    "plt.tight_layout()\n",
    "plt.show()"
   ]
  },
  {
   "cell_type": "code",
   "execution_count": null,
   "id": "42fd6efd",
   "metadata": {},
   "outputs": [],
   "source": []
  }
 ],
 "metadata": {
  "kernelspec": {
   "display_name": "Python 3 (ipykernel)",
   "language": "python",
   "name": "python3"
  },
  "language_info": {
   "codemirror_mode": {
    "name": "ipython",
    "version": 3
   },
   "file_extension": ".py",
   "mimetype": "text/x-python",
   "name": "python",
   "nbconvert_exporter": "python",
   "pygments_lexer": "ipython3",
   "version": "3.10.6"
  }
 },
 "nbformat": 4,
 "nbformat_minor": 5
}
