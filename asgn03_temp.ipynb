{
 "cells": [
  {
   "cell_type": "markdown",
   "id": "32df94d6",
   "metadata": {},
   "source": [
    "## Task 2: Load the KDD99Cup data\n",
    "We have downloaded the the KDD99Cup data and have it in the local directory as \"kddcup.data\". We have also created a file called \"kddcup.headers\" in the local directory, which is a space delimited list of the header names for the features. We load the data into a DataFrame. Then, we split the data set into a feature set and target set, and add the headers to the feature set."
   ]
  },
  {
   "cell_type": "code",
   "execution_count": 4,
   "id": "ff3c85c0",
   "metadata": {},
   "outputs": [],
   "source": [
    "# Load kddcup data. This was downloaded and placed in the same directory as the notebook.\n",
    "# For header names, use file we created in the local directory called \"kddcup.headers\".\n",
    "import pandas as pd\n",
    "import numpy as np\n",
    "\n",
    "df = pd.read_csv('kddcup.data')\n",
    "headers = np.genfromtxt('kddcup.headers', dtype=str, delimiter=\" \")"
   ]
  },
  {
   "cell_type": "code",
   "execution_count": 6,
   "id": "3f2f358b",
   "metadata": {},
   "outputs": [
    {
     "name": "stdout",
     "output_type": "stream",
     "text": [
      "shape of data set: (4898430, 42)\n",
      "shape of X: (4898430, 41)\n",
      "shape of y: (4898430,)\n",
      "\n",
      "Count of records of each type:\n",
      "normal.: 972780\n",
      "buffer_overflow.: 30\n",
      "loadmodule.: 9\n",
      "perl.: 3\n",
      "neptune.: 1072017\n",
      "smurf.: 2807886\n",
      "guess_passwd.: 53\n",
      "pod.: 264\n",
      "teardrop.: 979\n",
      "portsweep.: 10413\n",
      "ipsweep.: 12481\n",
      "land.: 21\n",
      "ftp_write.: 8\n",
      "back.: 2203\n",
      "imap.: 12\n",
      "satan.: 15892\n",
      "phf.: 4\n",
      "nmap.: 2316\n",
      "multihop.: 7\n",
      "warezmaster.: 20\n",
      "warezclient.: 1020\n",
      "spy.: 2\n",
      "rootkit.: 10\n"
     ]
    }
   ],
   "source": [
    "# Pull out the feature set and result set from the data\n",
    "print(f\"shape of data set: {df.shape}\")\n",
    "y = df.iloc[:, 41].values\n",
    "X = df.iloc[:, 0:41]\n",
    "X.columns = headers\n",
    "print(f\"shape of X: {X.shape}\")\n",
    "print(f\"shape of y: {y.shape}\")\n",
    "print()\n",
    "\n",
    "#Print the number of records of each class\n",
    "from collections import Counter\n",
    "class_counts = Counter(y)\n",
    "print(\"Count of records of each type:\")\n",
    "for c in class_counts:\n",
    "    print(f\"{c}: {class_counts[c]}\")"
   ]
  },
  {
   "cell_type": "code",
   "execution_count": 9,
   "id": "4cee490e",
   "metadata": {},
   "outputs": [
    {
     "data": {
      "text/html": [
       "<div>\n",
       "<style scoped>\n",
       "    .dataframe tbody tr th:only-of-type {\n",
       "        vertical-align: middle;\n",
       "    }\n",
       "\n",
       "    .dataframe tbody tr th {\n",
       "        vertical-align: top;\n",
       "    }\n",
       "\n",
       "    .dataframe thead th {\n",
       "        text-align: right;\n",
       "    }\n",
       "</style>\n",
       "<table border=\"1\" class=\"dataframe\">\n",
       "  <thead>\n",
       "    <tr style=\"text-align: right;\">\n",
       "      <th></th>\n",
       "      <th>duration</th>\n",
       "      <th>protocol_type</th>\n",
       "      <th>service</th>\n",
       "      <th>flag</th>\n",
       "      <th>src_bytes</th>\n",
       "      <th>dst_bytes</th>\n",
       "      <th>land</th>\n",
       "      <th>wrong_fragment</th>\n",
       "      <th>urgent</th>\n",
       "      <th>hot</th>\n",
       "      <th>...</th>\n",
       "      <th>dst_host_count</th>\n",
       "      <th>dst_host_srv_count</th>\n",
       "      <th>dst_host_same_srv_rate</th>\n",
       "      <th>dst_host_diff_srv_rate</th>\n",
       "      <th>dst_host_same_src_port_rate</th>\n",
       "      <th>dst_host_srv_diff_host_rate</th>\n",
       "      <th>dst_host_serror_rate</th>\n",
       "      <th>dst_host_srv_serror_rate</th>\n",
       "      <th>dst_host_rerror_rate</th>\n",
       "      <th>dst_host_srv_rerror_rate</th>\n",
       "    </tr>\n",
       "  </thead>\n",
       "  <tbody>\n",
       "    <tr>\n",
       "      <th>count</th>\n",
       "      <td>4.898430e+06</td>\n",
       "      <td>4898430</td>\n",
       "      <td>4898430</td>\n",
       "      <td>4898430</td>\n",
       "      <td>4.898430e+06</td>\n",
       "      <td>4.898430e+06</td>\n",
       "      <td>4.898430e+06</td>\n",
       "      <td>4.898430e+06</td>\n",
       "      <td>4.898430e+06</td>\n",
       "      <td>4.898430e+06</td>\n",
       "      <td>...</td>\n",
       "      <td>4.898430e+06</td>\n",
       "      <td>4.898430e+06</td>\n",
       "      <td>4.898430e+06</td>\n",
       "      <td>4.898430e+06</td>\n",
       "      <td>4.898430e+06</td>\n",
       "      <td>4.898430e+06</td>\n",
       "      <td>4.898430e+06</td>\n",
       "      <td>4.898430e+06</td>\n",
       "      <td>4.898430e+06</td>\n",
       "      <td>4.898430e+06</td>\n",
       "    </tr>\n",
       "    <tr>\n",
       "      <th>unique</th>\n",
       "      <td>NaN</td>\n",
       "      <td>3</td>\n",
       "      <td>70</td>\n",
       "      <td>11</td>\n",
       "      <td>NaN</td>\n",
       "      <td>NaN</td>\n",
       "      <td>NaN</td>\n",
       "      <td>NaN</td>\n",
       "      <td>NaN</td>\n",
       "      <td>NaN</td>\n",
       "      <td>...</td>\n",
       "      <td>NaN</td>\n",
       "      <td>NaN</td>\n",
       "      <td>NaN</td>\n",
       "      <td>NaN</td>\n",
       "      <td>NaN</td>\n",
       "      <td>NaN</td>\n",
       "      <td>NaN</td>\n",
       "      <td>NaN</td>\n",
       "      <td>NaN</td>\n",
       "      <td>NaN</td>\n",
       "    </tr>\n",
       "    <tr>\n",
       "      <th>top</th>\n",
       "      <td>NaN</td>\n",
       "      <td>icmp</td>\n",
       "      <td>ecr_i</td>\n",
       "      <td>SF</td>\n",
       "      <td>NaN</td>\n",
       "      <td>NaN</td>\n",
       "      <td>NaN</td>\n",
       "      <td>NaN</td>\n",
       "      <td>NaN</td>\n",
       "      <td>NaN</td>\n",
       "      <td>...</td>\n",
       "      <td>NaN</td>\n",
       "      <td>NaN</td>\n",
       "      <td>NaN</td>\n",
       "      <td>NaN</td>\n",
       "      <td>NaN</td>\n",
       "      <td>NaN</td>\n",
       "      <td>NaN</td>\n",
       "      <td>NaN</td>\n",
       "      <td>NaN</td>\n",
       "      <td>NaN</td>\n",
       "    </tr>\n",
       "    <tr>\n",
       "      <th>freq</th>\n",
       "      <td>NaN</td>\n",
       "      <td>2833545</td>\n",
       "      <td>2811660</td>\n",
       "      <td>3744327</td>\n",
       "      <td>NaN</td>\n",
       "      <td>NaN</td>\n",
       "      <td>NaN</td>\n",
       "      <td>NaN</td>\n",
       "      <td>NaN</td>\n",
       "      <td>NaN</td>\n",
       "      <td>...</td>\n",
       "      <td>NaN</td>\n",
       "      <td>NaN</td>\n",
       "      <td>NaN</td>\n",
       "      <td>NaN</td>\n",
       "      <td>NaN</td>\n",
       "      <td>NaN</td>\n",
       "      <td>NaN</td>\n",
       "      <td>NaN</td>\n",
       "      <td>NaN</td>\n",
       "      <td>NaN</td>\n",
       "    </tr>\n",
       "    <tr>\n",
       "      <th>mean</th>\n",
       "      <td>4.834244e+01</td>\n",
       "      <td>NaN</td>\n",
       "      <td>NaN</td>\n",
       "      <td>NaN</td>\n",
       "      <td>1.834622e+03</td>\n",
       "      <td>1.093614e+03</td>\n",
       "      <td>5.716117e-06</td>\n",
       "      <td>6.487793e-04</td>\n",
       "      <td>7.961735e-06</td>\n",
       "      <td>1.243766e-02</td>\n",
       "      <td>...</td>\n",
       "      <td>2.329811e+02</td>\n",
       "      <td>1.892143e+02</td>\n",
       "      <td>7.537134e-01</td>\n",
       "      <td>3.071111e-02</td>\n",
       "      <td>6.050521e-01</td>\n",
       "      <td>6.464108e-03</td>\n",
       "      <td>1.780912e-01</td>\n",
       "      <td>1.778859e-01</td>\n",
       "      <td>5.792782e-02</td>\n",
       "      <td>5.765943e-02</td>\n",
       "    </tr>\n",
       "    <tr>\n",
       "      <th>std</th>\n",
       "      <td>7.233299e+02</td>\n",
       "      <td>NaN</td>\n",
       "      <td>NaN</td>\n",
       "      <td>NaN</td>\n",
       "      <td>9.414312e+05</td>\n",
       "      <td>6.450124e+05</td>\n",
       "      <td>2.390834e-03</td>\n",
       "      <td>4.285434e-02</td>\n",
       "      <td>7.215084e-03</td>\n",
       "      <td>4.689782e-01</td>\n",
       "      <td>...</td>\n",
       "      <td>6.402086e+01</td>\n",
       "      <td>1.059127e+02</td>\n",
       "      <td>4.111859e-01</td>\n",
       "      <td>1.085432e-01</td>\n",
       "      <td>4.809877e-01</td>\n",
       "      <td>4.125978e-02</td>\n",
       "      <td>3.818382e-01</td>\n",
       "      <td>3.821775e-01</td>\n",
       "      <td>2.309428e-01</td>\n",
       "      <td>2.309777e-01</td>\n",
       "    </tr>\n",
       "    <tr>\n",
       "      <th>min</th>\n",
       "      <td>0.000000e+00</td>\n",
       "      <td>NaN</td>\n",
       "      <td>NaN</td>\n",
       "      <td>NaN</td>\n",
       "      <td>0.000000e+00</td>\n",
       "      <td>0.000000e+00</td>\n",
       "      <td>0.000000e+00</td>\n",
       "      <td>0.000000e+00</td>\n",
       "      <td>0.000000e+00</td>\n",
       "      <td>0.000000e+00</td>\n",
       "      <td>...</td>\n",
       "      <td>0.000000e+00</td>\n",
       "      <td>0.000000e+00</td>\n",
       "      <td>0.000000e+00</td>\n",
       "      <td>0.000000e+00</td>\n",
       "      <td>0.000000e+00</td>\n",
       "      <td>0.000000e+00</td>\n",
       "      <td>0.000000e+00</td>\n",
       "      <td>0.000000e+00</td>\n",
       "      <td>0.000000e+00</td>\n",
       "      <td>0.000000e+00</td>\n",
       "    </tr>\n",
       "    <tr>\n",
       "      <th>25%</th>\n",
       "      <td>0.000000e+00</td>\n",
       "      <td>NaN</td>\n",
       "      <td>NaN</td>\n",
       "      <td>NaN</td>\n",
       "      <td>4.500000e+01</td>\n",
       "      <td>0.000000e+00</td>\n",
       "      <td>0.000000e+00</td>\n",
       "      <td>0.000000e+00</td>\n",
       "      <td>0.000000e+00</td>\n",
       "      <td>0.000000e+00</td>\n",
       "      <td>...</td>\n",
       "      <td>2.550000e+02</td>\n",
       "      <td>4.900000e+01</td>\n",
       "      <td>4.100000e-01</td>\n",
       "      <td>0.000000e+00</td>\n",
       "      <td>0.000000e+00</td>\n",
       "      <td>0.000000e+00</td>\n",
       "      <td>0.000000e+00</td>\n",
       "      <td>0.000000e+00</td>\n",
       "      <td>0.000000e+00</td>\n",
       "      <td>0.000000e+00</td>\n",
       "    </tr>\n",
       "    <tr>\n",
       "      <th>50%</th>\n",
       "      <td>0.000000e+00</td>\n",
       "      <td>NaN</td>\n",
       "      <td>NaN</td>\n",
       "      <td>NaN</td>\n",
       "      <td>5.200000e+02</td>\n",
       "      <td>0.000000e+00</td>\n",
       "      <td>0.000000e+00</td>\n",
       "      <td>0.000000e+00</td>\n",
       "      <td>0.000000e+00</td>\n",
       "      <td>0.000000e+00</td>\n",
       "      <td>...</td>\n",
       "      <td>2.550000e+02</td>\n",
       "      <td>2.550000e+02</td>\n",
       "      <td>1.000000e+00</td>\n",
       "      <td>0.000000e+00</td>\n",
       "      <td>1.000000e+00</td>\n",
       "      <td>0.000000e+00</td>\n",
       "      <td>0.000000e+00</td>\n",
       "      <td>0.000000e+00</td>\n",
       "      <td>0.000000e+00</td>\n",
       "      <td>0.000000e+00</td>\n",
       "    </tr>\n",
       "    <tr>\n",
       "      <th>75%</th>\n",
       "      <td>0.000000e+00</td>\n",
       "      <td>NaN</td>\n",
       "      <td>NaN</td>\n",
       "      <td>NaN</td>\n",
       "      <td>1.032000e+03</td>\n",
       "      <td>0.000000e+00</td>\n",
       "      <td>0.000000e+00</td>\n",
       "      <td>0.000000e+00</td>\n",
       "      <td>0.000000e+00</td>\n",
       "      <td>0.000000e+00</td>\n",
       "      <td>...</td>\n",
       "      <td>2.550000e+02</td>\n",
       "      <td>2.550000e+02</td>\n",
       "      <td>1.000000e+00</td>\n",
       "      <td>4.000000e-02</td>\n",
       "      <td>1.000000e+00</td>\n",
       "      <td>0.000000e+00</td>\n",
       "      <td>0.000000e+00</td>\n",
       "      <td>0.000000e+00</td>\n",
       "      <td>0.000000e+00</td>\n",
       "      <td>0.000000e+00</td>\n",
       "    </tr>\n",
       "    <tr>\n",
       "      <th>max</th>\n",
       "      <td>5.832900e+04</td>\n",
       "      <td>NaN</td>\n",
       "      <td>NaN</td>\n",
       "      <td>NaN</td>\n",
       "      <td>1.379964e+09</td>\n",
       "      <td>1.309937e+09</td>\n",
       "      <td>1.000000e+00</td>\n",
       "      <td>3.000000e+00</td>\n",
       "      <td>1.400000e+01</td>\n",
       "      <td>7.700000e+01</td>\n",
       "      <td>...</td>\n",
       "      <td>2.550000e+02</td>\n",
       "      <td>2.550000e+02</td>\n",
       "      <td>1.000000e+00</td>\n",
       "      <td>1.000000e+00</td>\n",
       "      <td>1.000000e+00</td>\n",
       "      <td>1.000000e+00</td>\n",
       "      <td>1.000000e+00</td>\n",
       "      <td>1.000000e+00</td>\n",
       "      <td>1.000000e+00</td>\n",
       "      <td>1.000000e+00</td>\n",
       "    </tr>\n",
       "  </tbody>\n",
       "</table>\n",
       "<p>11 rows × 41 columns</p>\n",
       "</div>"
      ],
      "text/plain": [
       "            duration protocol_type  service     flag     src_bytes  \\\n",
       "count   4.898430e+06       4898430  4898430  4898430  4.898430e+06   \n",
       "unique           NaN             3       70       11           NaN   \n",
       "top              NaN          icmp    ecr_i       SF           NaN   \n",
       "freq             NaN       2833545  2811660  3744327           NaN   \n",
       "mean    4.834244e+01           NaN      NaN      NaN  1.834622e+03   \n",
       "std     7.233299e+02           NaN      NaN      NaN  9.414312e+05   \n",
       "min     0.000000e+00           NaN      NaN      NaN  0.000000e+00   \n",
       "25%     0.000000e+00           NaN      NaN      NaN  4.500000e+01   \n",
       "50%     0.000000e+00           NaN      NaN      NaN  5.200000e+02   \n",
       "75%     0.000000e+00           NaN      NaN      NaN  1.032000e+03   \n",
       "max     5.832900e+04           NaN      NaN      NaN  1.379964e+09   \n",
       "\n",
       "           dst_bytes          land  wrong_fragment        urgent  \\\n",
       "count   4.898430e+06  4.898430e+06    4.898430e+06  4.898430e+06   \n",
       "unique           NaN           NaN             NaN           NaN   \n",
       "top              NaN           NaN             NaN           NaN   \n",
       "freq             NaN           NaN             NaN           NaN   \n",
       "mean    1.093614e+03  5.716117e-06    6.487793e-04  7.961735e-06   \n",
       "std     6.450124e+05  2.390834e-03    4.285434e-02  7.215084e-03   \n",
       "min     0.000000e+00  0.000000e+00    0.000000e+00  0.000000e+00   \n",
       "25%     0.000000e+00  0.000000e+00    0.000000e+00  0.000000e+00   \n",
       "50%     0.000000e+00  0.000000e+00    0.000000e+00  0.000000e+00   \n",
       "75%     0.000000e+00  0.000000e+00    0.000000e+00  0.000000e+00   \n",
       "max     1.309937e+09  1.000000e+00    3.000000e+00  1.400000e+01   \n",
       "\n",
       "                 hot  ...  dst_host_count  dst_host_srv_count  \\\n",
       "count   4.898430e+06  ...    4.898430e+06        4.898430e+06   \n",
       "unique           NaN  ...             NaN                 NaN   \n",
       "top              NaN  ...             NaN                 NaN   \n",
       "freq             NaN  ...             NaN                 NaN   \n",
       "mean    1.243766e-02  ...    2.329811e+02        1.892143e+02   \n",
       "std     4.689782e-01  ...    6.402086e+01        1.059127e+02   \n",
       "min     0.000000e+00  ...    0.000000e+00        0.000000e+00   \n",
       "25%     0.000000e+00  ...    2.550000e+02        4.900000e+01   \n",
       "50%     0.000000e+00  ...    2.550000e+02        2.550000e+02   \n",
       "75%     0.000000e+00  ...    2.550000e+02        2.550000e+02   \n",
       "max     7.700000e+01  ...    2.550000e+02        2.550000e+02   \n",
       "\n",
       "        dst_host_same_srv_rate  dst_host_diff_srv_rate  \\\n",
       "count             4.898430e+06            4.898430e+06   \n",
       "unique                     NaN                     NaN   \n",
       "top                        NaN                     NaN   \n",
       "freq                       NaN                     NaN   \n",
       "mean              7.537134e-01            3.071111e-02   \n",
       "std               4.111859e-01            1.085432e-01   \n",
       "min               0.000000e+00            0.000000e+00   \n",
       "25%               4.100000e-01            0.000000e+00   \n",
       "50%               1.000000e+00            0.000000e+00   \n",
       "75%               1.000000e+00            4.000000e-02   \n",
       "max               1.000000e+00            1.000000e+00   \n",
       "\n",
       "        dst_host_same_src_port_rate  dst_host_srv_diff_host_rate  \\\n",
       "count                  4.898430e+06                 4.898430e+06   \n",
       "unique                          NaN                          NaN   \n",
       "top                             NaN                          NaN   \n",
       "freq                            NaN                          NaN   \n",
       "mean                   6.050521e-01                 6.464108e-03   \n",
       "std                    4.809877e-01                 4.125978e-02   \n",
       "min                    0.000000e+00                 0.000000e+00   \n",
       "25%                    0.000000e+00                 0.000000e+00   \n",
       "50%                    1.000000e+00                 0.000000e+00   \n",
       "75%                    1.000000e+00                 0.000000e+00   \n",
       "max                    1.000000e+00                 1.000000e+00   \n",
       "\n",
       "        dst_host_serror_rate  dst_host_srv_serror_rate  dst_host_rerror_rate  \\\n",
       "count           4.898430e+06              4.898430e+06          4.898430e+06   \n",
       "unique                   NaN                       NaN                   NaN   \n",
       "top                      NaN                       NaN                   NaN   \n",
       "freq                     NaN                       NaN                   NaN   \n",
       "mean            1.780912e-01              1.778859e-01          5.792782e-02   \n",
       "std             3.818382e-01              3.821775e-01          2.309428e-01   \n",
       "min             0.000000e+00              0.000000e+00          0.000000e+00   \n",
       "25%             0.000000e+00              0.000000e+00          0.000000e+00   \n",
       "50%             0.000000e+00              0.000000e+00          0.000000e+00   \n",
       "75%             0.000000e+00              0.000000e+00          0.000000e+00   \n",
       "max             1.000000e+00              1.000000e+00          1.000000e+00   \n",
       "\n",
       "        dst_host_srv_rerror_rate  \n",
       "count               4.898430e+06  \n",
       "unique                       NaN  \n",
       "top                          NaN  \n",
       "freq                         NaN  \n",
       "mean                5.765943e-02  \n",
       "std                 2.309777e-01  \n",
       "min                 0.000000e+00  \n",
       "25%                 0.000000e+00  \n",
       "50%                 0.000000e+00  \n",
       "75%                 0.000000e+00  \n",
       "max                 1.000000e+00  \n",
       "\n",
       "[11 rows x 41 columns]"
      ]
     },
     "execution_count": 9,
     "metadata": {},
     "output_type": "execute_result"
    }
   ],
   "source": [
    "X.describe(include='all')"
   ]
  },
  {
   "cell_type": "code",
   "execution_count": 12,
   "id": "d8d2ec86",
   "metadata": {},
   "outputs": [
    {
     "name": "stdout",
     "output_type": "stream",
     "text": [
      "<class 'pandas.core.frame.DataFrame'>\n",
      "RangeIndex: 4898430 entries, 0 to 4898429\n",
      "Data columns (total 41 columns):\n",
      " #   Column                       Dtype  \n",
      "---  ------                       -----  \n",
      " 0   duration                     int64  \n",
      " 1   protocol_type                object \n",
      " 2   service                      object \n",
      " 3   flag                         object \n",
      " 4   src_bytes                    int64  \n",
      " 5   dst_bytes                    int64  \n",
      " 6   land                         int64  \n",
      " 7   wrong_fragment               int64  \n",
      " 8   urgent                       int64  \n",
      " 9   hot                          int64  \n",
      " 10  num_failed_logins            int64  \n",
      " 11  logged_in                    int64  \n",
      " 12  num_compromised              int64  \n",
      " 13  root_shell                   int64  \n",
      " 14  su_attempted                 int64  \n",
      " 15  num_root                     int64  \n",
      " 16  num_file_creations           int64  \n",
      " 17  num_shells                   int64  \n",
      " 18  num_access_files             int64  \n",
      " 19  num_outbound_cmds            int64  \n",
      " 20  is_host_login                int64  \n",
      " 21  is_guest_login               int64  \n",
      " 22  count                        int64  \n",
      " 23  srv_count                    int64  \n",
      " 24  serror_rate                  float64\n",
      " 25  srv_serror_rate              float64\n",
      " 26  rerror_rate                  float64\n",
      " 27  srv_rerror_rate              float64\n",
      " 28  same_srv_rate                float64\n",
      " 29  diff_srv_rate                float64\n",
      " 30  srv_diff_host_rate           float64\n",
      " 31  dst_host_count               int64  \n",
      " 32  dst_host_srv_count           int64  \n",
      " 33  dst_host_same_srv_rate       float64\n",
      " 34  dst_host_diff_srv_rate       float64\n",
      " 35  dst_host_same_src_port_rate  float64\n",
      " 36  dst_host_srv_diff_host_rate  float64\n",
      " 37  dst_host_serror_rate         float64\n",
      " 38  dst_host_srv_serror_rate     float64\n",
      " 39  dst_host_rerror_rate         float64\n",
      " 40  dst_host_srv_rerror_rate     float64\n",
      "dtypes: float64(15), int64(23), object(3)\n",
      "memory usage: 1.5+ GB\n"
     ]
    }
   ],
   "source": [
    "X.info()"
   ]
  },
  {
   "cell_type": "code",
   "execution_count": 122,
   "id": "2979dceb",
   "metadata": {},
   "outputs": [
    {
     "name": "stdout",
     "output_type": "stream",
     "text": [
      "Counter({'icmp': 2833545, 'tcp': 1870597, 'udp': 194288})\n",
      "Counter({'ecr_i': 2811660, 'private': 1100831, 'http': 623090, 'smtp': 96554, 'other': 72653, 'domain_u': 57782, 'ftp_data': 40697, 'eco_i': 16338, 'finger': 6891, 'urp_i': 5378, 'ftp': 5214, 'telnet': 4277, 'ntp_u': 3833, 'auth': 3382, 'pop_3': 1981, 'time': 1579, 'domain': 1113, 'Z39_50': 1078, 'gopher': 1077, 'mtp': 1076, 'ssh': 1075, 'whois': 1073, 'remote_job': 1073, 'rje': 1070, 'link': 1069, 'imap4': 1069, 'ctf': 1068, 'name': 1067, 'supdup': 1060, 'echo': 1059, 'discard': 1059, 'nntp': 1059, 'uucp_path': 1057, 'netstat': 1056, 'daytime': 1056, 'systat': 1056, 'sunrpc': 1056, 'netbios_ssn': 1055, 'pop_2': 1055, 'netbios_ns': 1054, 'vmnet': 1053, 'netbios_dgm': 1052, 'sql_net': 1052, 'iso_tsap': 1052, 'shell': 1051, 'csnet_ns': 1051, 'klogin': 1050, 'hostnames': 1050, 'bgp': 1047, 'login': 1045, 'exec': 1045, 'printer': 1045, 'http_443': 1044, 'efs': 1042, 'uucp': 1041, 'ldap': 1041, 'kshell': 1040, 'nnsp': 1038, 'courier': 1021, 'IRC': 521, 'urh_i': 148, 'X11': 135, 'tim_i': 12, 'red_i': 9, 'pm_dump': 5, 'tftp_u': 3, 'harvest': 2, 'aol': 2, 'http_8001': 2, 'http_2784': 1})\n",
      "Counter({'SF': 3744327, 'S0': 869829, 'REJ': 268874, 'RSTR': 8094, 'RSTO': 5344, 'SH': 1040, 'S1': 532, 'S2': 161, 'RSTOS0': 122, 'OTH': 57, 'S3': 50})\n"
     ]
    }
   ],
   "source": [
    "# Look at the occurence of the different categories in the categorical features\n",
    "print(Counter(X['protocol_type']))\n",
    "print(Counter(X['service']))\n",
    "print(Counter(X['flag']))"
   ]
  },
  {
   "cell_type": "markdown",
   "id": "136f230e",
   "metadata": {},
   "source": [
    "## Task 3: Train LogisticRegression classifier to classify Probe vs. Non-Probe\n",
    "To do this, we first update our target set to indicate which records are probe (1) and which are non-probe (-1). Our data set is unbalanced, so we use RandomUnderSampler to balance the the data set. We have string (categorial) features in our data set, so we use OneHotEncoder to encode those. Finally, we standardize our feature set using StandardScaler. We then train the classifier against the training set, test it against the testing set, and then report our results."
   ]
  },
  {
   "cell_type": "markdown",
   "id": "d0eaa2e8",
   "metadata": {},
   "source": [
    "### Task 3a: Prepare the training and testing sets"
   ]
  },
  {
   "cell_type": "code",
   "execution_count": 13,
   "id": "ee21a23b",
   "metadata": {},
   "outputs": [
    {
     "name": "stdout",
     "output_type": "stream",
     "text": [
      "Counter({-1: 4857328, 1: 41102})\n"
     ]
    }
   ],
   "source": [
    "# Convert classes in y to success (1) or failure (-1).\n",
    "# ipsweep probe, portsweep probe, nmap probe, and sata probe should be considered successes (1).\n",
    "# Any other value, including normal, is considered a failure case (-1).\n",
    "import numpy as np\n",
    "y = np.where(y==\"ipsweep.\", 1, y)\n",
    "y = np.where(y==\"portsweep.\", 1, y)\n",
    "y = np.where(y==\"nmap.\", 1, y)\n",
    "y = np.where(y==\"satan.\", 1, y)\n",
    "y = np.where(y==1, y, -1)\n",
    "y = y.astype('int')\n",
    "print(Counter(y))"
   ]
  },
  {
   "cell_type": "code",
   "execution_count": 14,
   "id": "e2751adf",
   "metadata": {},
   "outputs": [
    {
     "name": "stdout",
     "output_type": "stream",
     "text": [
      "Original dataset shape Counter({-1: 4857328, 1: 41102})\n",
      "Resampled dataset shape Counter({-1: 41102, 1: 41102})\n"
     ]
    }
   ],
   "source": [
    "# Dataset is unbalanced, we have many more failure cases than success cases. Use RandomUnderSampler to \n",
    "# balance the number of records of each type.\n",
    "from collections import Counter\n",
    "from imblearn.under_sampling import RandomUnderSampler \n",
    "\n",
    "print('Original dataset shape %s' % Counter(y))\n",
    "rus = RandomUnderSampler(random_state=0)\n",
    "X1, y1 = rus.fit_resample(X, y)\n",
    "print('Resampled dataset shape %s' % Counter(y1))"
   ]
  },
  {
   "cell_type": "code",
   "execution_count": 15,
   "id": "531e5591",
   "metadata": {},
   "outputs": [
    {
     "name": "stdout",
     "output_type": "stream",
     "text": [
      "(82204, 43)\n"
     ]
    }
   ],
   "source": [
    "# Use OneHotEncoder on protocol_type\n",
    "from sklearn.preprocessing import OneHotEncoder\n",
    "\n",
    "enc = OneHotEncoder(sparse=False)\n",
    "X2 = pd.DataFrame(enc.fit_transform(X1[['protocol_type']]))\n",
    "X2.columns = enc.get_feature_names_out(['protocol_type'])\n",
    "X3 = X1.copy()\n",
    "X3.drop(['protocol_type'], axis=1, inplace=True)\n",
    "X4 = pd.concat([X3, X2], axis=1)\n",
    "print(X4.shape)"
   ]
  },
  {
   "cell_type": "code",
   "execution_count": 16,
   "id": "1459cf00",
   "metadata": {},
   "outputs": [
    {
     "name": "stdout",
     "output_type": "stream",
     "text": [
      "(82204, 108)\n"
     ]
    }
   ],
   "source": [
    "# Use OneHotEncoder on service\n",
    "X5 = pd.DataFrame(enc.fit_transform(X4[['service']]))\n",
    "X5.columns = enc.get_feature_names_out(['service'])\n",
    "X6 = X4.copy()\n",
    "X6.drop(['service'], axis=1, inplace=True)\n",
    "X7 = pd.concat([X6, X5 ], axis=1)\n",
    "print(X7.shape)"
   ]
  },
  {
   "cell_type": "code",
   "execution_count": 17,
   "id": "2689a70f",
   "metadata": {},
   "outputs": [
    {
     "name": "stdout",
     "output_type": "stream",
     "text": [
      "(82204, 118)\n"
     ]
    }
   ],
   "source": [
    "# Use OneHotEncoder on flag\n",
    "X8 = pd.DataFrame(enc.fit_transform(X7[['flag']]))\n",
    "X8.columns = enc.get_feature_names_out(['flag'])\n",
    "X9 = X7.copy()\n",
    "X9.drop(['flag'], axis=1, inplace=True)\n",
    "X10 = pd.concat([X9, X8], axis=1)\n",
    "print(X10.shape)"
   ]
  },
  {
   "cell_type": "code",
   "execution_count": 18,
   "id": "4b7e1942",
   "metadata": {},
   "outputs": [],
   "source": [
    "# Store final feature set into X_encoded\n",
    "X_encoded = X10"
   ]
  },
  {
   "cell_type": "code",
   "execution_count": 37,
   "id": "26a99f17",
   "metadata": {},
   "outputs": [
    {
     "data": {
      "text/html": [
       "<div>\n",
       "<style scoped>\n",
       "    .dataframe tbody tr th:only-of-type {\n",
       "        vertical-align: middle;\n",
       "    }\n",
       "\n",
       "    .dataframe tbody tr th {\n",
       "        vertical-align: top;\n",
       "    }\n",
       "\n",
       "    .dataframe thead th {\n",
       "        text-align: right;\n",
       "    }\n",
       "</style>\n",
       "<table border=\"1\" class=\"dataframe\">\n",
       "  <thead>\n",
       "    <tr style=\"text-align: right;\">\n",
       "      <th></th>\n",
       "      <th>duration</th>\n",
       "      <th>src_bytes</th>\n",
       "      <th>dst_bytes</th>\n",
       "      <th>land</th>\n",
       "      <th>wrong_fragment</th>\n",
       "      <th>urgent</th>\n",
       "      <th>hot</th>\n",
       "      <th>num_failed_logins</th>\n",
       "      <th>logged_in</th>\n",
       "      <th>num_compromised</th>\n",
       "      <th>...</th>\n",
       "      <th>flag_REJ</th>\n",
       "      <th>flag_RSTO</th>\n",
       "      <th>flag_RSTOS0</th>\n",
       "      <th>flag_RSTR</th>\n",
       "      <th>flag_S0</th>\n",
       "      <th>flag_S1</th>\n",
       "      <th>flag_S2</th>\n",
       "      <th>flag_S3</th>\n",
       "      <th>flag_SF</th>\n",
       "      <th>flag_SH</th>\n",
       "    </tr>\n",
       "  </thead>\n",
       "  <tbody>\n",
       "    <tr>\n",
       "      <th>0</th>\n",
       "      <td>0</td>\n",
       "      <td>1032</td>\n",
       "      <td>0</td>\n",
       "      <td>0</td>\n",
       "      <td>0</td>\n",
       "      <td>0</td>\n",
       "      <td>0</td>\n",
       "      <td>0</td>\n",
       "      <td>0</td>\n",
       "      <td>0</td>\n",
       "      <td>...</td>\n",
       "      <td>0.0</td>\n",
       "      <td>0.0</td>\n",
       "      <td>0.0</td>\n",
       "      <td>0.0</td>\n",
       "      <td>0.0</td>\n",
       "      <td>0.0</td>\n",
       "      <td>0.0</td>\n",
       "      <td>0.0</td>\n",
       "      <td>1.0</td>\n",
       "      <td>0.0</td>\n",
       "    </tr>\n",
       "    <tr>\n",
       "      <th>45533</th>\n",
       "      <td>0</td>\n",
       "      <td>8</td>\n",
       "      <td>0</td>\n",
       "      <td>0</td>\n",
       "      <td>0</td>\n",
       "      <td>0</td>\n",
       "      <td>0</td>\n",
       "      <td>0</td>\n",
       "      <td>0</td>\n",
       "      <td>0</td>\n",
       "      <td>...</td>\n",
       "      <td>0.0</td>\n",
       "      <td>0.0</td>\n",
       "      <td>0.0</td>\n",
       "      <td>0.0</td>\n",
       "      <td>0.0</td>\n",
       "      <td>0.0</td>\n",
       "      <td>0.0</td>\n",
       "      <td>0.0</td>\n",
       "      <td>1.0</td>\n",
       "      <td>0.0</td>\n",
       "    </tr>\n",
       "    <tr>\n",
       "      <th>45534</th>\n",
       "      <td>0</td>\n",
       "      <td>8</td>\n",
       "      <td>0</td>\n",
       "      <td>0</td>\n",
       "      <td>0</td>\n",
       "      <td>0</td>\n",
       "      <td>0</td>\n",
       "      <td>0</td>\n",
       "      <td>0</td>\n",
       "      <td>0</td>\n",
       "      <td>...</td>\n",
       "      <td>0.0</td>\n",
       "      <td>0.0</td>\n",
       "      <td>0.0</td>\n",
       "      <td>0.0</td>\n",
       "      <td>0.0</td>\n",
       "      <td>0.0</td>\n",
       "      <td>0.0</td>\n",
       "      <td>0.0</td>\n",
       "      <td>1.0</td>\n",
       "      <td>0.0</td>\n",
       "    </tr>\n",
       "    <tr>\n",
       "      <th>45535</th>\n",
       "      <td>0</td>\n",
       "      <td>8</td>\n",
       "      <td>0</td>\n",
       "      <td>0</td>\n",
       "      <td>0</td>\n",
       "      <td>0</td>\n",
       "      <td>0</td>\n",
       "      <td>0</td>\n",
       "      <td>0</td>\n",
       "      <td>0</td>\n",
       "      <td>...</td>\n",
       "      <td>0.0</td>\n",
       "      <td>0.0</td>\n",
       "      <td>0.0</td>\n",
       "      <td>0.0</td>\n",
       "      <td>0.0</td>\n",
       "      <td>0.0</td>\n",
       "      <td>0.0</td>\n",
       "      <td>0.0</td>\n",
       "      <td>1.0</td>\n",
       "      <td>0.0</td>\n",
       "    </tr>\n",
       "    <tr>\n",
       "      <th>45536</th>\n",
       "      <td>0</td>\n",
       "      <td>8</td>\n",
       "      <td>0</td>\n",
       "      <td>0</td>\n",
       "      <td>0</td>\n",
       "      <td>0</td>\n",
       "      <td>0</td>\n",
       "      <td>0</td>\n",
       "      <td>0</td>\n",
       "      <td>0</td>\n",
       "      <td>...</td>\n",
       "      <td>0.0</td>\n",
       "      <td>0.0</td>\n",
       "      <td>0.0</td>\n",
       "      <td>0.0</td>\n",
       "      <td>0.0</td>\n",
       "      <td>0.0</td>\n",
       "      <td>0.0</td>\n",
       "      <td>0.0</td>\n",
       "      <td>1.0</td>\n",
       "      <td>0.0</td>\n",
       "    </tr>\n",
       "    <tr>\n",
       "      <th>...</th>\n",
       "      <td>...</td>\n",
       "      <td>...</td>\n",
       "      <td>...</td>\n",
       "      <td>...</td>\n",
       "      <td>...</td>\n",
       "      <td>...</td>\n",
       "      <td>...</td>\n",
       "      <td>...</td>\n",
       "      <td>...</td>\n",
       "      <td>...</td>\n",
       "      <td>...</td>\n",
       "      <td>...</td>\n",
       "      <td>...</td>\n",
       "      <td>...</td>\n",
       "      <td>...</td>\n",
       "      <td>...</td>\n",
       "      <td>...</td>\n",
       "      <td>...</td>\n",
       "      <td>...</td>\n",
       "      <td>...</td>\n",
       "      <td>...</td>\n",
       "    </tr>\n",
       "    <tr>\n",
       "      <th>60866</th>\n",
       "      <td>0</td>\n",
       "      <td>0</td>\n",
       "      <td>0</td>\n",
       "      <td>0</td>\n",
       "      <td>0</td>\n",
       "      <td>0</td>\n",
       "      <td>0</td>\n",
       "      <td>0</td>\n",
       "      <td>0</td>\n",
       "      <td>0</td>\n",
       "      <td>...</td>\n",
       "      <td>1.0</td>\n",
       "      <td>0.0</td>\n",
       "      <td>0.0</td>\n",
       "      <td>0.0</td>\n",
       "      <td>0.0</td>\n",
       "      <td>0.0</td>\n",
       "      <td>0.0</td>\n",
       "      <td>0.0</td>\n",
       "      <td>0.0</td>\n",
       "      <td>0.0</td>\n",
       "    </tr>\n",
       "    <tr>\n",
       "      <th>60865</th>\n",
       "      <td>0</td>\n",
       "      <td>0</td>\n",
       "      <td>0</td>\n",
       "      <td>0</td>\n",
       "      <td>0</td>\n",
       "      <td>0</td>\n",
       "      <td>0</td>\n",
       "      <td>0</td>\n",
       "      <td>0</td>\n",
       "      <td>0</td>\n",
       "      <td>...</td>\n",
       "      <td>1.0</td>\n",
       "      <td>0.0</td>\n",
       "      <td>0.0</td>\n",
       "      <td>0.0</td>\n",
       "      <td>0.0</td>\n",
       "      <td>0.0</td>\n",
       "      <td>0.0</td>\n",
       "      <td>0.0</td>\n",
       "      <td>0.0</td>\n",
       "      <td>0.0</td>\n",
       "    </tr>\n",
       "    <tr>\n",
       "      <th>60864</th>\n",
       "      <td>0</td>\n",
       "      <td>0</td>\n",
       "      <td>0</td>\n",
       "      <td>0</td>\n",
       "      <td>0</td>\n",
       "      <td>0</td>\n",
       "      <td>0</td>\n",
       "      <td>0</td>\n",
       "      <td>0</td>\n",
       "      <td>0</td>\n",
       "      <td>...</td>\n",
       "      <td>1.0</td>\n",
       "      <td>0.0</td>\n",
       "      <td>0.0</td>\n",
       "      <td>0.0</td>\n",
       "      <td>0.0</td>\n",
       "      <td>0.0</td>\n",
       "      <td>0.0</td>\n",
       "      <td>0.0</td>\n",
       "      <td>0.0</td>\n",
       "      <td>0.0</td>\n",
       "    </tr>\n",
       "    <tr>\n",
       "      <th>60838</th>\n",
       "      <td>0</td>\n",
       "      <td>0</td>\n",
       "      <td>0</td>\n",
       "      <td>0</td>\n",
       "      <td>0</td>\n",
       "      <td>0</td>\n",
       "      <td>0</td>\n",
       "      <td>0</td>\n",
       "      <td>0</td>\n",
       "      <td>0</td>\n",
       "      <td>...</td>\n",
       "      <td>1.0</td>\n",
       "      <td>0.0</td>\n",
       "      <td>0.0</td>\n",
       "      <td>0.0</td>\n",
       "      <td>0.0</td>\n",
       "      <td>0.0</td>\n",
       "      <td>0.0</td>\n",
       "      <td>0.0</td>\n",
       "      <td>0.0</td>\n",
       "      <td>0.0</td>\n",
       "    </tr>\n",
       "    <tr>\n",
       "      <th>41101</th>\n",
       "      <td>0</td>\n",
       "      <td>0</td>\n",
       "      <td>0</td>\n",
       "      <td>0</td>\n",
       "      <td>0</td>\n",
       "      <td>0</td>\n",
       "      <td>0</td>\n",
       "      <td>0</td>\n",
       "      <td>0</td>\n",
       "      <td>0</td>\n",
       "      <td>...</td>\n",
       "      <td>1.0</td>\n",
       "      <td>0.0</td>\n",
       "      <td>0.0</td>\n",
       "      <td>0.0</td>\n",
       "      <td>0.0</td>\n",
       "      <td>0.0</td>\n",
       "      <td>0.0</td>\n",
       "      <td>0.0</td>\n",
       "      <td>0.0</td>\n",
       "      <td>0.0</td>\n",
       "    </tr>\n",
       "  </tbody>\n",
       "</table>\n",
       "<p>82204 rows × 118 columns</p>\n",
       "</div>"
      ],
      "text/plain": [
       "       duration  src_bytes  dst_bytes  land  wrong_fragment  urgent  hot  \\\n",
       "0             0       1032          0     0               0       0    0   \n",
       "45533         0          8          0     0               0       0    0   \n",
       "45534         0          8          0     0               0       0    0   \n",
       "45535         0          8          0     0               0       0    0   \n",
       "45536         0          8          0     0               0       0    0   \n",
       "...         ...        ...        ...   ...             ...     ...  ...   \n",
       "60866         0          0          0     0               0       0    0   \n",
       "60865         0          0          0     0               0       0    0   \n",
       "60864         0          0          0     0               0       0    0   \n",
       "60838         0          0          0     0               0       0    0   \n",
       "41101         0          0          0     0               0       0    0   \n",
       "\n",
       "       num_failed_logins  logged_in  num_compromised  ...  flag_REJ  \\\n",
       "0                      0          0                0  ...       0.0   \n",
       "45533                  0          0                0  ...       0.0   \n",
       "45534                  0          0                0  ...       0.0   \n",
       "45535                  0          0                0  ...       0.0   \n",
       "45536                  0          0                0  ...       0.0   \n",
       "...                  ...        ...              ...  ...       ...   \n",
       "60866                  0          0                0  ...       1.0   \n",
       "60865                  0          0                0  ...       1.0   \n",
       "60864                  0          0                0  ...       1.0   \n",
       "60838                  0          0                0  ...       1.0   \n",
       "41101                  0          0                0  ...       1.0   \n",
       "\n",
       "       flag_RSTO  flag_RSTOS0  flag_RSTR  flag_S0  flag_S1  flag_S2  flag_S3  \\\n",
       "0            0.0          0.0        0.0      0.0      0.0      0.0      0.0   \n",
       "45533        0.0          0.0        0.0      0.0      0.0      0.0      0.0   \n",
       "45534        0.0          0.0        0.0      0.0      0.0      0.0      0.0   \n",
       "45535        0.0          0.0        0.0      0.0      0.0      0.0      0.0   \n",
       "45536        0.0          0.0        0.0      0.0      0.0      0.0      0.0   \n",
       "...          ...          ...        ...      ...      ...      ...      ...   \n",
       "60866        0.0          0.0        0.0      0.0      0.0      0.0      0.0   \n",
       "60865        0.0          0.0        0.0      0.0      0.0      0.0      0.0   \n",
       "60864        0.0          0.0        0.0      0.0      0.0      0.0      0.0   \n",
       "60838        0.0          0.0        0.0      0.0      0.0      0.0      0.0   \n",
       "41101        0.0          0.0        0.0      0.0      0.0      0.0      0.0   \n",
       "\n",
       "       flag_SF  flag_SH  \n",
       "0          1.0      0.0  \n",
       "45533      1.0      0.0  \n",
       "45534      1.0      0.0  \n",
       "45535      1.0      0.0  \n",
       "45536      1.0      0.0  \n",
       "...        ...      ...  \n",
       "60866      0.0      0.0  \n",
       "60865      0.0      0.0  \n",
       "60864      0.0      0.0  \n",
       "60838      0.0      0.0  \n",
       "41101      0.0      0.0  \n",
       "\n",
       "[82204 rows x 118 columns]"
      ]
     },
     "execution_count": 37,
     "metadata": {},
     "output_type": "execute_result"
    }
   ],
   "source": [
    "sortme = X_encoded\n",
    "sortme.sort_values(axis=0, by='flag_REJ')"
   ]
  },
  {
   "cell_type": "code",
   "execution_count": null,
   "id": "ad1b2b7d",
   "metadata": {},
   "outputs": [],
   "source": [
    "# Label encoding of features - commented out because we used OneHotEncoding instead.\n",
    "\n",
    "# Columns 1, 2, and 3 contain strings. We will need to convert to numbers. Here are the values before encoding.\n",
    "#col1_ctr = Counter(X.iloc[:,1])\n",
    "#print(col1_ctr)\n",
    "\n",
    "#col2_ctr = Counter(X.iloc[:,2])\n",
    "#print(col2_ctr)\n",
    "\n",
    "#col3_ctr = Counter(X.iloc[:,3])\n",
    "#print(col3_ctr)\n",
    "\n",
    "# Use LabelEncoder to convert strings to integers for columns 1, 2, and 3.\n",
    "#from sklearn import preprocessing\n",
    "#le = preprocessing.LabelEncoder()\n",
    "\n",
    "#for i in [1, 2, 3]:\n",
    "#    X.iloc[:,i] = le.fit_transform(X.iloc[:,i])\n",
    "\n",
    "# Values of columns 1, 2, and 3 after encoding.\n",
    "#col1_ctr = Counter(X.iloc[:,1])\n",
    "#print(col1_ctr)\n",
    "\n",
    "#col2_ctr = Counter(X.iloc[:,2])\n",
    "#print(col2_ctr)\n",
    "\n",
    "#col3_ctr = Counter(X.iloc[:,3])\n",
    "#print(col3_ctr)"
   ]
  },
  {
   "cell_type": "code",
   "execution_count": 20,
   "id": "fa291989",
   "metadata": {},
   "outputs": [],
   "source": [
    "# Standardize the feature set data to help with training.\n",
    "from sklearn import preprocessing\n",
    "\n",
    "scaler = preprocessing.StandardScaler().fit(X_encoded)\n",
    "X_scaled = scaler.transform(X_encoded)"
   ]
  },
  {
   "cell_type": "code",
   "execution_count": 21,
   "id": "438fea8e",
   "metadata": {},
   "outputs": [
    {
     "name": "stdout",
     "output_type": "stream",
     "text": [
      "training set shape: (65763, 118)\n",
      "testing set shape: (16441, 118)\n"
     ]
    }
   ],
   "source": [
    "# Then split the data into a training set (80%) and testing set (20%).\n",
    "from sklearn.model_selection import train_test_split\n",
    "\n",
    "X_train, X_test, y_train, y_test = train_test_split(X_scaled, y1, test_size=0.2, random_state=0)\n",
    "print(f\"training set shape: {X_train.shape}\")\n",
    "print(f\"testing set shape: {X_test.shape}\")"
   ]
  },
  {
   "cell_type": "code",
   "execution_count": 22,
   "id": "0b362324",
   "metadata": {},
   "outputs": [
    {
     "name": "stdout",
     "output_type": "stream",
     "text": [
      "Accuracy of logistic regression classifier on train set: 0.99428\n",
      "Accuracy of logistic regression classifier on test set: 0.99343\n",
      "Number of Interation to converge : 282\n"
     ]
    }
   ],
   "source": [
    "from sklearn.linear_model import LogisticRegression\n",
    "logreg = LogisticRegression(random_state=0, max_iter=4000)\n",
    "\n",
    "logreg.fit(X_train, y_train)\n",
    "y_pred = logreg.predict(X_test)\n",
    "print('Accuracy of logistic regression classifier on train set: {:.5f}'.format(logreg.score(X_train, y_train)))\n",
    "print('Accuracy of logistic regression classifier on test set: {:.5f}'.format(logreg.score(X_test, y_test)))\n",
    "print('Number of Interation to converge :',(logreg.n_iter_[0]))"
   ]
  },
  {
   "cell_type": "code",
   "execution_count": 27,
   "id": "acda4f0b",
   "metadata": {},
   "outputs": [
    {
     "name": "stdout",
     "output_type": "stream",
     "text": [
      "[-3.38148703e+00  1.03890084e-01 -3.03633176e-03 -2.68795199e-02\n",
      " -3.12505017e-01  0.00000000e+00  8.75127570e-01 -4.75547710e-02\n",
      " -5.34665251e-01  3.55365913e-01 -2.34579303e-01 -2.94945820e-01\n",
      "  2.03572506e-01  9.80718446e-02 -2.13277345e-02 -1.72448077e-01\n",
      "  0.00000000e+00  0.00000000e+00 -1.58898192e+00  2.39628692e+00\n",
      " -3.90535127e+00  1.20425381e+00  1.27395330e+00  4.43296117e-01\n",
      "  3.04437697e+00  1.43100912e+00  4.28806974e+00  1.96216950e-01\n",
      " -2.00185418e+00  4.77493138e-02 -2.80540566e+00  4.79893122e-01\n",
      "  2.08297664e+00  1.36997474e+00 -1.68652091e+00 -2.19995781e+00\n",
      "  1.21308866e+00 -1.05843008e+00  8.81328324e-01 -1.26307331e+00\n",
      "  9.53208945e-01 -2.12140593e-01  2.82201156e-02 -1.24966639e-02\n",
      "  6.67445708e-03 -2.96786950e-02  1.24683677e-03  4.31098452e-03\n",
      "  3.32055614e-02  5.89940547e-02  3.42929170e-02  3.59994413e-02\n",
      "  6.76949454e-02 -4.34632418e-01  6.37463852e-02  1.11851936e+00\n",
      "  8.66944227e-02  1.79824057e-02  8.36422394e-03  6.58039628e-02\n",
      "  8.32167069e-02 -7.16138770e-02  9.67261815e-02  2.56735773e-03\n",
      "  1.56552532e-02 -8.61630471e-01  5.01787532e-03 -3.10133887e-02\n",
      "  6.83684693e-03 -4.39801971e-03 -7.05491048e-03  2.51807442e-02\n",
      "  3.93499843e-02  1.21175104e-02  5.73451244e-02  2.18156985e-02\n",
      "  8.04474569e-02  4.16642053e-02 -9.22640049e-03 -6.22117008e-03\n",
      " -8.66194577e-03  6.47742528e-02  3.08932553e-02  1.95224679e-02\n",
      " -1.78495898e-01 -1.44920076e+00  4.32049874e-02 -9.64367367e-03\n",
      "  3.73790105e-02 -3.23570251e-03  7.73278326e-01  8.00465728e-02\n",
      "  4.65709371e-02  3.68452887e-02  1.21455816e-01 -1.02560837e-02\n",
      "  6.34974854e-02  2.22353148e-02  5.31906720e-02  3.12531290e-02\n",
      "  5.75302117e-02  5.08015145e-02 -1.87105862e-01  3.42716525e-02\n",
      "  1.35314372e-02 -1.36665777e-02  5.46294233e-02  1.03273865e-01\n",
      " -4.38147233e+00 -4.64975896e-01  1.37273881e+00  1.17659053e+01\n",
      " -6.08787362e-01 -4.31891893e-03 -3.73682101e-02 -3.45655004e-02\n",
      " -3.15359944e+00  8.37786553e-01]\n"
     ]
    }
   ],
   "source": [
    "print(logreg.coef_[0])"
   ]
  },
  {
   "cell_type": "code",
   "execution_count": 28,
   "id": "a1063ac7",
   "metadata": {},
   "outputs": [
    {
     "data": {
      "text/plain": [
       "<AxesSubplot:>"
      ]
     },
     "execution_count": 28,
     "metadata": {},
     "output_type": "execute_result"
    },
    {
     "data": {
      "image/png": "[encoded data removed]",
      "text/plain": [
       "<Figure size 640x480 with 1 Axes>"
      ]
     },
     "metadata": {},
     "output_type": "display_data"
    }
   ],
   "source": [
    "log_odds = np.exp( logreg.coef_[0])\n",
    "feature_imp=pd.DataFrame(logreg.coef_[0], \n",
    "             X_encoded.columns, \n",
    "             columns=['coef'])\\\n",
    "            .sort_values(by='coef', ascending=False)\n",
    "(pd.Series(logreg.coef_[0], index=X_encoded.columns)\n",
    "   .nlargest(20)\n",
    "   .plot(kind='barh')) "
   ]
  },
  {
   "cell_type": "code",
   "execution_count": 38,
   "id": "4c154027",
   "metadata": {},
   "outputs": [
    {
     "data": {
      "text/plain": [
       "array([ 0.        ,  0.        ,  0.        ,  0.        ,  0.        ,\n",
       "        0.        ,  0.        ,  0.        , -0.30105695,  0.        ,\n",
       "        0.        ,  0.        ,  0.        ,  0.        ,  0.        ,\n",
       "        0.        ,  0.        ,  0.        ,  0.        ,  0.        ,\n",
       "       -0.81441499,  0.        ,  0.        ,  0.        ,  0.        ,\n",
       "        0.        ,  0.77183672,  0.        ,  0.        , -0.16567268,\n",
       "        0.        ,  1.54268216,  0.27644509,  0.08571266, -0.1414173 ,\n",
       "        0.        ,  0.        ,  0.        ,  0.        ,  0.        ,\n",
       "        0.02920818,  0.        ,  0.        ,  0.        ,  0.        ,\n",
       "        0.        ,  0.        ,  0.        ,  0.        ,  0.        ,\n",
       "        0.        ,  0.        ,  0.        ,  0.        ,  0.        ,\n",
       "        1.51810561, -0.26902609,  0.        ,  0.        ,  0.        ,\n",
       "        0.        ,  0.        ,  0.        ,  0.        ,  0.        ,\n",
       "        0.        ,  0.        ,  0.        ,  0.        ,  0.        ,\n",
       "        0.        ,  0.        ,  0.        ,  0.        ,  0.        ,\n",
       "        0.        ,  0.        ,  0.        ,  0.        ,  0.        ,\n",
       "        0.        ,  0.        ,  0.        ,  0.        ,  0.        ,\n",
       "        0.        ,  0.        ,  0.        ,  0.        ,  0.        ,\n",
       "        0.        ,  0.        ,  0.        ,  0.        ,  0.        ,\n",
       "        0.        ,  0.        ,  0.        ,  0.        ,  0.        ,\n",
       "        0.        ,  0.        ,  0.        ,  0.        ,  0.        ,\n",
       "        0.        ,  0.        ,  0.        ,  0.        ,  0.        ,\n",
       "        0.01306327,  0.46088818, -0.26272136,  0.        ,  0.        ,\n",
       "        0.        ,  0.        ,  0.        ])"
      ]
     },
     "execution_count": 38,
     "metadata": {},
     "output_type": "execute_result"
    }
   ],
   "source": [
    "logreg.coef_[0]"
   ]
  },
  {
   "cell_type": "code",
   "execution_count": 40,
   "id": "0c45b769",
   "metadata": {},
   "outputs": [
    {
     "data": {
      "text/plain": [
       "dst_host_diff_srv_rate         1.542682\n",
       "service_eco_i                  1.518106\n",
       "diff_srv_rate                  0.771837\n",
       "flag_RSTR                      0.460888\n",
       "dst_host_same_src_port_rate    0.276445\n",
       "dst_host_srv_diff_host_rate    0.085713\n",
       "protocol_type_udp              0.029208\n",
       "flag_RSTOS0                    0.013063\n",
       "duration                       0.000000\n",
       "src_bytes                      0.000000\n",
       "dst_bytes                      0.000000\n",
       "land                           0.000000\n",
       "wrong_fragment                 0.000000\n",
       "urgent                         0.000000\n",
       "hot                            0.000000\n",
       "num_failed_logins              0.000000\n",
       "num_compromised                0.000000\n",
       "root_shell                     0.000000\n",
       "su_attempted                   0.000000\n",
       "num_root                       0.000000\n",
       "dtype: float64"
      ]
     },
     "execution_count": 40,
     "metadata": {},
     "output_type": "execute_result"
    }
   ],
   "source": [
    "(pd.Series(logreg.coef_[0], index=X_encoded.columns)\n",
    "   .nlargest(20)) "
   ]
  },
  {
   "cell_type": "code",
   "execution_count": 29,
   "id": "0325fa41",
   "metadata": {},
   "outputs": [
    {
     "name": "stdout",
     "output_type": "stream",
     "text": [
      "Accuracy of logistic regression classifier on train set: 0.98037\n",
      "Accuracy of logistic regression classifier on test set: 0.97865\n",
      "Number of Interation to converge : 1945\n"
     ]
    }
   ],
   "source": [
    "logreg = LogisticRegression(random_state=0, max_iter=4000, penalty='l1', solver='saga', C=0.001)\n",
    "logreg.fit(X_train, y_train)\n",
    "y_pred = logreg.predict(X_test)\n",
    "print('Accuracy of logistic regression classifier on train set: {:.5f}'.format(logreg.score(X_train, y_train)))\n",
    "print('Accuracy of logistic regression classifier on test set: {:.5f}'.format(logreg.score(X_test, y_test)))\n",
    "print('Number of Interation to converge :',(logreg.n_iter_[0]))"
   ]
  },
  {
   "cell_type": "code",
   "execution_count": 30,
   "id": "362db29c",
   "metadata": {},
   "outputs": [
    {
     "data": {
      "text/plain": [
       "<AxesSubplot:>"
      ]
     },
     "execution_count": 30,
     "metadata": {},
     "output_type": "execute_result"
    },
    {
     "data": {
      "image/png": "[encoded data removed]",
      "text/plain": [
       "<Figure size 640x480 with 1 Axes>"
      ]
     },
     "metadata": {},
     "output_type": "display_data"
    }
   ],
   "source": [
    "data = X_encoded\n",
    "log_odds = np.exp( logreg.coef_[0])\n",
    "feature_imp=pd.DataFrame(log_odds, \n",
    "             data.columns, \n",
    "             columns=['coef'])\\\n",
    "            .sort_values(by='coef', ascending=False)\n",
    "(pd.Series(log_odds, index=data.columns)\n",
    "   .nlargest(20)\n",
    "   .plot(kind='barh')) "
   ]
  },
  {
   "cell_type": "markdown",
   "id": "046eee16",
   "metadata": {},
   "source": [
    "### Task 3b: Train the default LogisticRegression classifier, test against the testing set, and report the results"
   ]
  },
  {
   "cell_type": "code",
   "execution_count": 31,
   "id": "65580133",
   "metadata": {},
   "outputs": [
    {
     "name": "stdout",
     "output_type": "stream",
     "text": [
      "{'C': 1.0, 'class_weight': None, 'dual': False, 'fit_intercept': True, 'intercept_scaling': 1, 'l1_ratio': None, 'max_iter': 300, 'multi_class': 'auto', 'n_jobs': None, 'penalty': 'l2', 'random_state': 0, 'solver': 'lbfgs', 'tol': 0.0001, 'verbose': 0, 'warm_start': False}\n",
      "iterations required: [282]\n"
     ]
    }
   ],
   "source": [
    "# Train the LogisticRegression model with the training data.\n",
    "# After trial and error, 300 is roughly the minimum number of iterations at which the training will converge.\n",
    "from sklearn.linear_model import LogisticRegression\n",
    "clf = LogisticRegression(random_state=0, max_iter=300)\n",
    "print(clf.get_params())\n",
    "clf.fit(X_train, y_train)\n",
    "print(f\"iterations required: {clf.n_iter_}\")"
   ]
  },
  {
   "cell_type": "code",
   "execution_count": 32,
   "id": "38e7d7ec",
   "metadata": {},
   "outputs": [
    {
     "name": "stdout",
     "output_type": "stream",
     "text": [
      "train accuracy: 99.428%\n",
      "test accuracy: 99.343%\n",
      "test set - probe correct pct: 99.279%\n",
      "test set - nonprobe correct pct: 99.409%\n"
     ]
    }
   ],
   "source": [
    "# Determine the accuracy of the trained classifier against the training set and testing set.\n",
    "# Print out each accuracy.\n",
    "from sklearn.metrics import accuracy_score\n",
    "\n",
    "train_score = clf.score(X_train, y_train)\n",
    "test_score = clf.score(X_test, y_test)\n",
    "print(f\"train accuracy: {train_score*100:5.3f}%\")\n",
    "print(f\"test accuracy: {test_score*100:5.3f}%\")\n",
    "\n",
    "probe_correct = 0\n",
    "probe_incorrect = 0\n",
    "probe_total = 0\n",
    "nonprobe_correct = 0\n",
    "nonprobe_incorrect = 0\n",
    "nonprobe_total = 0\n",
    "for predicted, actual in zip(clf.predict(X_test), y_test):\n",
    "    if (actual == 1):\n",
    "        probe_total += 1\n",
    "        if (predicted == 1):\n",
    "            probe_correct += 1\n",
    "        else:\n",
    "            probe_incorrect += 1\n",
    "    else:\n",
    "        nonprobe_total += 1\n",
    "        if (predicted == 1):\n",
    "            nonprobe_incorrect += 1\n",
    "        else:\n",
    "            nonprobe_correct += 1\n",
    "        \n",
    "print(f\"test set - probe correct pct: {(probe_correct / probe_total)*100:5.3f}%\")\n",
    "print(f\"test set - nonprobe correct pct: {(nonprobe_correct / nonprobe_total)*100:5.3f}%\")"
   ]
  },
  {
   "cell_type": "code",
   "execution_count": 17,
   "id": "79d13b5e",
   "metadata": {},
   "outputs": [
    {
     "name": "stdout",
     "output_type": "stream",
     "text": [
      "              precision    recall  f1-score   support\n",
      "\n",
      "       probe     0.9942    0.9943    0.9943     32779\n",
      "    nonprobe     0.9944    0.9942    0.9943     32984\n",
      "\n",
      "    accuracy                         0.9943     65763\n",
      "   macro avg     0.9943    0.9943    0.9943     65763\n",
      "weighted avg     0.9943    0.9943    0.9943     65763\n",
      "\n"
     ]
    }
   ],
   "source": [
    "# Build classification report for training data set\n",
    "from sklearn.metrics import classification_report\n",
    "\n",
    "target_labels = [1, -1]\n",
    "target_names = ['probe', 'nonprobe']\n",
    "y_pred_train = clf.predict(X_train)\n",
    "print(classification_report(y_train, y_pred_train, labels=target_labels, target_names=target_names, digits=4))"
   ]
  },
  {
   "cell_type": "code",
   "execution_count": 18,
   "id": "e64d6d49",
   "metadata": {},
   "outputs": [
    {
     "name": "stdout",
     "output_type": "stream",
     "text": [
      "              precision    recall  f1-score   support\n",
      "\n",
      "       probe     0.9942    0.9928    0.9935      8323\n",
      "    nonprobe     0.9926    0.9941    0.9934      8118\n",
      "\n",
      "    accuracy                         0.9934     16441\n",
      "   macro avg     0.9934    0.9934    0.9934     16441\n",
      "weighted avg     0.9934    0.9934    0.9934     16441\n",
      "\n"
     ]
    }
   ],
   "source": [
    "# Build classification report for testing data set\n",
    "from sklearn.metrics import classification_report\n",
    "\n",
    "target_labels = [1, -1]\n",
    "target_names = ['probe', 'nonprobe']\n",
    "y_pred_test = clf.predict(X_test)\n",
    "print(classification_report(y_test, y_pred_test, labels=target_labels, target_names=target_names, digits=4))"
   ]
  },
  {
   "cell_type": "markdown",
   "id": "9208aa24",
   "metadata": {},
   "source": [
    "## Task 4: Summary of classification results\n",
    "The default LogisticRegression classifier (lbfgs solver with L2 regularization, C=1.0) needed 294 iterations to converge. Once trained, the accuracy of the classifier against both the training set and the test set is almost identical, at 99.4% for the training set and 99.3% for the test set. Our model is likely not overfit, because if it were, the accuracy of the model against the test set would be much lower than the accuracy against the training set. Overall, we're happy with our classifier, as 99.3% is a good accuracy against the testing set. In addition, precision and recall both look good for both the probe and nonprobe test cases, and the f1-scores look good."
   ]
  },
  {
   "cell_type": "markdown",
   "id": "fb23b718",
   "metadata": {},
   "source": [
    "## Task 5: Examine trained model parameters\n",
    "\n",
    "In this task we examine the coefficients in the trained classifier. First we plot the coefficients, then we look at the largest (most positive) and smallest (most negative) coeffients. Finally we summarize our analysis."
   ]
  },
  {
   "cell_type": "code",
   "execution_count": 124,
   "id": "82356179",
   "metadata": {},
   "outputs": [
    {
     "data": {
      "image/png": "[encoded data removed]",
      "text/plain": [
       "<Figure size 640x480 with 1 Axes>"
      ]
     },
     "metadata": {},
     "output_type": "display_data"
    }
   ],
   "source": [
    "# Plot of correlation values for each feature\n",
    "%matplotlib inline\n",
    "import matplotlib.pyplot as plt\n",
    "\n",
    "plt.bar(range(0, clf.coef_[0].size), clf.coef_[0], label='lbfgs L2')\n",
    "plt.xlabel('Features')\n",
    "plt.ylabel('Coefficient')\n",
    "plt.legend(loc='upper left')\n",
    "\n",
    "plt.show()"
   ]
  },
  {
   "cell_type": "code",
   "execution_count": 33,
   "id": "36148e7f",
   "metadata": {},
   "outputs": [
    {
     "name": "stdout",
     "output_type": "stream",
     "text": [
      "Most positively correlated features:\n",
      "flag_RSTR (111):  11.77\n",
      "diff_srv_rate (26):   4.29\n",
      "srv_rerror_rate (24):   3.04\n",
      "count (19):   2.40\n",
      "dst_host_same_src_port_rate (32):   2.08\n",
      "\n",
      "Most negatively correlated features:\n",
      "flag_REJ (108):  -4.38\n",
      "srv_count (20):  -3.91\n",
      "duration (0):  -3.38\n",
      "flag_SF (116):  -3.15\n",
      "dst_host_same_srv_rate (30):  -2.81\n"
     ]
    }
   ],
   "source": [
    "# Print number of each feature with its coeffiecient, in sorted order\n",
    "numFeatures = clf.coef_[0].size\n",
    "sorted_coef = np.empty(shape = (numFeatures,2), dtype=object)\n",
    "for i in range(numFeatures):\n",
    "    sorted_coef[i, 0] = i\n",
    "    sorted_coef[i, 1] = clf.coef_[0][i]\n",
    "\n",
    "sorted_coef = sorted_coef[sorted_coef[:,1].argsort()] \n",
    "\n",
    "print(\"Most positively correlated features:\")    \n",
    "for rank in range (numFeatures-1,numFeatures-6,-1): \n",
    "    colnum, coef = sorted_coef[rank]\n",
    "    print(f\"{X_encoded.columns[colnum]} ({colnum}): {coef:6.2f}\")    \n",
    "\n",
    "print()\n",
    "print(\"Most negatively correlated features:\")\n",
    "for coef_num, coef_val in sorted_coef[0:5]:    \n",
    "    print(f\"{X_encoded.columns[coef_num]} ({coef_num}): {coef_val:6.2f}\")"
   ]
  },
  {
   "cell_type": "markdown",
   "id": "e51b639d",
   "metadata": {},
   "source": [
    "## Analysis of Coefficient Values\n",
    "\n",
    "There are a large number of features (118, after using OneHotEncoding), but only a small number seem to have a major impact on the prediction, based on the coeffient values.\n",
    "\n",
    "Looking at the positively correlated features, the column \"flag_RSTR\" stands out. This indicates that a connection was established but then a RST was sent; this is highly indicative of a probing scan. \"diff_srv_rate\" indicates that the connecting host is connecting to a number of different services; this again makes sense as it is characteristic of a probe. \"srv_rerror_rate\" indicates the server sent a reject; this is a likely result of a probe where the prober is sending a lot of bogus connections, and a high number are rejected by the server.\n",
    "\n",
    "Now turning to negatively correlated features, we see that \"flag_REJ\" is the most negatively correlated. This seems suprising in that probes could trigger rejects, but perhaps other attacks (DOS, etc) are even more highly correlated with Rejects than probes. \"srv_count\", which indicates multiple connections to the same service, makes sense to be negatively correlated, since a probe is likely to hit many services instead of hitting the same service continuously. \"duration\" also makes sense to be negatively correlated, since a probe is likely to make a lot of short connections."
   ]
  },
  {
   "cell_type": "markdown",
   "id": "ca915ab6",
   "metadata": {},
   "source": [
    "## Task 6: Train with L1 and L2 Regularization\n",
    "\n",
    "The default solver (lbfgs) doesn't support L1, so we'll use the \"saga\" solver for this part, since it supports both L1 and L2. We will train an L1 and L2 classifier and compare the results from the two. Since we want to see some differences, we will set the regularization strength very high (C=0.001). This will likely decrease our accuracy, but will help us to see the differences between L1 and L2 regularization."
   ]
  },
  {
   "cell_type": "markdown",
   "id": "043ef4d9",
   "metadata": {},
   "source": [
    "### Task 6a: Train L1 and L2 Regularization classifiers, train them and report the results"
   ]
  },
  {
   "cell_type": "code",
   "execution_count": 35,
   "id": "aacacfbc",
   "metadata": {},
   "outputs": [
    {
     "name": "stdout",
     "output_type": "stream",
     "text": [
      "{'C': 0.001, 'class_weight': None, 'dual': False, 'fit_intercept': True, 'intercept_scaling': 1, 'l1_ratio': None, 'max_iter': 4000, 'multi_class': 'auto', 'n_jobs': None, 'penalty': 'l1', 'random_state': 0, 'solver': 'saga', 'tol': 0.0001, 'verbose': 0, 'warm_start': False}\n",
      "iterations required: [1945]\n"
     ]
    }
   ],
   "source": [
    "# Train saga L1 classifier\n",
    "from sklearn.linear_model import LogisticRegression\n",
    "clf2 = LogisticRegression(random_state=0, max_iter=4000, penalty=\"l1\", solver=\"saga\", C=0.001)\n",
    "print(clf2.get_params())\n",
    "clf2.fit(X_train, y_train)\n",
    "print(f\"iterations required: {clf2.n_iter_}\")"
   ]
  },
  {
   "cell_type": "code",
   "execution_count": 32,
   "id": "2b048359",
   "metadata": {},
   "outputs": [
    {
     "name": "stdout",
     "output_type": "stream",
     "text": [
      "{'C': 0.001, 'class_weight': None, 'dual': False, 'fit_intercept': True, 'intercept_scaling': 1, 'l1_ratio': None, 'max_iter': 2000, 'multi_class': 'auto', 'n_jobs': 6, 'penalty': 'l2', 'random_state': 0, 'solver': 'saga', 'tol': 0.0001, 'verbose': 0, 'warm_start': False}\n",
      "iterations required: [372]\n"
     ]
    }
   ],
   "source": [
    "# Train saga L2 classifier\n",
    "from sklearn.linear_model import LogisticRegression\n",
    "clf3 = LogisticRegression(random_state=0, max_iter=2000, penalty=\"l2\", solver=\"saga\", C=0.001)\n",
    "print(clf3.get_params())\n",
    "clf3.fit(X_train, y_train)\n",
    "print(f\"iterations required: {clf3.n_iter_}\")"
   ]
  },
  {
   "cell_type": "code",
   "execution_count": 36,
   "id": "17230d65",
   "metadata": {},
   "outputs": [
    {
     "name": "stdout",
     "output_type": "stream",
     "text": [
      "train accuracy (L1): 98.037%\n",
      "test accuracy (L1): 97.865%\n",
      "train accuracy (L2): 98.598%\n",
      "test accuracy (L2): 98.467%\n"
     ]
    }
   ],
   "source": [
    "# Determine the accuracy of the trained classifier against the training set and testing set.\n",
    "# Print out each accuracy.\n",
    "from sklearn.metrics import accuracy_score\n",
    "\n",
    "train_score2 = clf2.score(X_train, y_train)\n",
    "test_score2 = clf2.score(X_test, y_test)\n",
    "print(f\"train accuracy (L1): {train_score2*100:5.3f}%\")\n",
    "print(f\"test accuracy (L1): {test_score2*100:5.3f}%\")\n",
    "\n",
    "train_score3 = clf3.score(X_train, y_train)\n",
    "test_score3 = clf3.score(X_test, y_test)\n",
    "print(f\"train accuracy (L2): {train_score3*100:5.3f}%\")\n",
    "print(f\"test accuracy (L2): {test_score3*100:5.3f}%\")"
   ]
  },
  {
   "cell_type": "code",
   "execution_count": 37,
   "id": "60bc9dfd",
   "metadata": {},
   "outputs": [
    {
     "name": "stdout",
     "output_type": "stream",
     "text": [
      "              precision    recall  f1-score   support\n",
      "\n",
      "       probe     0.9876    0.9700    0.9787      8323\n",
      "    nonprobe     0.9698    0.9876    0.9786      8118\n",
      "\n",
      "    accuracy                         0.9787     16441\n",
      "   macro avg     0.9787    0.9788    0.9787     16441\n",
      "weighted avg     0.9788    0.9787    0.9787     16441\n",
      "\n"
     ]
    }
   ],
   "source": [
    "# Build classification report for L1 classifier\n",
    "from sklearn.metrics import classification_report\n",
    "\n",
    "target_labels = [1, -1]\n",
    "target_names = ['probe', 'nonprobe']\n",
    "y_pred_L1 = clf2.predict(X_test)\n",
    "print(classification_report(y_test, y_pred_L1, labels=target_labels, target_names=target_names, digits=4))"
   ]
  },
  {
   "cell_type": "code",
   "execution_count": 34,
   "id": "f4ed7efd",
   "metadata": {},
   "outputs": [
    {
     "name": "stdout",
     "output_type": "stream",
     "text": [
      "              precision    recall  f1-score   support\n",
      "\n",
      "       probe     0.9876    0.9821    0.9848      8323\n",
      "    nonprobe     0.9817    0.9873    0.9845      8118\n",
      "\n",
      "    accuracy                         0.9847     16441\n",
      "   macro avg     0.9847    0.9847    0.9847     16441\n",
      "weighted avg     0.9847    0.9847    0.9847     16441\n",
      "\n"
     ]
    }
   ],
   "source": [
    "# Build classification report for L2 classifier\n",
    "from sklearn.metrics import classification_report\n",
    "\n",
    "target_labels = [1, -1]\n",
    "target_names = ['probe', 'nonprobe']\n",
    "y_pred_L2 = clf3.predict(X_test)\n",
    "print(classification_report(y_test, y_pred_L2, labels=target_labels, target_names=target_names, digits=4))"
   ]
  },
  {
   "cell_type": "code",
   "execution_count": 38,
   "id": "97843b35",
   "metadata": {},
   "outputs": [
    {
     "data": {
      "image/png": "[encoded data removed]",
      "text/plain": [
       "<Figure size 640x480 with 1 Axes>"
      ]
     },
     "metadata": {},
     "output_type": "display_data"
    }
   ],
   "source": [
    "%matplotlib inline\n",
    "import matplotlib.pyplot as plt\n",
    "\n",
    "plt.plot(range(0, 118), clf2.coef_[0], marker='x', label='saga L1')\n",
    "plt.plot(range(0, 118), clf3.coef_[0], marker='v', label='saga L2')\n",
    "plt.xlabel('Features')\n",
    "plt.ylabel('Correlation')\n",
    "plt.legend(loc='upper right')\n",
    "\n",
    "plt.show()"
   ]
  },
  {
   "cell_type": "code",
   "execution_count": 39,
   "id": "8f56c220",
   "metadata": {},
   "outputs": [
    {
     "name": "stdout",
     "output_type": "stream",
     "text": [
      "L1: zero coef: 104 nonzero coef: 14\n",
      "L2: zero coef: 3 nonzero coef: 115\n"
     ]
    }
   ],
   "source": [
    "# Calculate number of zero coefficients for L1 and L2\n",
    "L1_zero_coef = 0\n",
    "L1_nonzero_coef = 0\n",
    "for c in clf2.coef_[0]:\n",
    "    if c==0:\n",
    "        L1_zero_coef += 1\n",
    "    else:\n",
    "        L1_nonzero_coef += 1\n",
    "\n",
    "L2_zero_coef = 0\n",
    "L2_nonzero_coef = 0\n",
    "for c in clf3.coef_[0]:\n",
    "    if c==0:\n",
    "        L2_zero_coef += 1\n",
    "    else:\n",
    "        L2_nonzero_coef += 1\n",
    "        \n",
    "print(f\"L1: zero coef: {L1_zero_coef} nonzero coef: {L1_nonzero_coef}\")\n",
    "print(f\"L2: zero coef: {L2_zero_coef} nonzero coef: {L2_nonzero_coef}\")"
   ]
  },
  {
   "cell_type": "markdown",
   "id": "90060c20",
   "metadata": {},
   "source": [
    "### Task 6b: Analysis of L1 vs L2 classifiers\n",
    "We find that with our high regularization strength (C=0.001), the accuracy of our classifiers is lower than with our default classifier. Note that our default classifier also used L2 regularization, but with a much lower strength (C=1). Our default classifier had a F1 score of 0.993 on the testing set, versus our results here of 0.979 for L1 and 0.985 for L2. We especially notice that L1 has low precision for nonprobe and low recall for probe, indicating a lot of false positives for nonprobe and false negatives for probe. This is likely a result of some features being over-reduced by the regularization.\n",
    "\n",
    "Knowing about L1 and L2 classifiers, we know that L1 classifiers tend to set coeffients to zero, whereas L2 tends to reduce coefficients to small but nonzero levels. Looking at the coeffients, we see that our L1 classifier has set 104 of the 118 coeffients to zero. This is very helpful if we want to reduce the number of features in our data set, as it identifies the 14 that are most important. However, based on our results, reducing the set to only 14 features has reduced our accuracy.\n",
    "\n",
    "While the plot of features to coefficients is hard to see since there are so many features, we can see that in general the L1 classifier has increased the coefficient values of some features above where the L2 classifier has them, which makes sense because as described above, our L1 classifier has focused on the 14 features it finds most important. While the L2 classifier has likely reduced the coefficients of many features, only 3 have been set to zero."
   ]
  },
  {
   "cell_type": "markdown",
   "id": "08d697d5",
   "metadata": {},
   "source": [
    "## Task 7: Try different strengths for L2 Regularization"
   ]
  },
  {
   "cell_type": "markdown",
   "id": "320985d9",
   "metadata": {},
   "source": [
    "### Task 7a: Create classifiers with different regularization strength, train and test them"
   ]
  },
  {
   "cell_type": "code",
   "execution_count": 41,
   "id": "824b597f",
   "metadata": {},
   "outputs": [
    {
     "name": "stdout",
     "output_type": "stream",
     "text": [
      "train accuracy (L2, 0.001): 98.598%\n",
      "test accuracy (L2, 0.001): 98.467%\n",
      "iterations required: [372]\n"
     ]
    }
   ],
   "source": [
    "# Train using L2, C=0.001\n",
    "from sklearn.linear_model import LogisticRegression\n",
    "\n",
    "clf4 = LogisticRegression(random_state=0, max_iter=4000, penalty=\"l2\", solver=\"saga\", C=0.001)\n",
    "clf4.fit(X_train, y_train)\n",
    "train_score4 = clf4.score(X_train, y_train)\n",
    "test_score4 = clf4.score(X_test, y_test)\n",
    "print(f\"train accuracy (L2, 0.001): {train_score4*100:5.3f}%\")\n",
    "print(f\"test accuracy (L2, 0.001): {test_score4*100:5.3f}%\")\n",
    "print(f\"iterations required: {clf4.n_iter_}\")"
   ]
  },
  {
   "cell_type": "code",
   "execution_count": 42,
   "id": "fa64beca",
   "metadata": {},
   "outputs": [
    {
     "name": "stdout",
     "output_type": "stream",
     "text": [
      "train accuracy (L2, 0.01): 98.823%\n",
      "test accuracy (L2, 0.01): 98.704%\n",
      "iterations required: [1129]\n"
     ]
    }
   ],
   "source": [
    "#Train using L2, C=0.01\n",
    "clf5 = LogisticRegression(random_state=0, max_iter=4000, penalty=\"l2\", solver=\"saga\", C=0.01)\n",
    "clf5.fit(X_train, y_train)\n",
    "train_score5 = clf5.score(X_train, y_train)\n",
    "test_score5 = clf5.score(X_test, y_test)\n",
    "print(f\"train accuracy (L2, 0.01): {train_score5*100:5.3f}%\")\n",
    "print(f\"test accuracy (L2, 0.01): {test_score5*100:5.3f}%\")\n",
    "print(f\"iterations required: {clf5.n_iter_}\")"
   ]
  },
  {
   "cell_type": "code",
   "execution_count": 44,
   "id": "c63710af",
   "metadata": {},
   "outputs": [
    {
     "name": "stdout",
     "output_type": "stream",
     "text": [
      "train accuracy (L2, 0.1): 99.150%\n",
      "test accuracy (L2, 0.1): 99.057%\n",
      "iterations required: [1787]\n"
     ]
    }
   ],
   "source": [
    "#Train using L2, C=0.1\n",
    "clf6 = LogisticRegression(random_state=0, max_iter=4000, penalty=\"l2\", solver=\"saga\", C=0.1)\n",
    "clf6.fit(X_train, y_train)\n",
    "train_score6 = clf6.score(X_train, y_train)\n",
    "test_score6 = clf6.score(X_test, y_test)\n",
    "print(f\"train accuracy (L2, 0.1): {train_score6*100:5.3f}%\")\n",
    "print(f\"test accuracy (L2, 0.1): {test_score6*100:5.3f}%\")\n",
    "print(f\"iterations required: {clf6.n_iter_}\")"
   ]
  },
  {
   "cell_type": "code",
   "execution_count": 46,
   "id": "a4845927",
   "metadata": {},
   "outputs": [
    {
     "name": "stdout",
     "output_type": "stream",
     "text": [
      "train accuracy (L2, 1): 99.243%\n",
      "test accuracy (L2, 1): 99.148%\n",
      "iterations required: [1945]\n"
     ]
    }
   ],
   "source": [
    "#Train using L2, C=1\n",
    "clf7 = LogisticRegression(random_state=0, max_iter=4000, penalty=\"l2\", solver=\"saga\", C=1)\n",
    "clf7.fit(X_train, y_train)\n",
    "train_score7 = clf7.score(X_train, y_train)\n",
    "test_score7 = clf7.score(X_test, y_test)\n",
    "print(f\"train accuracy (L2, 1): {train_score7*100:5.3f}%\")\n",
    "print(f\"test accuracy (L2, 1): {test_score7*100:5.3f}%\")\n",
    "print(f\"iterations required: {clf7.n_iter_}\")"
   ]
  },
  {
   "cell_type": "code",
   "execution_count": 48,
   "id": "218a7855",
   "metadata": {},
   "outputs": [
    {
     "name": "stdout",
     "output_type": "stream",
     "text": [
      "train accuracy (L2, 10): 99.263%\n",
      "test accuracy (L2, 10): 99.173%\n",
      "iterations required: [1965]\n"
     ]
    }
   ],
   "source": [
    "#Train using L2, C=10\n",
    "clf8 = LogisticRegression(random_state=0, max_iter=4000, penalty=\"l2\", solver=\"saga\", C=10)\n",
    "clf8.fit(X_train, y_train)\n",
    "train_score8 = clf8.score(X_train, y_train)\n",
    "test_score8 = clf8.score(X_test, y_test)\n",
    "print(f\"train accuracy (L2, 10): {train_score8*100:5.3f}%\")\n",
    "print(f\"test accuracy (L2, 10): {test_score8*100:5.3f}%\")\n",
    "print(f\"iterations required: {clf8.n_iter_}\")"
   ]
  },
  {
   "cell_type": "code",
   "execution_count": 50,
   "id": "b1cd12dc",
   "metadata": {},
   "outputs": [
    {
     "name": "stdout",
     "output_type": "stream",
     "text": [
      "train accuracy (L2, 100): 99.266%\n",
      "test accuracy (L2, 100): 99.173%\n",
      "iterations required: [1969]\n"
     ]
    }
   ],
   "source": [
    "#Train using L2, C=100\n",
    "clf9 = LogisticRegression(random_state=0, max_iter=4000, penalty=\"l2\", solver=\"saga\", C=100)\n",
    "clf9.fit(X_train, y_train)\n",
    "train_score9 = clf9.score(X_train, y_train)\n",
    "test_score9 = clf9.score(X_test, y_test)\n",
    "print(f\"train accuracy (L2, 100): {train_score9*100:5.3f}%\")\n",
    "print(f\"test accuracy (L2, 100): {test_score9*100:5.3f}%\")\n",
    "print(f\"iterations required: {clf9.n_iter_}\")"
   ]
  },
  {
   "cell_type": "markdown",
   "id": "54096249",
   "metadata": {},
   "source": [
    "### Task 7b: Plot and explain the results\n",
    "\n",
    "We see that the accuracy of the classifier against both the training and testing set decreases as we increase the regularization strength. This tells us that our training set is pretty good, and increasing the bias only decreases the accuracy. This makes sense, since we have a good number of training records (65763) as compared to the number of features (118). It also indicates there is probably not a lot of \"noise\" in the training set; regularization would help reduce the impact of noise."
   ]
  },
  {
   "cell_type": "code",
   "execution_count": 127,
   "id": "b9197f60",
   "metadata": {},
   "outputs": [
    {
     "data": {
      "image/png": "[encoded data removed]",
      "text/plain": [
       "<Figure size 640x480 with 1 Axes>"
      ]
     },
     "metadata": {},
     "output_type": "display_data"
    }
   ],
   "source": [
    "C_values = np.array([0.001, 0.01, 0.1, 1.0, 10, 100])\n",
    "train_accuracies = np.array([train_score4, train_score5, train_score6, train_score7, train_score8, train_score9])\n",
    "test_accuracies = np.array([test_score4, test_score5, test_score6, test_score7, test_score8, test_score9])\n",
    "\n",
    "plt.plot(C_values, train_accuracies, label='train set')\n",
    "plt.plot(C_values, test_accuracies, label='test set')\n",
    "plt.ylabel('accuracy')\n",
    "plt.xlabel('C')\n",
    "plt.legend(loc='upper left')\n",
    "plt.xscale('log')\n",
    "plt.show()"
   ]
  },
  {
   "cell_type": "markdown",
   "id": "11fe96c9",
   "metadata": {},
   "source": [
    "### Examine impact of C on coeffients\n",
    "In addition, we can examine the impact that C has on different coefficients. First we print out the features with the highest absolute values, when C is very low (0.001) and when C is very high (100). We will focus on the features with high positive or high negative coefficients at one or both of those extreme values for C. Then we plot the value of the coeffients for those features versus C, to see how they change as C changes."
   ]
  },
  {
   "cell_type": "code",
   "execution_count": 78,
   "id": "016e390b",
   "metadata": {},
   "outputs": [
    {
     "name": "stdout",
     "output_type": "stream",
     "text": [
      "Most positively correlated features (C=0.001):\n",
      "diff_srv_rate (26):   1.04\n",
      "dst_host_diff_srv_rate (31):   0.88\n",
      "service_eco_i (55):   0.69\n",
      "dst_host_srv_diff_host_rate (33):   0.50\n",
      "flag_RSTR (111):   0.49\n",
      "\n",
      "Most negatively correlated features (C=0.001):\n",
      "dst_host_count (28):  -0.53\n",
      "srv_count (20):  -0.52\n",
      "service_ecr_i (56):  -0.50\n",
      "service_http (65):  -0.41\n",
      "dst_host_srv_count (29):  -0.35\n"
     ]
    }
   ],
   "source": [
    "# Print features with highest absolute value, C=0.001\n",
    "numFeatures = clf4.coef_[0].size\n",
    "sorted_coef = np.empty(shape = (numFeatures,2), dtype=object)\n",
    "for i in range(numFeatures):\n",
    "    sorted_coef[i, 0] = i\n",
    "    sorted_coef[i, 1] = clf4.coef_[0][i]\n",
    "\n",
    "sorted_coef = sorted_coef[sorted_coef[:,1].argsort()] \n",
    "\n",
    "print(\"Most positively correlated features (C=0.001):\")    \n",
    "for rank in range (numFeatures-1,numFeatures-6,-1): \n",
    "    colnum, coef = sorted_coef[rank]\n",
    "    print(f\"{X_encoded.columns[colnum]} ({colnum}): {coef:6.2f}\")    \n",
    "\n",
    "print()\n",
    "print(\"Most negatively correlated features (C=0.001):\")\n",
    "for coef_num, coef_val in sorted_coef[0:5]:    \n",
    "    print(f\"{X_encoded.columns[coef_num]} ({coef_num}): {coef_val:6.2f}\")"
   ]
  },
  {
   "cell_type": "code",
   "execution_count": 80,
   "id": "607b1b54",
   "metadata": {},
   "outputs": [
    {
     "name": "stdout",
     "output_type": "stream",
     "text": [
      "Most positively correlated features (C=100):\n",
      "diff_srv_rate (26):   3.41\n",
      "flag_RSTR (111):   1.86\n",
      "dst_host_diff_srv_rate (31):   1.52\n",
      "dst_host_same_src_port_rate (32):   1.38\n",
      "service_eco_i (55):   1.24\n",
      "\n",
      "Most negatively correlated features (C=100):\n",
      "dst_host_count (28):  -1.56\n",
      "srv_count (20):  -1.15\n",
      "flag_REJ (108):  -1.07\n",
      "dst_host_serror_rate (34):  -0.83\n",
      "service_other (85):  -0.81\n"
     ]
    }
   ],
   "source": [
    "# Print features with highest absolute value, C=100\n",
    "numFeatures = clf9.coef_[0].size\n",
    "sorted_coef = np.empty(shape = (numFeatures,2), dtype=object)\n",
    "for i in range(numFeatures):\n",
    "    sorted_coef[i, 0] = i\n",
    "    sorted_coef[i, 1] = clf9.coef_[0][i]\n",
    "\n",
    "sorted_coef = sorted_coef[sorted_coef[:,1].argsort()] \n",
    "\n",
    "print(\"Most positively correlated features (C=100):\")    \n",
    "for rank in range (numFeatures-1,numFeatures-6,-1): \n",
    "    colnum, coef = sorted_coef[rank]\n",
    "    print(f\"{X_encoded.columns[colnum]} ({colnum}): {coef:6.2f}\")    \n",
    "\n",
    "print()\n",
    "print(\"Most negatively correlated features (C=100):\")\n",
    "for coef_num, coef_val in sorted_coef[0:5]:    \n",
    "    print(f\"{X_encoded.columns[coef_num]} ({coef_num}): {coef_val:6.2f}\")"
   ]
  },
  {
   "cell_type": "markdown",
   "id": "9983c853",
   "metadata": {},
   "source": [
    "### Plot of coeffients versus C for features with highly positive coefficients"
   ]
  },
  {
   "cell_type": "code",
   "execution_count": 110,
   "id": "eeaf1c9b",
   "metadata": {},
   "outputs": [
    {
     "data": {
      "image/png": "[encoded data removed]",
      "text/plain": [
       "<Figure size 640x480 with 1 Axes>"
      ]
     },
     "metadata": {},
     "output_type": "display_data"
    }
   ],
   "source": [
    "C_values = np.array([0.001, 0.01, 0.1, 1.0, 10, 100])\n",
    "\n",
    "# Include column numbers for features that are in the top 5 for C=0.001 and/or C=100\n",
    "colnum=[26, 31, 32, 33, 55, 111]\n",
    "\n",
    "coef = []\n",
    "label = []\n",
    "for i in range(len(colnum)):\n",
    "    coef.append(np.array([clf4.coef_[0][colnum[i]], clf5.coef_[0][colnum[i]], clf6.coef_[0][colnum[i]], clf7.coef_[0][colnum[i]], clf8.coef_[0][colnum[i]], clf9.coef_[0][colnum[i]]]))\n",
    "    label.append(X_encoded.columns[colnum[i]])\n",
    "    \n",
    "plt.clf()\n",
    "for i in range(len(coef)):\n",
    "    plt.plot(C_values, coef[i], label=label[i])\n",
    "plt.ylabel('weight coefficient')\n",
    "plt.xlabel('C')\n",
    "plt.legend(loc='upper left')\n",
    "plt.xscale('log')\n",
    "plt.show()"
   ]
  },
  {
   "cell_type": "markdown",
   "id": "fe241379",
   "metadata": {},
   "source": [
    "### Plot of coeffients versus C for features with highly negative coefficients"
   ]
  },
  {
   "cell_type": "code",
   "execution_count": 111,
   "id": "bbbe6c93",
   "metadata": {},
   "outputs": [
    {
     "data": {
      "image/png": "[encoded data removed]",
      "text/plain": [
       "<Figure size 640x480 with 1 Axes>"
      ]
     },
     "metadata": {},
     "output_type": "display_data"
    }
   ],
   "source": [
    "C_values = np.array([0.001, 0.01, 0.1, 1.0, 10, 100])\n",
    "\n",
    "# Include column numbers for features that are in the lowest 5 for C=0.001 and/or C=100\n",
    "colnum=[20, 28, 29, 34, 56, 65, 85, 108]\n",
    "\n",
    "coef = []\n",
    "label = []\n",
    "for i in range(len(colnum)):\n",
    "    coef.append(np.array([clf4.coef_[0][colnum[i]], clf5.coef_[0][colnum[i]], clf6.coef_[0][colnum[i]], clf7.coef_[0][colnum[i]], clf8.coef_[0][colnum[i]], clf9.coef_[0][colnum[i]]]))\n",
    "    label.append(X_encoded.columns[colnum[i]])\n",
    "    \n",
    "plt.clf()\n",
    "for i in range(len(coef)):\n",
    "    plt.plot(C_values, coef[i], label=label[i])\n",
    "plt.ylabel('weight coefficient')\n",
    "plt.xlabel('C')\n",
    "plt.legend(loc='lower left')\n",
    "plt.xscale('log')\n",
    "plt.show()"
   ]
  },
  {
   "cell_type": "markdown",
   "id": "697e4c84",
   "metadata": {},
   "source": [
    "We can easily see that all the coefficient values decrease in absolute value as C gets smaller (regularization strength increases). What's more important is their value relative to each other. We can see that some features become more important as C decreases, which other features become less important. Assumedly, those features that decrease in value are probably less consistently related to positive (or negative) cases, and so are treated as \"noise\" and lessened in importance in the bias vs variance tradeoff. The features that increase in importance are probably more consistently related to positive (or negative) cases. Overall, we find that increasing regularization strength doesn't help increase the accuracy for this data set, but it is interesting to see the effect on the coeffienct values as the regularization strength increases."
   ]
  }
 ],
 "metadata": {
  "kernelspec": {
   "display_name": "Python 3 (ipykernel)",
   "language": "python",
   "name": "python3"
  },
  "language_info": {
   "codemirror_mode": {
    "name": "ipython",
    "version": 3
   },
   "file_extension": ".py",
   "mimetype": "text/x-python",
   "name": "python",
   "nbconvert_exporter": "python",
   "pygments_lexer": "ipython3",
   "version": "3.10.6"
  }
 },
 "nbformat": 4,
 "nbformat_minor": 5
}
